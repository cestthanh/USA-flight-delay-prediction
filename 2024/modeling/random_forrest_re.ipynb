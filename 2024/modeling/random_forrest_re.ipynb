{
 "cells": [
  {
   "cell_type": "code",
   "execution_count": 7,
   "id": "99939608",
   "metadata": {},
   "outputs": [],
   "source": [
    "import pandas as pd\n",
    "import numpy as np\n",
    "import matplotlib.pyplot as plt\n",
    "from sklearn.model_selection import train_test_split, GridSearchCV\n",
    "from sklearn.ensemble import RandomForestRegressor\n",
    "from sklearn.metrics import mean_absolute_error, mean_squared_error, r2_score"
   ]
  },
  {
   "cell_type": "code",
   "execution_count": 8,
   "id": "eaa947c2",
   "metadata": {},
   "outputs": [
    {
     "data": {
      "text/html": [
       "<div>\n",
       "<style scoped>\n",
       "    .dataframe tbody tr th:only-of-type {\n",
       "        vertical-align: middle;\n",
       "    }\n",
       "\n",
       "    .dataframe tbody tr th {\n",
       "        vertical-align: top;\n",
       "    }\n",
       "\n",
       "    .dataframe thead th {\n",
       "        text-align: right;\n",
       "    }\n",
       "</style>\n",
       "<table border=\"1\" class=\"dataframe\">\n",
       "  <thead>\n",
       "    <tr style=\"text-align: right;\">\n",
       "      <th></th>\n",
       "      <th>MONTH</th>\n",
       "      <th>DAY_OF_MONTH</th>\n",
       "      <th>DAY_OF_WEEK</th>\n",
       "      <th>CRS_DEP_TIME</th>\n",
       "      <th>TAXI_OUT</th>\n",
       "      <th>CRS_ELAPSED_TIME</th>\n",
       "      <th>DISTANCE</th>\n",
       "      <th>DEP_DELAY</th>\n",
       "      <th>OP_UNIQUE_CARRIER_Label</th>\n",
       "      <th>ORIGIN_Label</th>\n",
       "      <th>DEST_Label</th>\n",
       "    </tr>\n",
       "  </thead>\n",
       "  <tbody>\n",
       "    <tr>\n",
       "      <th>0</th>\n",
       "      <td>4</td>\n",
       "      <td>1</td>\n",
       "      <td>1</td>\n",
       "      <td>5.25</td>\n",
       "      <td>13.0</td>\n",
       "      <td>211</td>\n",
       "      <td>1477</td>\n",
       "      <td>11.0</td>\n",
       "      <td>0</td>\n",
       "      <td>2</td>\n",
       "      <td>21</td>\n",
       "    </tr>\n",
       "    <tr>\n",
       "      <th>1</th>\n",
       "      <td>4</td>\n",
       "      <td>1</td>\n",
       "      <td>1</td>\n",
       "      <td>13.32</td>\n",
       "      <td>16.0</td>\n",
       "      <td>223</td>\n",
       "      <td>1477</td>\n",
       "      <td>12.0</td>\n",
       "      <td>0</td>\n",
       "      <td>2</td>\n",
       "      <td>21</td>\n",
       "    </tr>\n",
       "    <tr>\n",
       "      <th>2</th>\n",
       "      <td>4</td>\n",
       "      <td>1</td>\n",
       "      <td>1</td>\n",
       "      <td>6.75</td>\n",
       "      <td>13.0</td>\n",
       "      <td>173</td>\n",
       "      <td>1020</td>\n",
       "      <td>-6.0</td>\n",
       "      <td>0</td>\n",
       "      <td>2</td>\n",
       "      <td>61</td>\n",
       "    </tr>\n",
       "    <tr>\n",
       "      <th>3</th>\n",
       "      <td>4</td>\n",
       "      <td>1</td>\n",
       "      <td>1</td>\n",
       "      <td>15.12</td>\n",
       "      <td>13.0</td>\n",
       "      <td>173</td>\n",
       "      <td>1020</td>\n",
       "      <td>-6.0</td>\n",
       "      <td>0</td>\n",
       "      <td>2</td>\n",
       "      <td>61</td>\n",
       "    </tr>\n",
       "    <tr>\n",
       "      <th>4</th>\n",
       "      <td>4</td>\n",
       "      <td>1</td>\n",
       "      <td>1</td>\n",
       "      <td>6.00</td>\n",
       "      <td>29.0</td>\n",
       "      <td>306</td>\n",
       "      <td>2279</td>\n",
       "      <td>-2.0</td>\n",
       "      <td>0</td>\n",
       "      <td>5</td>\n",
       "      <td>15</td>\n",
       "    </tr>\n",
       "  </tbody>\n",
       "</table>\n",
       "</div>"
      ],
      "text/plain": [
       "   MONTH  DAY_OF_MONTH  DAY_OF_WEEK  CRS_DEP_TIME  TAXI_OUT  CRS_ELAPSED_TIME  \\\n",
       "0      4             1            1          5.25      13.0               211   \n",
       "1      4             1            1         13.32      16.0               223   \n",
       "2      4             1            1          6.75      13.0               173   \n",
       "3      4             1            1         15.12      13.0               173   \n",
       "4      4             1            1          6.00      29.0               306   \n",
       "\n",
       "   DISTANCE  DEP_DELAY  OP_UNIQUE_CARRIER_Label  ORIGIN_Label  DEST_Label  \n",
       "0      1477       11.0                        0             2          21  \n",
       "1      1477       12.0                        0             2          21  \n",
       "2      1020       -6.0                        0             2          61  \n",
       "3      1020       -6.0                        0             2          61  \n",
       "4      2279       -2.0                        0             5          15  "
      ]
     },
     "execution_count": 8,
     "metadata": {},
     "output_type": "execute_result"
    }
   ],
   "source": [
    "df = pd.read_csv(\"clean_data_label.csv\")\n",
    "df.shape\n",
    "df.head(5)"
   ]
  },
  {
   "cell_type": "code",
   "execution_count": 9,
   "id": "514092d0",
   "metadata": {},
   "outputs": [],
   "source": [
    "X = df.drop(columns=[\"DEP_DELAY\"])\n",
    "y = df[\"DEP_DELAY\"]"
   ]
  },
  {
   "cell_type": "code",
   "execution_count": 10,
   "id": "4d1914b8",
   "metadata": {},
   "outputs": [
    {
     "name": "stdout",
     "output_type": "stream",
     "text": [
      "Train size: (39334, 10), Test size: (9834, 10)\n"
     ]
    }
   ],
   "source": [
    "X_train, X_test, y_train, y_test = train_test_split(\n",
    "    X, y, test_size=0.2, random_state=42\n",
    ")\n",
    "print(f\"Train size: {X_train.shape}, Test size: {X_test.shape}\")"
   ]
  },
  {
   "cell_type": "code",
   "execution_count": 11,
   "id": "74dbceb6",
   "metadata": {},
   "outputs": [],
   "source": [
    "#--------------------------------------------------------#\n",
    "# 3️⃣ Thiết lập tham số GridSearch\n",
    "#--------------------------------------------------------#\n",
    "param_grid = {\n",
    "    'n_estimators': [100, 200, 300],       # Số cây\n",
    "    'max_depth': [10, 20, None],           # Độ sâu\n",
    "    'min_samples_split': [2, 5, 10],       # Số mẫu tối thiểu để tách node\n",
    "    'min_samples_leaf': [1, 2, 4]          # Số mẫu tối thiểu ở node lá\n",
    "}\n",
    "\n",
    "rf = RandomForestRegressor(random_state=42, n_jobs=-1)\n",
    "\n",
    "grid = GridSearchCV(\n",
    "    estimator=rf,\n",
    "    param_grid=param_grid,\n",
    "    cv=3,                  # 3-fold CV\n",
    "    scoring='r2',          # Đánh giá theo R²\n",
    "    n_jobs=-1,             # Dùng toàn bộ CPU\n",
    "    verbose=2\n",
    ")\n"
   ]
  },
  {
   "cell_type": "code",
   "execution_count": 12,
   "id": "26924949",
   "metadata": {},
   "outputs": [
    {
     "name": "stdout",
     "output_type": "stream",
     "text": [
      "\n",
      "🔍 Đang tìm tham số tốt nhất qua cross-validation (cv=3)...\n",
      "Fitting 3 folds for each of 81 candidates, totalling 243 fits\n",
      "\n",
      "✅ Grid Search hoàn tất!\n",
      "Best Parameters: {'max_depth': 20, 'min_samples_leaf': 4, 'min_samples_split': 10, 'n_estimators': 300}\n",
      "Best CV R² Score: 0.0248\n"
     ]
    }
   ],
   "source": [
    "#--------------------------------------------------------#\n",
    "# 4️⃣ Huấn luyện với GridSearchCV\n",
    "#--------------------------------------------------------#\n",
    "print(\"\\n🔍 Đang tìm tham số tốt nhất qua cross-validation (cv=3)...\")\n",
    "grid.fit(X_train, y_train)\n",
    "\n",
    "print(\"\\n✅ Grid Search hoàn tất!\")\n",
    "print(\"Best Parameters:\", grid.best_params_)\n",
    "print(f\"Best CV R² Score: {grid.best_score_:.4f}\")"
   ]
  },
  {
   "cell_type": "code",
   "execution_count": 13,
   "id": "fa907d86",
   "metadata": {},
   "outputs": [
    {
     "name": "stdout",
     "output_type": "stream",
     "text": [
      "\n",
      "📊 Hiệu năng Random Forest (với best parameters):\n",
      "MAE   = 17.531 phút\n",
      "RMSE  = 35.031 phút\n",
      "R²    = 0.0184\n",
      "MAPE  = 272.89%\n"
     ]
    }
   ],
   "source": [
    "#--------------------------------------------------------#\n",
    "# 5️⃣ Đánh giá trên test set\n",
    "#--------------------------------------------------------#\n",
    "best_rf = grid.best_estimator_\n",
    "y_pred = best_rf.predict(X_test)\n",
    "\n",
    "mae  = mean_absolute_error(y_test, y_pred)\n",
    "rmse = np.sqrt(mean_squared_error(y_test, y_pred))\n",
    "r2   = r2_score(y_test, y_pred)\n",
    "mape = np.mean(np.abs((y_test - y_pred) / y_test.replace(0, np.nan))) * 100\n",
    "\n",
    "print(\"\\n📊 Hiệu năng Random Forest (với best parameters):\")\n",
    "print(f\"MAE   = {mae:.3f} phút\")\n",
    "print(f\"RMSE  = {rmse:.3f} phút\")\n",
    "print(f\"R²    = {r2:.4f}\")\n",
    "print(f\"MAPE  = {mape:.2f}%\")"
   ]
  },
  {
   "cell_type": "code",
   "execution_count": null,
   "id": "ab7ba52a",
   "metadata": {},
   "outputs": [],
   "source": []
  }
 ],
 "metadata": {
  "kernelspec": {
   "display_name": "Python 3",
   "language": "python",
   "name": "python3"
  },
  "language_info": {
   "codemirror_mode": {
    "name": "ipython",
    "version": 3
   },
   "file_extension": ".py",
   "mimetype": "text/x-python",
   "name": "python",
   "nbconvert_exporter": "python",
   "pygments_lexer": "ipython3",
   "version": "3.11.9"
  }
 },
 "nbformat": 4,
 "nbformat_minor": 5
}
