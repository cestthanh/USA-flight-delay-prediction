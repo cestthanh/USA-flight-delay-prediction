{
 "cells": [
  {
   "cell_type": "code",
   "execution_count": 1,
   "id": "e5d2ba85",
   "metadata": {},
   "outputs": [
    {
     "name": "stdout",
     "output_type": "stream",
     "text": [
      "    OP_UNIQUE_CARRIER  OP_UNIQUE_CARRIER_Label\n",
      "0                  AA                        0\n",
      "17                 AS                        1\n",
      "242                B6                        2\n",
      "244                DL                        3\n",
      "336                F9                        4\n",
      "339                G4                        5\n",
      "344                HA                        6\n",
      "346                MQ                        7\n",
      "348                NK                        8\n",
      "350                OO                        9\n",
      "455                UA                       10\n",
      "479                WN                       11\n",
      "    ORIGIN  ORIGIN_Label\n",
      "350    ALW             0\n",
      "339    BLI             1\n",
      "0      GEG             2\n",
      "24     PAE             3\n",
      "29     PSC             4\n",
      "4      SEA             5\n",
      "    DEST  DEST_Label\n",
      "30   ABQ           0\n",
      "385  ALW           1\n",
      "31   ANC           2\n",
      "44   ATL           3\n",
      "47   AUS           4\n",
      "..   ...         ...\n",
      "228  SNA          80\n",
      "235  STL          81\n",
      "237  STS          82\n",
      "238  TPA          83\n",
      "240  TUS          84\n",
      "\n",
      "[85 rows x 2 columns]\n"
     ]
    }
   ],
   "source": [
    "# --- Import libraries ---\n",
    "import pandas as pd\n",
    "from sklearn.preprocessing import LabelEncoder\n",
    "\n",
    "# --- Load dataset ---\n",
    "df = pd.read_csv(\"clean_data_encode.csv\")  # thay tên file theo dataset của bạn\n",
    "\n",
    "# --- Create label encoders for categorical variables ---\n",
    "le_carrier = LabelEncoder()\n",
    "le_origin = LabelEncoder()\n",
    "le_dest = LabelEncoder()\n",
    "\n",
    "# --- Apply label encoding ---\n",
    "df['OP_UNIQUE_CARRIER_Label'] = le_carrier.fit_transform(df['OP_UNIQUE_CARRIER'])\n",
    "df['ORIGIN_Label'] = le_origin.fit_transform(df['ORIGIN'])\n",
    "df['DEST_Label'] = le_dest.fit_transform(df['DEST'])\n",
    "\n",
    "# --- (Optional) Drop old columns nếu không cần nữa ---\n",
    "# df = df.drop(['OP_UNIQUE_CARRIER', 'ORIGIN', 'DEST'], axis=1)\n",
    "\n",
    "# --- Save updated dataset ---\n",
    "df.to_csv(\"clean_data_label.csv\", index=False)\n",
    "\n",
    "# --- Check result ---\n",
    "print(df[['OP_UNIQUE_CARRIER', 'OP_UNIQUE_CARRIER_Label']].drop_duplicates().sort_values('OP_UNIQUE_CARRIER_Label'))\n",
    "print(df[['ORIGIN', 'ORIGIN_Label']].drop_duplicates().sort_values('ORIGIN_Label'))\n",
    "print(df[['DEST', 'DEST_Label']].drop_duplicates().sort_values('DEST_Label'))\n"
   ]
  },
  {
   "cell_type": "code",
   "execution_count": 2,
   "id": "59833c11",
   "metadata": {},
   "outputs": [
    {
     "name": "stdout",
     "output_type": "stream",
     "text": [
      "✅ Label encoding done & old columns removed.\n",
      "New dataset saved as 'clean_data_label.csv'\n",
      "\n",
      "Columns now in dataset:\n",
      "['MONTH', 'DAY_OF_MONTH', 'DAY_OF_WEEK', 'CRS_DEP_TIME', 'TAXI_OUT', 'CRS_ELAPSED_TIME', 'DISTANCE', 'DEP_DELAY', 'OP_UNIQUE_CARRIER_Label', 'ORIGIN_Label', 'DEST_Label']\n"
     ]
    }
   ],
   "source": [
    "# --- Import libraries ---\n",
    "import pandas as pd\n",
    "from sklearn.preprocessing import LabelEncoder\n",
    "\n",
    "# --- Load dataset ---\n",
    "df = pd.read_csv(\"clean_data_encode.csv\")  # đổi tên file nếu khác\n",
    "\n",
    "# --- Create label encoders ---\n",
    "le_carrier = LabelEncoder()\n",
    "le_origin = LabelEncoder()\n",
    "le_dest = LabelEncoder()\n",
    "\n",
    "# --- Apply label encoding ---\n",
    "df['OP_UNIQUE_CARRIER_Label'] = le_carrier.fit_transform(df['OP_UNIQUE_CARRIER'])\n",
    "df['ORIGIN_Label'] = le_origin.fit_transform(df['ORIGIN'])\n",
    "df['DEST_Label'] = le_dest.fit_transform(df['DEST'])\n",
    "\n",
    "# --- Drop old categorical columns ---\n",
    "df = df.drop(['OP_UNIQUE_CARRIER', 'ORIGIN', 'DEST'], axis=1)\n",
    "\n",
    "# --- Save updated dataset ---\n",
    "df.to_csv(\"clean_data_label.csv\", index=False)\n",
    "\n",
    "# --- Print confirmation ---\n",
    "print(\"✅ Label encoding done & old columns removed.\")\n",
    "print(\"New dataset saved as 'clean_data_label.csv'\")\n",
    "print(\"\\nColumns now in dataset:\")\n",
    "print(df.columns.tolist())\n"
   ]
  },
  {
   "cell_type": "code",
   "execution_count": null,
   "id": "967fa09e",
   "metadata": {},
   "outputs": [],
   "source": []
  },
  {
   "cell_type": "code",
   "execution_count": null,
   "id": "f0da8f1a",
   "metadata": {},
   "outputs": [],
   "source": []
  },
  {
   "cell_type": "code",
   "execution_count": null,
   "id": "52b7782d",
   "metadata": {},
   "outputs": [],
   "source": []
  },
  {
   "cell_type": "code",
   "execution_count": null,
   "id": "cda106d4",
   "metadata": {},
   "outputs": [],
   "source": []
  }
 ],
 "metadata": {
  "kernelspec": {
   "display_name": "Python 3",
   "language": "python",
   "name": "python3"
  },
  "language_info": {
   "codemirror_mode": {
    "name": "ipython",
    "version": 3
   },
   "file_extension": ".py",
   "mimetype": "text/x-python",
   "name": "python",
   "nbconvert_exporter": "python",
   "pygments_lexer": "ipython3",
   "version": "3.11.9"
  }
 },
 "nbformat": 4,
 "nbformat_minor": 5
}
