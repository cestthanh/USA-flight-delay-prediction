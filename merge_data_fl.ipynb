{
 "cells": [
  {
   "cell_type": "code",
   "execution_count": 1,
   "id": "7d5ccf79",
   "metadata": {},
   "outputs": [],
   "source": [
    "import pandas as pd\n",
    "import numpy as np\n",
    "import matplotlib.pyplot as plt\n",
    "import seaborn as sns"
   ]
  },
  {
   "cell_type": "code",
   "execution_count": 2,
   "id": "7bcd3252",
   "metadata": {},
   "outputs": [
    {
     "name": "stdout",
     "output_type": "stream",
     "text": [
      "   MONTH  DAY_OF_MONTH  DAY_OF_WEEK OP_UNIQUE_CARRIER ORIGIN ORIGIN_STATE_ABR  \\\n",
      "0      4             1            2                AA    CLT               NC   \n",
      "1      4             1            2                AA    CLT               NC   \n",
      "2      4             1            2                AA    CLT               NC   \n",
      "3      4             1            2                AA    DFW               TX   \n",
      "4      4             1            2                AA    DFW               TX   \n",
      "\n",
      "  DEST DEST_STATE_ABR  CRS_DEP_TIME  DEP_DELAY  DEP_DELAY_NEW  DEP_DEL15  \\\n",
      "0  SEA             WA           940       -6.0            0.0        0.0   \n",
      "1  SEA             WA          1623       -4.0            0.0        0.0   \n",
      "2  SEA             WA          1805       -4.0            0.0        0.0   \n",
      "3  GEG             WA          1930       11.0           11.0        0.0   \n",
      "4  SEA             WA           705       -4.0            0.0        0.0   \n",
      "\n",
      "   DEP_DELAY_GROUP  CRS_ARR_TIME  CANCELLED  CRS_ELAPSED_TIME  DISTANCE  \\\n",
      "0             -1.0          1250        0.0             370.0    2279.0   \n",
      "1             -1.0          1915        0.0             352.0    2279.0   \n",
      "2             -1.0          2056        0.0             351.0    2279.0   \n",
      "3              0.0          2113        0.0             223.0    1477.0   \n",
      "4             -1.0           933        0.0             268.0    1660.0   \n",
      "\n",
      "   DISTANCE_GROUP  \n",
      "0              10  \n",
      "1              10  \n",
      "2              10  \n",
      "3               6  \n",
      "4               7  \n"
     ]
    }
   ],
   "source": [
    "april = pd.read_csv(\"T_ONTIME_REPORTING_April2.csv\")\n",
    "may   = pd.read_csv(\"T_ONTIME_REPORTING_May2.csv\")\n",
    "june  = pd.read_csv(\"T_ONTIME_REPORTING_June2.csv\")\n",
    "\n",
    "combined = pd.concat([april, may, june], ignore_index=True)\n",
    "\n",
    "combined = combined.sort_values(by=[\"MONTH\"]).reset_index(drop=True)\n",
    "\n",
    "combined.to_csv(\"T_ONTIME_REPORTING_AprilMayJune.csv\", index=False)\n",
    "\n",
    "print(combined.head())\n"
   ]
  },
  {
   "cell_type": "code",
   "execution_count": 3,
   "id": "c585ccbb",
   "metadata": {},
   "outputs": [
    {
     "name": "stdout",
     "output_type": "stream",
     "text": [
      "    MONTH  DAY_OF_MONTH  DAY_OF_WEEK OP_UNIQUE_CARRIER ORIGIN  \\\n",
      "12      4             1            2                AA    GEG   \n",
      "13      4             1            2                AA    GEG   \n",
      "14      4             1            2                AA    GEG   \n",
      "21      4             1            2                AA    SEA   \n",
      "22      4             1            2                AA    SEA   \n",
      "\n",
      "   ORIGIN_STATE_ABR DEST DEST_STATE_ABR  CRS_DEP_TIME  DEP_DELAY  \\\n",
      "12               WA  DFW             TX           534       -1.0   \n",
      "13               WA  PHX             AZ           632       -5.0   \n",
      "14               WA  PHX             AZ          1527       15.0   \n",
      "21               WA  CLT             NC           720       -3.0   \n",
      "22               WA  CLT             NC          1350       -3.0   \n",
      "\n",
      "    DEP_DELAY_NEW  DEP_DEL15  DEP_DELAY_GROUP  CRS_ARR_TIME  CANCELLED  \\\n",
      "12            0.0        0.0             -1.0          1112        0.0   \n",
      "13            0.0        0.0             -1.0           920        0.0   \n",
      "14           15.0        1.0              1.0          1807        0.0   \n",
      "21            0.0        0.0             -1.0          1519        0.0   \n",
      "22            0.0        0.0             -1.0          2150        0.0   \n",
      "\n",
      "    CRS_ELAPSED_TIME  DISTANCE  DISTANCE_GROUP  \n",
      "12             218.0    1477.0               6  \n",
      "13             168.0    1020.0               5  \n",
      "14             160.0    1020.0               5  \n",
      "21             299.0    2279.0              10  \n",
      "22             300.0    2279.0              10  \n",
      "Tổng số chuyến bay đến WA: 50372\n"
     ]
    }
   ],
   "source": [
    "combined = pd.read_csv(\"T_ONTIME_REPORTING_AprilMayJune.csv\")\n",
    "\n",
    "wa_flights = combined[combined[\"ORIGIN_STATE_ABR\"] == \"WA\"]\n",
    "\n",
    "wa_flights.to_csv(\"T_ONTIME_REPORTING_WA.csv\", index=False)\n",
    "\n",
    "print(wa_flights.head())\n",
    "print(\"Tổng số chuyến bay đến WA:\", len(wa_flights))"
   ]
  },
  {
   "cell_type": "code",
   "execution_count": 4,
   "id": "54a16fa1",
   "metadata": {},
   "outputs": [
    {
     "name": "stdout",
     "output_type": "stream",
     "text": [
      "<class 'pandas.core.frame.DataFrame'>\n",
      "RangeIndex: 50372 entries, 0 to 50371\n",
      "Data columns (total 18 columns):\n",
      " #   Column             Non-Null Count  Dtype  \n",
      "---  ------             --------------  -----  \n",
      " 0   MONTH              50372 non-null  int64  \n",
      " 1   DAY_OF_MONTH       50372 non-null  int64  \n",
      " 2   DAY_OF_WEEK        50372 non-null  int64  \n",
      " 3   OP_UNIQUE_CARRIER  50372 non-null  object \n",
      " 4   ORIGIN             50372 non-null  object \n",
      " 5   ORIGIN_STATE_ABR   50372 non-null  object \n",
      " 6   DEST               50372 non-null  object \n",
      " 7   DEST_STATE_ABR     50372 non-null  object \n",
      " 8   CRS_DEP_TIME       50372 non-null  int64  \n",
      " 9   DEP_DELAY          50196 non-null  float64\n",
      " 10  DEP_DELAY_NEW      50196 non-null  float64\n",
      " 11  DEP_DEL15          50196 non-null  float64\n",
      " 12  DEP_DELAY_GROUP    50196 non-null  float64\n",
      " 13  CRS_ARR_TIME       50372 non-null  int64  \n",
      " 14  CANCELLED          50372 non-null  float64\n",
      " 15  CRS_ELAPSED_TIME   50372 non-null  float64\n",
      " 16  DISTANCE           50372 non-null  float64\n",
      " 17  DISTANCE_GROUP     50372 non-null  int64  \n",
      "dtypes: float64(7), int64(6), object(5)\n",
      "memory usage: 6.9+ MB\n"
     ]
    }
   ],
   "source": [
    "df = pd.read_csv(\"T_ONTIME_REPORTING_WA.csv\")\n",
    "df.info()"
   ]
  },
  {
   "cell_type": "code",
   "execution_count": 5,
   "id": "50faf774",
   "metadata": {},
   "outputs": [
    {
     "data": {
      "application/vnd.microsoft.datawrangler.viewer.v0+json": {
       "columns": [
        {
         "name": "index",
         "rawType": "object",
         "type": "string"
        },
        {
         "name": "0",
         "rawType": "int64",
         "type": "integer"
        }
       ],
       "ref": "a2cbc134-695c-4c93-8b09-b07e0c04694c",
       "rows": [
        [
         "MONTH",
         "0"
        ],
        [
         "DAY_OF_MONTH",
         "0"
        ],
        [
         "DAY_OF_WEEK",
         "0"
        ],
        [
         "OP_UNIQUE_CARRIER",
         "0"
        ],
        [
         "ORIGIN",
         "0"
        ],
        [
         "ORIGIN_STATE_ABR",
         "0"
        ],
        [
         "DEST",
         "0"
        ],
        [
         "DEST_STATE_ABR",
         "0"
        ],
        [
         "CRS_DEP_TIME",
         "0"
        ],
        [
         "DEP_DELAY",
         "176"
        ],
        [
         "DEP_DELAY_NEW",
         "176"
        ],
        [
         "DEP_DEL15",
         "176"
        ],
        [
         "DEP_DELAY_GROUP",
         "176"
        ],
        [
         "CRS_ARR_TIME",
         "0"
        ],
        [
         "CANCELLED",
         "0"
        ],
        [
         "CRS_ELAPSED_TIME",
         "0"
        ],
        [
         "DISTANCE",
         "0"
        ],
        [
         "DISTANCE_GROUP",
         "0"
        ]
       ],
       "shape": {
        "columns": 1,
        "rows": 18
       }
      },
      "text/plain": [
       "MONTH                  0\n",
       "DAY_OF_MONTH           0\n",
       "DAY_OF_WEEK            0\n",
       "OP_UNIQUE_CARRIER      0\n",
       "ORIGIN                 0\n",
       "ORIGIN_STATE_ABR       0\n",
       "DEST                   0\n",
       "DEST_STATE_ABR         0\n",
       "CRS_DEP_TIME           0\n",
       "DEP_DELAY            176\n",
       "DEP_DELAY_NEW        176\n",
       "DEP_DEL15            176\n",
       "DEP_DELAY_GROUP      176\n",
       "CRS_ARR_TIME           0\n",
       "CANCELLED              0\n",
       "CRS_ELAPSED_TIME       0\n",
       "DISTANCE               0\n",
       "DISTANCE_GROUP         0\n",
       "dtype: int64"
      ]
     },
     "execution_count": 5,
     "metadata": {},
     "output_type": "execute_result"
    }
   ],
   "source": [
    "df.isnull().sum()"
   ]
  },
  {
   "cell_type": "code",
   "execution_count": 6,
   "id": "6d06558a",
   "metadata": {},
   "outputs": [
    {
     "data": {
      "application/vnd.microsoft.datawrangler.viewer.v0+json": {
       "columns": [
        {
         "name": "index",
         "rawType": "object",
         "type": "string"
        },
        {
         "name": "0",
         "rawType": "int64",
         "type": "integer"
        }
       ],
       "ref": "4d89546f-caa1-41c9-ac91-24700de3536b",
       "rows": [
        [
         "MONTH",
         "0"
        ],
        [
         "DAY_OF_MONTH",
         "0"
        ],
        [
         "DAY_OF_WEEK",
         "0"
        ],
        [
         "OP_UNIQUE_CARRIER",
         "0"
        ],
        [
         "ORIGIN",
         "0"
        ],
        [
         "ORIGIN_STATE_ABR",
         "0"
        ],
        [
         "DEST",
         "0"
        ],
        [
         "DEST_STATE_ABR",
         "0"
        ],
        [
         "CRS_DEP_TIME",
         "0"
        ],
        [
         "DEP_DELAY",
         "0"
        ],
        [
         "DEP_DELAY_NEW",
         "0"
        ],
        [
         "DEP_DEL15",
         "0"
        ],
        [
         "DEP_DELAY_GROUP",
         "0"
        ],
        [
         "CRS_ARR_TIME",
         "0"
        ],
        [
         "CANCELLED",
         "0"
        ],
        [
         "CRS_ELAPSED_TIME",
         "0"
        ],
        [
         "DISTANCE",
         "0"
        ],
        [
         "DISTANCE_GROUP",
         "0"
        ]
       ],
       "shape": {
        "columns": 1,
        "rows": 18
       }
      },
      "text/plain": [
       "MONTH                0\n",
       "DAY_OF_MONTH         0\n",
       "DAY_OF_WEEK          0\n",
       "OP_UNIQUE_CARRIER    0\n",
       "ORIGIN               0\n",
       "ORIGIN_STATE_ABR     0\n",
       "DEST                 0\n",
       "DEST_STATE_ABR       0\n",
       "CRS_DEP_TIME         0\n",
       "DEP_DELAY            0\n",
       "DEP_DELAY_NEW        0\n",
       "DEP_DEL15            0\n",
       "DEP_DELAY_GROUP      0\n",
       "CRS_ARR_TIME         0\n",
       "CANCELLED            0\n",
       "CRS_ELAPSED_TIME     0\n",
       "DISTANCE             0\n",
       "DISTANCE_GROUP       0\n",
       "dtype: int64"
      ]
     },
     "execution_count": 6,
     "metadata": {},
     "output_type": "execute_result"
    }
   ],
   "source": [
    "df = df.dropna(subset=[\"DEP_DELAY\", \"DEP_DELAY_NEW\", \"DEP_DEL15\", \"DEP_DELAY_GROUP\"]).reset_index(drop=True)\n",
    "df.isnull().sum()"
   ]
  },
  {
   "cell_type": "code",
   "execution_count": 7,
   "id": "d843b42d",
   "metadata": {},
   "outputs": [
    {
     "name": "stdout",
     "output_type": "stream",
     "text": [
      "Number of cancelled flies (CANCELLED = 1): 10\n"
     ]
    },
    {
     "data": {
      "application/vnd.microsoft.datawrangler.viewer.v0+json": {
       "columns": [
        {
         "name": "index",
         "rawType": "int64",
         "type": "integer"
        },
        {
         "name": "MONTH",
         "rawType": "int64",
         "type": "integer"
        },
        {
         "name": "DAY_OF_MONTH",
         "rawType": "int64",
         "type": "integer"
        },
        {
         "name": "DAY_OF_WEEK",
         "rawType": "int64",
         "type": "integer"
        },
        {
         "name": "OP_UNIQUE_CARRIER",
         "rawType": "object",
         "type": "string"
        },
        {
         "name": "ORIGIN",
         "rawType": "object",
         "type": "string"
        },
        {
         "name": "ORIGIN_STATE_ABR",
         "rawType": "object",
         "type": "string"
        },
        {
         "name": "DEST",
         "rawType": "object",
         "type": "string"
        },
        {
         "name": "DEST_STATE_ABR",
         "rawType": "object",
         "type": "string"
        },
        {
         "name": "CRS_DEP_TIME",
         "rawType": "int64",
         "type": "integer"
        },
        {
         "name": "DEP_DELAY",
         "rawType": "float64",
         "type": "float"
        },
        {
         "name": "DEP_DELAY_NEW",
         "rawType": "float64",
         "type": "float"
        },
        {
         "name": "DEP_DEL15",
         "rawType": "float64",
         "type": "float"
        },
        {
         "name": "DEP_DELAY_GROUP",
         "rawType": "float64",
         "type": "float"
        },
        {
         "name": "CRS_ARR_TIME",
         "rawType": "int64",
         "type": "integer"
        },
        {
         "name": "CANCELLED",
         "rawType": "float64",
         "type": "float"
        },
        {
         "name": "CRS_ELAPSED_TIME",
         "rawType": "float64",
         "type": "float"
        },
        {
         "name": "DISTANCE",
         "rawType": "float64",
         "type": "float"
        },
        {
         "name": "DISTANCE_GROUP",
         "rawType": "int64",
         "type": "integer"
        }
       ],
       "ref": "702a7d94-0339-4742-878b-8dac89120c4a",
       "rows": [
        [
         "524",
         "4",
         "2",
         "3",
         "AS",
         "SEA",
         "WA",
         "BNA",
         "TN",
         "1742",
         "426.0",
         "426.0",
         "1.0",
         "12.0",
         "2359",
         "1.0",
         "257.0",
         "1978.0",
         "8"
        ],
        [
         "11349",
         "4",
         "24",
         "4",
         "AS",
         "SEA",
         "WA",
         "DEN",
         "CO",
         "1358",
         "54.0",
         "54.0",
         "1.0",
         "3.0",
         "1738",
         "1.0",
         "160.0",
         "1024.0",
         "5"
        ],
        [
         "15631",
         "5",
         "2",
         "5",
         "AS",
         "SEA",
         "WA",
         "PSC",
         "WA",
         "1950",
         "-4.0",
         "0.0",
         "0.0",
         "-1.0",
         "2051",
         "1.0",
         "61.0",
         "172.0",
         "1"
        ],
        [
         "24646",
         "5",
         "19",
         "1",
         "AS",
         "SEA",
         "WA",
         "JFK",
         "NY",
         "2140",
         "-5.0",
         "0.0",
         "0.0",
         "-1.0",
         "609",
         "1.0",
         "329.0",
         "2422.0",
         "10"
        ],
        [
         "30349",
         "5",
         "29",
         "4",
         "AS",
         "SEA",
         "WA",
         "KTN",
         "AK",
         "1151",
         "4.0",
         "4.0",
         "0.0",
         "0.0",
         "1257",
         "1.0",
         "126.0",
         "680.0",
         "3"
        ]
       ],
       "shape": {
        "columns": 18,
        "rows": 5
       }
      },
      "text/html": [
       "<div>\n",
       "<style scoped>\n",
       "    .dataframe tbody tr th:only-of-type {\n",
       "        vertical-align: middle;\n",
       "    }\n",
       "\n",
       "    .dataframe tbody tr th {\n",
       "        vertical-align: top;\n",
       "    }\n",
       "\n",
       "    .dataframe thead th {\n",
       "        text-align: right;\n",
       "    }\n",
       "</style>\n",
       "<table border=\"1\" class=\"dataframe\">\n",
       "  <thead>\n",
       "    <tr style=\"text-align: right;\">\n",
       "      <th></th>\n",
       "      <th>MONTH</th>\n",
       "      <th>DAY_OF_MONTH</th>\n",
       "      <th>DAY_OF_WEEK</th>\n",
       "      <th>OP_UNIQUE_CARRIER</th>\n",
       "      <th>ORIGIN</th>\n",
       "      <th>ORIGIN_STATE_ABR</th>\n",
       "      <th>DEST</th>\n",
       "      <th>DEST_STATE_ABR</th>\n",
       "      <th>CRS_DEP_TIME</th>\n",
       "      <th>DEP_DELAY</th>\n",
       "      <th>DEP_DELAY_NEW</th>\n",
       "      <th>DEP_DEL15</th>\n",
       "      <th>DEP_DELAY_GROUP</th>\n",
       "      <th>CRS_ARR_TIME</th>\n",
       "      <th>CANCELLED</th>\n",
       "      <th>CRS_ELAPSED_TIME</th>\n",
       "      <th>DISTANCE</th>\n",
       "      <th>DISTANCE_GROUP</th>\n",
       "    </tr>\n",
       "  </thead>\n",
       "  <tbody>\n",
       "    <tr>\n",
       "      <th>524</th>\n",
       "      <td>4</td>\n",
       "      <td>2</td>\n",
       "      <td>3</td>\n",
       "      <td>AS</td>\n",
       "      <td>SEA</td>\n",
       "      <td>WA</td>\n",
       "      <td>BNA</td>\n",
       "      <td>TN</td>\n",
       "      <td>1742</td>\n",
       "      <td>426.0</td>\n",
       "      <td>426.0</td>\n",
       "      <td>1.0</td>\n",
       "      <td>12.0</td>\n",
       "      <td>2359</td>\n",
       "      <td>1.0</td>\n",
       "      <td>257.0</td>\n",
       "      <td>1978.0</td>\n",
       "      <td>8</td>\n",
       "    </tr>\n",
       "    <tr>\n",
       "      <th>11349</th>\n",
       "      <td>4</td>\n",
       "      <td>24</td>\n",
       "      <td>4</td>\n",
       "      <td>AS</td>\n",
       "      <td>SEA</td>\n",
       "      <td>WA</td>\n",
       "      <td>DEN</td>\n",
       "      <td>CO</td>\n",
       "      <td>1358</td>\n",
       "      <td>54.0</td>\n",
       "      <td>54.0</td>\n",
       "      <td>1.0</td>\n",
       "      <td>3.0</td>\n",
       "      <td>1738</td>\n",
       "      <td>1.0</td>\n",
       "      <td>160.0</td>\n",
       "      <td>1024.0</td>\n",
       "      <td>5</td>\n",
       "    </tr>\n",
       "    <tr>\n",
       "      <th>15631</th>\n",
       "      <td>5</td>\n",
       "      <td>2</td>\n",
       "      <td>5</td>\n",
       "      <td>AS</td>\n",
       "      <td>SEA</td>\n",
       "      <td>WA</td>\n",
       "      <td>PSC</td>\n",
       "      <td>WA</td>\n",
       "      <td>1950</td>\n",
       "      <td>-4.0</td>\n",
       "      <td>0.0</td>\n",
       "      <td>0.0</td>\n",
       "      <td>-1.0</td>\n",
       "      <td>2051</td>\n",
       "      <td>1.0</td>\n",
       "      <td>61.0</td>\n",
       "      <td>172.0</td>\n",
       "      <td>1</td>\n",
       "    </tr>\n",
       "    <tr>\n",
       "      <th>24646</th>\n",
       "      <td>5</td>\n",
       "      <td>19</td>\n",
       "      <td>1</td>\n",
       "      <td>AS</td>\n",
       "      <td>SEA</td>\n",
       "      <td>WA</td>\n",
       "      <td>JFK</td>\n",
       "      <td>NY</td>\n",
       "      <td>2140</td>\n",
       "      <td>-5.0</td>\n",
       "      <td>0.0</td>\n",
       "      <td>0.0</td>\n",
       "      <td>-1.0</td>\n",
       "      <td>609</td>\n",
       "      <td>1.0</td>\n",
       "      <td>329.0</td>\n",
       "      <td>2422.0</td>\n",
       "      <td>10</td>\n",
       "    </tr>\n",
       "    <tr>\n",
       "      <th>30349</th>\n",
       "      <td>5</td>\n",
       "      <td>29</td>\n",
       "      <td>4</td>\n",
       "      <td>AS</td>\n",
       "      <td>SEA</td>\n",
       "      <td>WA</td>\n",
       "      <td>KTN</td>\n",
       "      <td>AK</td>\n",
       "      <td>1151</td>\n",
       "      <td>4.0</td>\n",
       "      <td>4.0</td>\n",
       "      <td>0.0</td>\n",
       "      <td>0.0</td>\n",
       "      <td>1257</td>\n",
       "      <td>1.0</td>\n",
       "      <td>126.0</td>\n",
       "      <td>680.0</td>\n",
       "      <td>3</td>\n",
       "    </tr>\n",
       "  </tbody>\n",
       "</table>\n",
       "</div>"
      ],
      "text/plain": [
       "       MONTH  DAY_OF_MONTH  DAY_OF_WEEK OP_UNIQUE_CARRIER ORIGIN  \\\n",
       "524        4             2            3                AS    SEA   \n",
       "11349      4            24            4                AS    SEA   \n",
       "15631      5             2            5                AS    SEA   \n",
       "24646      5            19            1                AS    SEA   \n",
       "30349      5            29            4                AS    SEA   \n",
       "\n",
       "      ORIGIN_STATE_ABR DEST DEST_STATE_ABR  CRS_DEP_TIME  DEP_DELAY  \\\n",
       "524                 WA  BNA             TN          1742      426.0   \n",
       "11349               WA  DEN             CO          1358       54.0   \n",
       "15631               WA  PSC             WA          1950       -4.0   \n",
       "24646               WA  JFK             NY          2140       -5.0   \n",
       "30349               WA  KTN             AK          1151        4.0   \n",
       "\n",
       "       DEP_DELAY_NEW  DEP_DEL15  DEP_DELAY_GROUP  CRS_ARR_TIME  CANCELLED  \\\n",
       "524            426.0        1.0             12.0          2359        1.0   \n",
       "11349           54.0        1.0              3.0          1738        1.0   \n",
       "15631            0.0        0.0             -1.0          2051        1.0   \n",
       "24646            0.0        0.0             -1.0           609        1.0   \n",
       "30349            4.0        0.0              0.0          1257        1.0   \n",
       "\n",
       "       CRS_ELAPSED_TIME  DISTANCE  DISTANCE_GROUP  \n",
       "524               257.0    1978.0               8  \n",
       "11349             160.0    1024.0               5  \n",
       "15631              61.0     172.0               1  \n",
       "24646             329.0    2422.0              10  \n",
       "30349             126.0     680.0               3  "
      ]
     },
     "execution_count": 7,
     "metadata": {},
     "output_type": "execute_result"
    }
   ],
   "source": [
    "num_cancelled = df[df[\"CANCELLED\"] == 1].shape[0]\n",
    "print(\"Number of cancelled flies (CANCELLED = 1):\", num_cancelled)\n",
    "\n",
    "df[df[\"CANCELLED\"] == 1].head()"
   ]
  },
  {
   "cell_type": "code",
   "execution_count": 8,
   "id": "a25016a6",
   "metadata": {},
   "outputs": [
    {
     "name": "stdout",
     "output_type": "stream",
     "text": [
      "Size of dataset: (50186, 18)\n"
     ]
    }
   ],
   "source": [
    "df = df[df[\"CANCELLED\"] != 1]\n",
    "\n",
    "print(\"Size of dataset:\", df.shape)"
   ]
  },
  {
   "cell_type": "code",
   "execution_count": 9,
   "id": "bd741343",
   "metadata": {},
   "outputs": [],
   "source": [
    "def hhmm_to_decimal(time_val):\n",
    "    \"\"\"\n",
    "    Convert time from HHMM (e.g., 1130, 845) to decimal hour (e.g., 11.5, 8.75).\n",
    "    \"\"\"\n",
    "    if pd.isna(time_val):\n",
    "        return None\n",
    "    \n",
    "    time_val = int(time_val)\n",
    "    hour = time_val // 100\n",
    "    minute = time_val % 100\n",
    "    decimal_time = hour + minute/60\n",
    "    return round(decimal_time, 2)\n",
    "\n",
    "\n",
    "df1 = df.copy()\n",
    "df1[\"CRS_DEP_TIME\"] = df1[\"CRS_DEP_TIME\"].apply(hhmm_to_decimal)\n",
    "df1[\"CRS_ARR_TIME\"] = df1[\"CRS_ARR_TIME\"].apply(hhmm_to_decimal)\n",
    "\n",
    "df1.to_csv(\"clean_data_delay_Flights_with_Cancelled.csv\", index=False)"
   ]
  },
  {
   "cell_type": "code",
   "execution_count": 10,
   "id": "dc832376",
   "metadata": {},
   "outputs": [],
   "source": [
    "df1 = pd.read_csv(\"clean_data_delay_Flights_with_Cancelled.csv\")\n",
    "\n",
    "df_final = df1.drop(columns=[\"CANCELLED\"])\n",
    "\n",
    "df_final.to_csv(\"clean_data_delay_Flights.csv\", index=False)"
   ]
  },
  {
   "cell_type": "code",
   "execution_count": 11,
   "id": "e507843c",
   "metadata": {},
   "outputs": [
    {
     "name": "stdout",
     "output_type": "stream",
     "text": [
      "Kích thước dữ liệu sau merge: (50186, 27)\n",
      "Số lượng giá trị thiếu theo cột:\n",
      "MONTH                         0\n",
      "DAY_OF_MONTH                  0\n",
      "DAY_OF_WEEK                   0\n",
      "OP_UNIQUE_CARRIER             0\n",
      "ORIGIN                        0\n",
      "ORIGIN_STATE_ABR              0\n",
      "DEST                          0\n",
      "DEST_STATE_ABR                0\n",
      "CRS_DEP_TIME                  0\n",
      "DEP_DELAY                     0\n",
      "DEP_DELAY_NEW                 0\n",
      "DEP_DEL15                     0\n",
      "DEP_DELAY_GROUP               0\n",
      "CRS_ARR_TIME                  0\n",
      "CRS_ELAPSED_TIME              0\n",
      "DISTANCE                      0\n",
      "DISTANCE_GROUP                0\n",
      "DEP_HOUR                      0\n",
      "FL_DATE                       0\n",
      "STATION                      94\n",
      "date                         94\n",
      "hour                         94\n",
      "HourlyDewPointTemperature    94\n",
      "HourlyDryBulbTemperature     94\n",
      "HourlyRelativeHumidity       94\n",
      "HourlyVisibility             94\n",
      "HourlyWindSpeed              94\n",
      "dtype: int64\n"
     ]
    }
   ],
   "source": [
    "flights = pd.read_csv(\"clean_data_delay_Flights.csv\")\n",
    "weather = pd.read_csv(\"wea_da_clean.csv\")\n",
    "\n",
    "flights[\"DEP_HOUR\"] = np.floor(flights[\"CRS_DEP_TIME\"]).astype(int)\n",
    "\n",
    "flights[\"FL_DATE\"] = pd.to_datetime(\n",
    "    dict(year=2025, month=flights[\"MONTH\"], day=flights[\"DAY_OF_MONTH\"])\n",
    ")\n",
    "\n",
    "if weather[\"date\"].str.len().min() <= 5:  # ví dụ '04-01'\n",
    "    weather[\"date\"] = \"2025-\" + weather[\"date\"]  # thêm năm tạm\n",
    "weather[\"date\"] = pd.to_datetime(weather[\"date\"], errors=\"coerce\")\n",
    "\n",
    "merged = flights.merge(\n",
    "    weather,\n",
    "    left_on=[\"ORIGIN\", \"FL_DATE\", \"DEP_HOUR\"],\n",
    "    right_on=[\"STATION\", \"date\", \"hour\"],\n",
    "    how=\"left\"\n",
    ")\n",
    "\n",
    "print(\"Kích thước dữ liệu sau merge:\", merged.shape)\n",
    "print(\"Số lượng giá trị thiếu theo cột:\")\n",
    "print(merged.isna().sum())"
   ]
  },
  {
   "cell_type": "code",
   "execution_count": 12,
   "id": "d9ee80cb",
   "metadata": {},
   "outputs": [
    {
     "name": "stdout",
     "output_type": "stream",
     "text": [
      "\n",
      "Các dòng đầu tiên sau merge:\n",
      "   MONTH  DAY_OF_MONTH  DAY_OF_WEEK OP_UNIQUE_CARRIER ORIGIN ORIGIN_STATE_ABR  \\\n",
      "0      4             1            2                AA    GEG               WA   \n",
      "1      4             1            2                AA    GEG               WA   \n",
      "2      4             1            2                AA    GEG               WA   \n",
      "3      4             1            2                AA    SEA               WA   \n",
      "4      4             1            2                AA    SEA               WA   \n",
      "5      4             1            2                AA    SEA               WA   \n",
      "6      4             1            2                AA    SEA               WA   \n",
      "7      4             1            2                AA    SEA               WA   \n",
      "8      4             1            2                AA    SEA               WA   \n",
      "9      4             1            2                AA    SEA               WA   \n",
      "\n",
      "  DEST DEST_STATE_ABR  CRS_DEP_TIME  DEP_DELAY  ...  DEP_HOUR    FL_DATE  \\\n",
      "0  DFW             TX          5.57       -1.0  ...         5 2025-04-01   \n",
      "1  PHX             AZ          6.53       -5.0  ...         6 2025-04-01   \n",
      "2  PHX             AZ         15.45       15.0  ...        15 2025-04-01   \n",
      "3  CLT             NC          7.33       -3.0  ...         7 2025-04-01   \n",
      "4  CLT             NC         13.83       -3.0  ...        13 2025-04-01   \n",
      "5  CLT             NC         22.00       -6.0  ...        22 2025-04-01   \n",
      "6  DFW             TX          0.98       47.0  ...         0 2025-04-01   \n",
      "7  DFW             TX          5.37      -12.0  ...         5 2025-04-01   \n",
      "8  DFW             TX          7.00       -3.0  ...         7 2025-04-01   \n",
      "9  DFW             TX         10.68       -3.0  ...        10 2025-04-01   \n",
      "\n",
      "   STATION       date  hour  HourlyDewPointTemperature  \\\n",
      "0      GEG 2025-04-01   5.0                         34   \n",
      "1      GEG 2025-04-01   6.0                         33   \n",
      "2      GEG 2025-04-01  15.0                         33   \n",
      "3      SEA 2025-04-01   7.0                         37   \n",
      "4      SEA 2025-04-01  13.0                         41   \n",
      "5      SEA 2025-04-01  22.0                         41   \n",
      "6      SEA 2025-04-01   0.0                         40   \n",
      "7      SEA 2025-04-01   5.0                         38   \n",
      "8      SEA 2025-04-01   7.0                         37   \n",
      "9      SEA 2025-04-01  10.0                         41   \n",
      "\n",
      "   HourlyDryBulbTemperature  HourlyRelativeHumidity HourlyVisibility  \\\n",
      "0                        36                      93            0.50s   \n",
      "1                        36                      89                5   \n",
      "2                        45                      63               10   \n",
      "3                        43                      80               10   \n",
      "4                        49                      74               10   \n",
      "5                        45                      86               10   \n",
      "6                        43                      89               10   \n",
      "7                        42                      85               10   \n",
      "8                        43                      80               10   \n",
      "9                        44                      89               10   \n",
      "\n",
      "  HourlyWindSpeed  \n",
      "0              13  \n",
      "1              10  \n",
      "2              10  \n",
      "3               6  \n",
      "4               6  \n",
      "5               7  \n",
      "6               8  \n",
      "7               3  \n",
      "8               6  \n",
      "9               6  \n",
      "\n",
      "[10 rows x 27 columns]\n"
     ]
    }
   ],
   "source": [
    "print(\"\\nCác dòng đầu tiên sau merge:\")\n",
    "print(merged.head(10))"
   ]
  },
  {
   "cell_type": "code",
   "execution_count": 13,
   "id": "b956883d",
   "metadata": {},
   "outputs": [],
   "source": [
    "merged.to_csv(\"final_data_test.csv\", index=False)"
   ]
  },
  {
   "cell_type": "code",
   "execution_count": 14,
   "id": "a12e1314",
   "metadata": {},
   "outputs": [
    {
     "name": "stdout",
     "output_type": "stream",
     "text": [
      "Kích thước sau khi xóa: (50186, 22)\n",
      "Các cột hiện còn: ['MONTH', 'DAY_OF_MONTH', 'DAY_OF_WEEK', 'OP_UNIQUE_CARRIER', 'ORIGIN', 'ORIGIN_STATE_ABR', 'DEST', 'DEST_STATE_ABR', 'CRS_DEP_TIME', 'DEP_DELAY', 'DEP_DELAY_NEW', 'DEP_DEL15', 'DEP_DELAY_GROUP', 'CRS_ARR_TIME', 'CRS_ELAPSED_TIME', 'DISTANCE', 'DISTANCE_GROUP', 'HourlyDewPointTemperature', 'HourlyDryBulbTemperature', 'HourlyRelativeHumidity', 'HourlyVisibility', 'HourlyWindSpeed']\n"
     ]
    }
   ],
   "source": [
    "cols_to_drop = [\"DEP_HOUR\", \"FL_DATE\", \"STATION\", \"date\", \"hour\"]\n",
    "merged.drop(columns=cols_to_drop, inplace=True, errors=\"ignore\")\n",
    "\n",
    "print(\"Kích thước sau khi xóa:\", merged.shape)\n",
    "print(\"Các cột hiện còn:\", list(merged.columns))\n"
   ]
  },
  {
   "cell_type": "code",
   "execution_count": 15,
   "id": "19fe831c",
   "metadata": {},
   "outputs": [
    {
     "name": "stdout",
     "output_type": "stream",
     "text": [
      " Đã xóa 157 dòng có dữ liệu thời tiết lỗi hoặc thiếu.\n",
      " Dữ liệu còn lại: 50,029 dòng.\n"
     ]
    }
   ],
   "source": [
    "weather_cols = [\n",
    "    \"HourlyDewPointTemperature\",\n",
    "    \"HourlyDryBulbTemperature\",\n",
    "    \"HourlyRelativeHumidity\",\n",
    "    \"HourlyVisibility\",\n",
    "    \"HourlyWindSpeed\"\n",
    "]\n",
    "\n",
    "invalid_values = [\"*\", \"\", \" \", \"M\", \"T\", \"0.50s\", \"10.00s\", \"9999\", \"-9999\"]\n",
    "\n",
    "merged[weather_cols] = merged[weather_cols].replace(invalid_values, np.nan)\n",
    "\n",
    "merged[weather_cols] = merged[weather_cols].apply(pd.to_numeric, errors=\"coerce\")\n",
    "\n",
    "before = merged.shape[0]\n",
    "merged.dropna(subset=weather_cols, inplace=True)\n",
    "after = merged.shape[0]\n",
    "\n",
    "print(f\" Đã xóa {before - after:,} dòng có dữ liệu thời tiết lỗi hoặc thiếu.\")\n",
    "print(f\" Dữ liệu còn lại: {after:,} dòng.\")\n"
   ]
  },
  {
   "cell_type": "code",
   "execution_count": 16,
   "id": "195a5636",
   "metadata": {},
   "outputs": [
    {
     "data": {
      "image/png": "[encoded data removed]",
      "text/plain": [
       "<Figure size 1200x400 with 2 Axes>"
      ]
     },
     "metadata": {},
     "output_type": "display_data"
    }
   ],
   "source": [
    "ta_col = [\"DEP_DELAY\"]\n",
    "\n",
    "for col in ta_col:\n",
    "    plt.figure(figsize=(12,4))\n",
    "    \n",
    "    plt.subplot(1,2,1)\n",
    "    sns.histplot(merged[col], bins=30, kde=True)\n",
    "    plt.title(f'Histogram of {col}')\n",
    "    \n",
    "    plt.subplot(1,2,2)\n",
    "    sns.boxplot(x=merged[col])\n",
    "    plt.title(f'Boxplot of {col}')\n",
    "    \n",
    "    plt.tight_layout()\n",
    "    plt.show()"
   ]
  },
  {
   "cell_type": "code",
   "execution_count": 17,
   "id": "0f7d67c8",
   "metadata": {},
   "outputs": [
    {
     "name": "stdout",
     "output_type": "stream",
     "text": [
      " Trung bình DEP_DELAY: 8.44 phút\n"
     ]
    }
   ],
   "source": [
    "mean_delay = merged[\"DEP_DELAY\"].mean()\n",
    "print(f\" Trung bình DEP_DELAY: {mean_delay:.2f} phút\")"
   ]
  },
  {
   "cell_type": "code",
   "execution_count": 18,
   "id": "c5bab5aa",
   "metadata": {},
   "outputs": [
    {
     "name": "stdout",
     "output_type": "stream",
     "text": [
      " Dataset sau khi lọc: (45155, 22)\n",
      "count    45155.000000\n",
      "mean         0.125833\n",
      "std         10.457920\n",
      "min        -27.000000\n",
      "25%         -7.000000\n",
      "50%         -3.000000\n",
      "75%          4.000000\n",
      "max         35.000000\n",
      "Name: DEP_DELAY, dtype: float64\n"
     ]
    }
   ],
   "source": [
    "merged = merged[merged[\"DEP_DELAY\"] <= 35]\n",
    "\n",
    "print(\" Dataset sau khi lọc:\", merged.shape)\n",
    "print(merged[\"DEP_DELAY\"].describe())\n"
   ]
  },
  {
   "cell_type": "code",
   "execution_count": 19,
   "id": "d01aa4c9",
   "metadata": {},
   "outputs": [],
   "source": [
    "merged.to_csv(\"final_clean_data.csv\", index=False)"
   ]
  }
 ],
 "metadata": {
  "kernelspec": {
   "display_name": "Python 3",
   "language": "python",
   "name": "python3"
  },
  "language_info": {
   "codemirror_mode": {
    "name": "ipython",
    "version": 3
   },
   "file_extension": ".py",
   "mimetype": "text/x-python",
   "name": "python",
   "nbconvert_exporter": "python",
   "pygments_lexer": "ipython3",
   "version": "3.12.0"
  }
 },
 "nbformat": 4,
 "nbformat_minor": 5
}
