{
 "cells": [
  {
   "cell_type": "code",
   "execution_count": 9,
   "id": "c4adbf5d",
   "metadata": {},
   "outputs": [],
   "source": [
    "import pandas as pd\n",
    "import numpy as np\n",
    "import time\n",
    "import matplotlib.pyplot as plt\n",
    "import seaborn as sns\n",
    "from sklearn.model_selection import train_test_split, GridSearchCV\n",
    "from sklearn.metrics import classification_report, confusion_matrix, roc_auc_score,accuracy_score, f1_score, precision_score, recall_score,precision_recall_curve\n",
    "from xgboost import XGBClassifier, plot_importance"
   ]
  },
  {
   "cell_type": "code",
   "execution_count": 10,
   "id": "b33b1d4d",
   "metadata": {},
   "outputs": [
    {
     "name": "stdout",
     "output_type": "stream",
     "text": [
      "<class 'pandas.core.frame.DataFrame'>\n",
      "RangeIndex: 45155 entries, 0 to 45154\n",
      "Data columns (total 15 columns):\n",
      " #   Column                     Non-Null Count  Dtype  \n",
      "---  ------                     --------------  -----  \n",
      " 0   MONTH                      45155 non-null  int64  \n",
      " 1   DAY_OF_MONTH               45155 non-null  int64  \n",
      " 2   DAY_OF_WEEK                45155 non-null  int64  \n",
      " 3   CRS_DEP_TIME               45155 non-null  float64\n",
      " 4   CRS_ELAPSED_TIME           45155 non-null  float64\n",
      " 5   OP_UNIQUE_CARRIER          45155 non-null  int64  \n",
      " 6   ORIGIN                     45155 non-null  int64  \n",
      " 7   DEST                       45155 non-null  int64  \n",
      " 8   DISTANCE                   45155 non-null  float64\n",
      " 9   HourlyDewPointTemperature  45155 non-null  float64\n",
      " 10  HourlyDryBulbTemperature   45155 non-null  float64\n",
      " 11  HourlyRelativeHumidity     45155 non-null  float64\n",
      " 12  HourlyVisibility           45155 non-null  float64\n",
      " 13  HourlyWindSpeed            45155 non-null  float64\n",
      " 14  DEP_DEL15                  45155 non-null  float64\n",
      "dtypes: float64(9), int64(6)\n",
      "memory usage: 5.2 MB\n"
     ]
    },
    {
     "data": {
      "text/html": [
       "<div>\n",
       "<style scoped>\n",
       "    .dataframe tbody tr th:only-of-type {\n",
       "        vertical-align: middle;\n",
       "    }\n",
       "\n",
       "    .dataframe tbody tr th {\n",
       "        vertical-align: top;\n",
       "    }\n",
       "\n",
       "    .dataframe thead th {\n",
       "        text-align: right;\n",
       "    }\n",
       "</style>\n",
       "<table border=\"1\" class=\"dataframe\">\n",
       "  <thead>\n",
       "    <tr style=\"text-align: right;\">\n",
       "      <th></th>\n",
       "      <th>MONTH</th>\n",
       "      <th>DAY_OF_MONTH</th>\n",
       "      <th>DAY_OF_WEEK</th>\n",
       "      <th>CRS_DEP_TIME</th>\n",
       "      <th>CRS_ELAPSED_TIME</th>\n",
       "      <th>OP_UNIQUE_CARRIER</th>\n",
       "      <th>ORIGIN</th>\n",
       "      <th>DEST</th>\n",
       "      <th>DISTANCE</th>\n",
       "      <th>HourlyDewPointTemperature</th>\n",
       "      <th>HourlyDryBulbTemperature</th>\n",
       "      <th>HourlyRelativeHumidity</th>\n",
       "      <th>HourlyVisibility</th>\n",
       "      <th>HourlyWindSpeed</th>\n",
       "      <th>DEP_DEL15</th>\n",
       "    </tr>\n",
       "  </thead>\n",
       "  <tbody>\n",
       "    <tr>\n",
       "      <th>count</th>\n",
       "      <td>45155.000000</td>\n",
       "      <td>45155.000000</td>\n",
       "      <td>45155.000000</td>\n",
       "      <td>45155.000000</td>\n",
       "      <td>45155.000000</td>\n",
       "      <td>45155.000000</td>\n",
       "      <td>45155.000000</td>\n",
       "      <td>45155.000000</td>\n",
       "      <td>45155.000000</td>\n",
       "      <td>45155.000000</td>\n",
       "      <td>45155.000000</td>\n",
       "      <td>45155.000000</td>\n",
       "      <td>45155.000000</td>\n",
       "      <td>45155.000000</td>\n",
       "      <td>45155.000000</td>\n",
       "    </tr>\n",
       "    <tr>\n",
       "      <th>mean</th>\n",
       "      <td>5.046728</td>\n",
       "      <td>15.877489</td>\n",
       "      <td>3.971321</td>\n",
       "      <td>13.585353</td>\n",
       "      <td>183.310597</td>\n",
       "      <td>4.342642</td>\n",
       "      <td>3.611007</td>\n",
       "      <td>45.445288</td>\n",
       "      <td>1175.492703</td>\n",
       "      <td>42.800066</td>\n",
       "      <td>59.471664</td>\n",
       "      <td>57.692747</td>\n",
       "      <td>9.810818</td>\n",
       "      <td>8.246529</td>\n",
       "      <td>0.117418</td>\n",
       "    </tr>\n",
       "    <tr>\n",
       "      <th>std</th>\n",
       "      <td>0.808438</td>\n",
       "      <td>8.780866</td>\n",
       "      <td>2.005020</td>\n",
       "      <td>5.287004</td>\n",
       "      <td>84.569100</td>\n",
       "      <td>3.858876</td>\n",
       "      <td>0.992802</td>\n",
       "      <td>25.759279</td>\n",
       "      <td>732.185970</td>\n",
       "      <td>6.723190</td>\n",
       "      <td>9.337098</td>\n",
       "      <td>18.536586</td>\n",
       "      <td>0.983229</td>\n",
       "      <td>3.873726</td>\n",
       "      <td>0.321921</td>\n",
       "    </tr>\n",
       "    <tr>\n",
       "      <th>min</th>\n",
       "      <td>4.000000</td>\n",
       "      <td>1.000000</td>\n",
       "      <td>1.000000</td>\n",
       "      <td>0.080000</td>\n",
       "      <td>49.000000</td>\n",
       "      <td>0.000000</td>\n",
       "      <td>0.000000</td>\n",
       "      <td>0.000000</td>\n",
       "      <td>93.000000</td>\n",
       "      <td>5.000000</td>\n",
       "      <td>30.000000</td>\n",
       "      <td>11.000000</td>\n",
       "      <td>0.000000</td>\n",
       "      <td>0.000000</td>\n",
       "      <td>0.000000</td>\n",
       "    </tr>\n",
       "    <tr>\n",
       "      <th>25%</th>\n",
       "      <td>4.000000</td>\n",
       "      <td>8.000000</td>\n",
       "      <td>2.000000</td>\n",
       "      <td>9.080000</td>\n",
       "      <td>125.000000</td>\n",
       "      <td>1.000000</td>\n",
       "      <td>4.000000</td>\n",
       "      <td>22.000000</td>\n",
       "      <td>679.000000</td>\n",
       "      <td>39.000000</td>\n",
       "      <td>53.000000</td>\n",
       "      <td>44.000000</td>\n",
       "      <td>10.000000</td>\n",
       "      <td>6.000000</td>\n",
       "      <td>0.000000</td>\n",
       "    </tr>\n",
       "    <tr>\n",
       "      <th>50%</th>\n",
       "      <td>5.000000</td>\n",
       "      <td>16.000000</td>\n",
       "      <td>4.000000</td>\n",
       "      <td>12.970000</td>\n",
       "      <td>166.000000</td>\n",
       "      <td>3.000000</td>\n",
       "      <td>4.000000</td>\n",
       "      <td>45.000000</td>\n",
       "      <td>978.000000</td>\n",
       "      <td>43.000000</td>\n",
       "      <td>58.000000</td>\n",
       "      <td>59.000000</td>\n",
       "      <td>10.000000</td>\n",
       "      <td>8.000000</td>\n",
       "      <td>0.000000</td>\n",
       "    </tr>\n",
       "    <tr>\n",
       "      <th>75%</th>\n",
       "      <td>6.000000</td>\n",
       "      <td>23.000000</td>\n",
       "      <td>6.000000</td>\n",
       "      <td>17.900000</td>\n",
       "      <td>244.000000</td>\n",
       "      <td>9.000000</td>\n",
       "      <td>4.000000</td>\n",
       "      <td>71.000000</td>\n",
       "      <td>1721.000000</td>\n",
       "      <td>48.000000</td>\n",
       "      <td>65.000000</td>\n",
       "      <td>71.000000</td>\n",
       "      <td>10.000000</td>\n",
       "      <td>10.000000</td>\n",
       "      <td>0.000000</td>\n",
       "    </tr>\n",
       "    <tr>\n",
       "      <th>max</th>\n",
       "      <td>6.000000</td>\n",
       "      <td>31.000000</td>\n",
       "      <td>7.000000</td>\n",
       "      <td>23.980000</td>\n",
       "      <td>411.000000</td>\n",
       "      <td>11.000000</td>\n",
       "      <td>4.000000</td>\n",
       "      <td>85.000000</td>\n",
       "      <td>2724.000000</td>\n",
       "      <td>60.000000</td>\n",
       "      <td>102.000000</td>\n",
       "      <td>100.000000</td>\n",
       "      <td>10.000000</td>\n",
       "      <td>30.000000</td>\n",
       "      <td>1.000000</td>\n",
       "    </tr>\n",
       "  </tbody>\n",
       "</table>\n",
       "</div>"
      ],
      "text/plain": [
       "              MONTH  DAY_OF_MONTH   DAY_OF_WEEK  CRS_DEP_TIME  \\\n",
       "count  45155.000000  45155.000000  45155.000000  45155.000000   \n",
       "mean       5.046728     15.877489      3.971321     13.585353   \n",
       "std        0.808438      8.780866      2.005020      5.287004   \n",
       "min        4.000000      1.000000      1.000000      0.080000   \n",
       "25%        4.000000      8.000000      2.000000      9.080000   \n",
       "50%        5.000000     16.000000      4.000000     12.970000   \n",
       "75%        6.000000     23.000000      6.000000     17.900000   \n",
       "max        6.000000     31.000000      7.000000     23.980000   \n",
       "\n",
       "       CRS_ELAPSED_TIME  OP_UNIQUE_CARRIER        ORIGIN          DEST  \\\n",
       "count      45155.000000       45155.000000  45155.000000  45155.000000   \n",
       "mean         183.310597           4.342642      3.611007     45.445288   \n",
       "std           84.569100           3.858876      0.992802     25.759279   \n",
       "min           49.000000           0.000000      0.000000      0.000000   \n",
       "25%          125.000000           1.000000      4.000000     22.000000   \n",
       "50%          166.000000           3.000000      4.000000     45.000000   \n",
       "75%          244.000000           9.000000      4.000000     71.000000   \n",
       "max          411.000000          11.000000      4.000000     85.000000   \n",
       "\n",
       "           DISTANCE  HourlyDewPointTemperature  HourlyDryBulbTemperature  \\\n",
       "count  45155.000000               45155.000000              45155.000000   \n",
       "mean    1175.492703                  42.800066                 59.471664   \n",
       "std      732.185970                   6.723190                  9.337098   \n",
       "min       93.000000                   5.000000                 30.000000   \n",
       "25%      679.000000                  39.000000                 53.000000   \n",
       "50%      978.000000                  43.000000                 58.000000   \n",
       "75%     1721.000000                  48.000000                 65.000000   \n",
       "max     2724.000000                  60.000000                102.000000   \n",
       "\n",
       "       HourlyRelativeHumidity  HourlyVisibility  HourlyWindSpeed     DEP_DEL15  \n",
       "count            45155.000000      45155.000000     45155.000000  45155.000000  \n",
       "mean                57.692747          9.810818         8.246529      0.117418  \n",
       "std                 18.536586          0.983229         3.873726      0.321921  \n",
       "min                 11.000000          0.000000         0.000000      0.000000  \n",
       "25%                 44.000000         10.000000         6.000000      0.000000  \n",
       "50%                 59.000000         10.000000         8.000000      0.000000  \n",
       "75%                 71.000000         10.000000        10.000000      0.000000  \n",
       "max                100.000000         10.000000        30.000000      1.000000  "
      ]
     },
     "execution_count": 10,
     "metadata": {},
     "output_type": "execute_result"
    }
   ],
   "source": [
    "df = pd.read_csv(\"../Data/Classi_Data/flight_dep_classi_tree.csv\")\n",
    "df.info()\n",
    "df.describe()"
   ]
  },
  {
   "cell_type": "code",
   "execution_count": 11,
   "id": "681af1de",
   "metadata": {},
   "outputs": [],
   "source": [
    "X = df.drop(columns=[\"DEP_DEL15\"])\n",
    "y = df[\"DEP_DEL15\"]"
   ]
  },
  {
   "cell_type": "code",
   "execution_count": 12,
   "id": "51c3633e",
   "metadata": {},
   "outputs": [
    {
     "name": "stdout",
     "output_type": "stream",
     "text": [
      "Training set: (36124, 14), Test set: (9031, 14)\n",
      "DEP_DEL15\n",
      "0.0    0.882571\n",
      "1.0    0.117429\n",
      "Name: proportion, dtype: float64\n"
     ]
    }
   ],
   "source": [
    "X_train, X_test, y_train, y_test = train_test_split(\n",
    "    X, y, test_size=0.2, random_state=42, stratify=y\n",
    ")\n",
    "print(f\"Training set: {X_train.shape}, Test set: {X_test.shape}\")\n",
    "print(y_train.value_counts(normalize=True))"
   ]
  },
  {
   "cell_type": "code",
   "execution_count": 13,
   "id": "d8b44d1e",
   "metadata": {},
   "outputs": [
    {
     "name": "stdout",
     "output_type": "stream",
     "text": [
      " scale_pos_weight = 7.52\n"
     ]
    }
   ],
   "source": [
    "scale_pos = y_train.value_counts()[0] / y_train.value_counts()[1]\n",
    "print(f\" scale_pos_weight = {scale_pos:.2f}\")\n",
    "\n",
    "xgb = XGBClassifier(\n",
    "    random_state=42,\n",
    "    n_jobs=-1,\n",
    "    eval_metric='logloss',\n",
    "    use_label_encoder=False,\n",
    "    scale_pos_weight=scale_pos\n",
    ")"
   ]
  },
  {
   "cell_type": "code",
   "execution_count": 14,
   "id": "9cf34aea",
   "metadata": {},
   "outputs": [],
   "source": [
    "param_grid = {\n",
    "    \"n_estimators\": [200, 400],\n",
    "    \"learning_rate\": [0.05, 0.1],\n",
    "    \"max_depth\": [4, 6, 8],\n",
    "    \"subsample\": [0.8, 1.0],\n",
    "    \"colsample_bytree\": [0.8, 1.0],\n",
    "    \"min_child_weight\": [1, 5, 10]\n",
    "}"
   ]
  },
  {
   "cell_type": "code",
   "execution_count": 15,
   "id": "7c3e865a",
   "metadata": {},
   "outputs": [
    {
     "name": "stdout",
     "output_type": "stream",
     "text": [
      "Fitting 3 folds for each of 144 candidates, totalling 432 fits\n",
      " Time: 35.23 s\n",
      " Best Parameters: {'colsample_bytree': 0.8, 'learning_rate': 0.05, 'max_depth': 4, 'min_child_weight': 10, 'n_estimators': 200, 'subsample': 0.8}\n",
      " Best CV ROC-AUC: 0.7142\n"
     ]
    },
    {
     "name": "stderr",
     "output_type": "stream",
     "text": [
      "c:\\Users\\PC\\AppData\\Local\\Programs\\Python\\Python311\\Lib\\site-packages\\xgboost\\training.py:183: UserWarning: [15:52:42] WARNING: C:\\actions-runner\\_work\\xgboost\\xgboost\\src\\learner.cc:738: \n",
      "Parameters: { \"use_label_encoder\" } are not used.\n",
      "\n",
      "  bst.update(dtrain, iteration=i, fobj=obj)\n"
     ]
    }
   ],
   "source": [
    "grid = GridSearchCV(\n",
    "    estimator=xgb,\n",
    "    param_grid=param_grid,\n",
    "    cv=3,\n",
    "    scoring=\"roc_auc\",\n",
    "    n_jobs=-1,\n",
    "    verbose=2\n",
    ")\n",
    "\n",
    "start = time.time()\n",
    "grid.fit(X_train, y_train)\n",
    "end = time.time()\n",
    "\n",
    "print(f\" Time: {end - start:.2f} s\")\n",
    "print(\" Best Parameters:\", grid.best_params_)\n",
    "print(f\" Best CV ROC-AUC: {grid.best_score_:.4f}\")"
   ]
  },
  {
   "cell_type": "code",
   "execution_count": 16,
   "id": "70635cd9",
   "metadata": {},
   "outputs": [
    {
     "name": "stdout",
     "output_type": "stream",
     "text": [
      "\n",
      " XGBoost Classifier – Default Threshold (0.5)\n",
      "Accuracy : 0.6386\n",
      "Precision (delay=1) : 0.1994\n",
      "Recall (delay=1)    : 0.6896\n",
      "F1-score (delay=1)  : 0.3094\n",
      "ROC-AUC             : 0.7243\n",
      "\n",
      " Classification Report:\n",
      "              precision    recall  f1-score   support\n",
      "\n",
      "         0.0     0.9387    0.6318    0.7552      7971\n",
      "         1.0     0.1994    0.6896    0.3094      1060\n",
      "\n",
      "    accuracy                         0.6386      9031\n",
      "   macro avg     0.5690    0.6607    0.5323      9031\n",
      "weighted avg     0.8519    0.6386    0.7029      9031\n",
      "\n"
     ]
    }
   ],
   "source": [
    "best_xgb = grid.best_estimator_\n",
    "\n",
    "y_pred_default = best_xgb.predict(X_test)\n",
    "y_prob = best_xgb.predict_proba(X_test)[:, 1]\n",
    "\n",
    "acc = accuracy_score(y_test, y_pred_default)\n",
    "prec = precision_score(y_test, y_pred_default)\n",
    "rec = recall_score(y_test, y_pred_default)\n",
    "f1 = f1_score(y_test, y_pred_default)\n",
    "roc = roc_auc_score(y_test, y_prob)\n",
    "\n",
    "print(\"\\n XGBoost Classifier – Default Threshold (0.5)\")\n",
    "print(f\"Accuracy : {acc:.4f}\")\n",
    "print(f\"Precision (delay=1) : {prec:.4f}\")\n",
    "print(f\"Recall (delay=1)    : {rec:.4f}\")\n",
    "print(f\"F1-score (delay=1)  : {f1:.4f}\")\n",
    "print(f\"ROC-AUC             : {roc:.4f}\")\n",
    "\n",
    "print(\"\\n Classification Report:\")\n",
    "print(classification_report(y_test, y_pred_default, digits=4))"
   ]
  },
  {
   "cell_type": "code",
   "execution_count": 17,
   "id": "003fcffd",
   "metadata": {},
   "outputs": [
    {
     "name": "stdout",
     "output_type": "stream",
     "text": [
      "\n",
      " Threshold Optimization\n",
      "Best Threshold: 0.614\n",
      "Precision: 0.263\n",
      "Recall:    0.454\n",
      "F1-score:  0.333\n"
     ]
    },
    {
     "data": {
      "image/png": "[encoded data removed]",
      "text/plain": [
       "<Figure size 800x500 with 1 Axes>"
      ]
     },
     "metadata": {},
     "output_type": "display_data"
    }
   ],
   "source": [
    "precisions, recalls, thresholds = precision_recall_curve(y_test, y_prob)\n",
    "f1_scores = 2 * (precisions * recalls) / (precisions + recalls + 1e-8)\n",
    "best_idx = np.argmax(f1_scores)\n",
    "best_thresh = thresholds[best_idx]\n",
    "\n",
    "print(\"\\n Threshold Optimization\")\n",
    "print(f\"Best Threshold: {best_thresh:.3f}\")\n",
    "print(f\"Precision: {precisions[best_idx]:.3f}\")\n",
    "print(f\"Recall:    {recalls[best_idx]:.3f}\")\n",
    "print(f\"F1-score:  {f1_scores[best_idx]:.3f}\")\n",
    "\n",
    "# Precision–Recall vs Threshold (XGBoost)\n",
    "plt.figure(figsize=(8,5))\n",
    "plt.plot(thresholds, precisions[:-1], 'b--', label='Precision')\n",
    "plt.plot(thresholds, recalls[:-1], 'g-', label='Recall')\n",
    "plt.plot(thresholds, f1_scores[:-1], 'r-', label='F1-score')\n",
    "plt.axvline(x=best_thresh, color='orange', linestyle='--', label=f'Best={best_thresh:.2f}')\n",
    "plt.xlabel(\"Threshold\")\n",
    "plt.ylabel(\"Score\")\n",
    "plt.legend()\n",
    "plt.grid(True)\n",
    "plt.show()"
   ]
  },
  {
   "cell_type": "code",
   "execution_count": 18,
   "id": "a001c43a",
   "metadata": {},
   "outputs": [
    {
     "name": "stdout",
     "output_type": "stream",
     "text": [
      "\n",
      " Re-evaluate with Optimized Threshold\n",
      "Accuracy : 0.7870\n",
      "Precision (delay=1) : 0.2634\n",
      "Recall (delay=1)    : 0.4538\n",
      "F1-score (delay=1)  : 0.3333\n",
      "ROC-AUC             : 0.7243\n",
      "\n",
      " Updated Classification Report:\n",
      "              precision    recall  f1-score   support\n",
      "\n",
      "         0.0     0.9196    0.8313    0.8732      7971\n",
      "         1.0     0.2634    0.4538    0.3333      1060\n",
      "\n",
      "    accuracy                         0.7870      9031\n",
      "   macro avg     0.5915    0.6425    0.6033      9031\n",
      "weighted avg     0.8426    0.7870    0.8099      9031\n",
      "\n"
     ]
    }
   ],
   "source": [
    "y_pred_best = (y_prob >= best_thresh).astype(int)\n",
    "\n",
    "acc2 = accuracy_score(y_test, y_pred_best)\n",
    "prec2 = precision_score(y_test, y_pred_best)\n",
    "rec2 = recall_score(y_test, y_pred_best)\n",
    "f12 = f1_score(y_test, y_pred_best)\n",
    "roc2 = roc_auc_score(y_test, y_prob)\n",
    "\n",
    "print(\"\\n Re-evaluate with Optimized Threshold\")\n",
    "print(f\"Accuracy : {acc2:.4f}\")\n",
    "print(f\"Precision (delay=1) : {prec2:.4f}\")\n",
    "print(f\"Recall (delay=1)    : {rec2:.4f}\")\n",
    "print(f\"F1-score (delay=1)  : {f12:.4f}\")\n",
    "print(f\"ROC-AUC             : {roc2:.4f}\")\n",
    "\n",
    "print(\"\\n Updated Classification Report:\")\n",
    "print(classification_report(y_test, y_pred_best, digits=4))"
   ]
  },
  {
   "cell_type": "code",
   "execution_count": 19,
   "id": "9e15722e",
   "metadata": {},
   "outputs": [
    {
     "data": {
      "image/png": "[encoded data removed]",
      "text/plain": [
       "<Figure size 500x400 with 1 Axes>"
      ]
     },
     "metadata": {},
     "output_type": "display_data"
    }
   ],
   "source": [
    "# Confusion Matrix – XGBoost (Optimized Threshold)\n",
    "plt.figure(figsize=(5,4))\n",
    "cm = confusion_matrix(y_test, y_pred_best)\n",
    "sns.heatmap(cm, annot=True, fmt='d', cmap='Greens', cbar=False)\n",
    "plt.xlabel('Predicted Label')\n",
    "plt.ylabel('Actual Label')\n",
    "plt.show()"
   ]
  },
  {
   "cell_type": "code",
   "execution_count": 20,
   "id": "cca84227",
   "metadata": {},
   "outputs": [
    {
     "data": {
      "image/png": "[encoded data removed]",
      "text/plain": [
       "<Figure size 800x500 with 1 Axes>"
      ]
     },
     "metadata": {},
     "output_type": "display_data"
    }
   ],
   "source": [
    "# Top 15 Important Features (XGBoost)\n",
    "importances = best_xgb.feature_importances_\n",
    "feat_imp = pd.Series(importances, index=X_train.columns).sort_values(ascending=False)\n",
    "\n",
    "plt.figure(figsize=(8,5))\n",
    "sns.barplot(x=feat_imp[:15], y=feat_imp.index[:15], color='lightblue')\n",
    "plt.xlabel(\"Feature Importance\")\n",
    "plt.ylabel(\"Feature\")\n",
    "plt.tight_layout()\n",
    "plt.show()"
   ]
  },
  {
   "cell_type": "code",
   "execution_count": 21,
   "id": "30f22c45",
   "metadata": {},
   "outputs": [
    {
     "data": {
      "text/plain": [
       "['D:\\\\Project DS Final\\\\Classi_Models\\\\xgboost.pkl']"
      ]
     },
     "execution_count": 21,
     "metadata": {},
     "output_type": "execute_result"
    }
   ],
   "source": [
    "import joblib\n",
    "joblib.dump(best_xgb, r\"D:\\Project DS Final\\Classi_Models\\xgboost.pkl\")"
   ]
  }
 ],
 "metadata": {
  "kernelspec": {
   "display_name": "Python 3",
   "language": "python",
   "name": "python3"
  },
  "language_info": {
   "codemirror_mode": {
    "name": "ipython",
    "version": 3
   },
   "file_extension": ".py",
   "mimetype": "text/x-python",
   "name": "python",
   "nbconvert_exporter": "python",
   "pygments_lexer": "ipython3",
   "version": "3.11.9"
  }
 },
 "nbformat": 4,
 "nbformat_minor": 5
}
