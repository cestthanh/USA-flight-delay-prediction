{
 "cells": [
  {
   "cell_type": "code",
   "execution_count": 15,
   "id": "809251cd",
   "metadata": {},
   "outputs": [],
   "source": [
    "import pandas as pd\n",
    "import numpy as np\n",
    "import time\n",
    "import matplotlib.pyplot as plt\n",
    "import seaborn as sns\n",
    "from sklearn.model_selection import train_test_split, GridSearchCV\n",
    "from sklearn.ensemble import RandomForestClassifier\n",
    "from sklearn.metrics import classification_report, confusion_matrix, roc_auc_score, accuracy_score, f1_score, precision_score, recall_score, precision_recall_curve"
   ]
  },
  {
   "cell_type": "code",
   "execution_count": 2,
   "id": "09ad8e18",
   "metadata": {},
   "outputs": [
    {
     "name": "stdout",
     "output_type": "stream",
     "text": [
      "<class 'pandas.core.frame.DataFrame'>\n",
      "RangeIndex: 45155 entries, 0 to 45154\n",
      "Data columns (total 15 columns):\n",
      " #   Column                     Non-Null Count  Dtype  \n",
      "---  ------                     --------------  -----  \n",
      " 0   MONTH                      45155 non-null  int64  \n",
      " 1   DAY_OF_MONTH               45155 non-null  int64  \n",
      " 2   DAY_OF_WEEK                45155 non-null  int64  \n",
      " 3   CRS_DEP_TIME               45155 non-null  float64\n",
      " 4   CRS_ELAPSED_TIME           45155 non-null  float64\n",
      " 5   OP_UNIQUE_CARRIER          45155 non-null  int64  \n",
      " 6   ORIGIN                     45155 non-null  int64  \n",
      " 7   DEST                       45155 non-null  int64  \n",
      " 8   DISTANCE                   45155 non-null  float64\n",
      " 9   HourlyDewPointTemperature  45155 non-null  float64\n",
      " 10  HourlyDryBulbTemperature   45155 non-null  float64\n",
      " 11  HourlyRelativeHumidity     45155 non-null  float64\n",
      " 12  HourlyVisibility           45155 non-null  float64\n",
      " 13  HourlyWindSpeed            45155 non-null  float64\n",
      " 14  DEP_DEL15                  45155 non-null  float64\n",
      "dtypes: float64(9), int64(6)\n",
      "memory usage: 5.2 MB\n"
     ]
    },
    {
     "data": {
      "application/vnd.microsoft.datawrangler.viewer.v0+json": {
       "columns": [
        {
         "name": "index",
         "rawType": "object",
         "type": "string"
        },
        {
         "name": "MONTH",
         "rawType": "float64",
         "type": "float"
        },
        {
         "name": "DAY_OF_MONTH",
         "rawType": "float64",
         "type": "float"
        },
        {
         "name": "DAY_OF_WEEK",
         "rawType": "float64",
         "type": "float"
        },
        {
         "name": "CRS_DEP_TIME",
         "rawType": "float64",
         "type": "float"
        },
        {
         "name": "CRS_ELAPSED_TIME",
         "rawType": "float64",
         "type": "float"
        },
        {
         "name": "OP_UNIQUE_CARRIER",
         "rawType": "float64",
         "type": "float"
        },
        {
         "name": "ORIGIN",
         "rawType": "float64",
         "type": "float"
        },
        {
         "name": "DEST",
         "rawType": "float64",
         "type": "float"
        },
        {
         "name": "DISTANCE",
         "rawType": "float64",
         "type": "float"
        },
        {
         "name": "HourlyDewPointTemperature",
         "rawType": "float64",
         "type": "float"
        },
        {
         "name": "HourlyDryBulbTemperature",
         "rawType": "float64",
         "type": "float"
        },
        {
         "name": "HourlyRelativeHumidity",
         "rawType": "float64",
         "type": "float"
        },
        {
         "name": "HourlyVisibility",
         "rawType": "float64",
         "type": "float"
        },
        {
         "name": "HourlyWindSpeed",
         "rawType": "float64",
         "type": "float"
        },
        {
         "name": "DEP_DEL15",
         "rawType": "float64",
         "type": "float"
        }
       ],
       "ref": "58b9c163-5a70-47a3-946b-7690db2d1081",
       "rows": [
        [
         "count",
         "45155.0",
         "45155.0",
         "45155.0",
         "45155.0",
         "45155.0",
         "45155.0",
         "45155.0",
         "45155.0",
         "45155.0",
         "45155.0",
         "45155.0",
         "45155.0",
         "45155.0",
         "45155.0",
         "45155.0"
        ],
        [
         "mean",
         "5.046727937105525",
         "15.87748865020485",
         "3.971321005425756",
         "13.585353117041304",
         "183.31059683313032",
         "4.342642010851511",
         "3.611006533052818",
         "45.445288450891375",
         "1175.4927029121914",
         "42.800066437825265",
         "59.471664267522975",
         "57.692747204074855",
         "9.810818292547891",
         "8.24652862362972",
         "0.11741778319123021"
        ],
        [
         "std",
         "0.8084381913717614",
         "8.78086595545624",
         "2.005020168350768",
         "5.28700435601868",
         "84.56909985348744",
         "3.8588756018872648",
         "0.9928023039770505",
         "25.759278956203133",
         "732.1859699856234",
         "6.7231903823958845",
         "9.337097527051169",
         "18.5365860462688",
         "0.9832292300531438",
         "3.8737256193630705",
         "0.32192101893977637"
        ],
        [
         "min",
         "4.0",
         "1.0",
         "1.0",
         "0.08",
         "49.0",
         "0.0",
         "0.0",
         "0.0",
         "93.0",
         "5.0",
         "30.0",
         "11.0",
         "0.0",
         "0.0",
         "0.0"
        ],
        [
         "25%",
         "4.0",
         "8.0",
         "2.0",
         "9.08",
         "125.0",
         "1.0",
         "4.0",
         "22.0",
         "679.0",
         "39.0",
         "53.0",
         "44.0",
         "10.0",
         "6.0",
         "0.0"
        ],
        [
         "50%",
         "5.0",
         "16.0",
         "4.0",
         "12.97",
         "166.0",
         "3.0",
         "4.0",
         "45.0",
         "978.0",
         "43.0",
         "58.0",
         "59.0",
         "10.0",
         "8.0",
         "0.0"
        ],
        [
         "75%",
         "6.0",
         "23.0",
         "6.0",
         "17.9",
         "244.0",
         "9.0",
         "4.0",
         "71.0",
         "1721.0",
         "48.0",
         "65.0",
         "71.0",
         "10.0",
         "10.0",
         "0.0"
        ],
        [
         "max",
         "6.0",
         "31.0",
         "7.0",
         "23.98",
         "411.0",
         "11.0",
         "4.0",
         "85.0",
         "2724.0",
         "60.0",
         "102.0",
         "100.0",
         "10.0",
         "30.0",
         "1.0"
        ]
       ],
       "shape": {
        "columns": 15,
        "rows": 8
       }
      },
      "text/html": [
       "<div>\n",
       "<style scoped>\n",
       "    .dataframe tbody tr th:only-of-type {\n",
       "        vertical-align: middle;\n",
       "    }\n",
       "\n",
       "    .dataframe tbody tr th {\n",
       "        vertical-align: top;\n",
       "    }\n",
       "\n",
       "    .dataframe thead th {\n",
       "        text-align: right;\n",
       "    }\n",
       "</style>\n",
       "<table border=\"1\" class=\"dataframe\">\n",
       "  <thead>\n",
       "    <tr style=\"text-align: right;\">\n",
       "      <th></th>\n",
       "      <th>MONTH</th>\n",
       "      <th>DAY_OF_MONTH</th>\n",
       "      <th>DAY_OF_WEEK</th>\n",
       "      <th>CRS_DEP_TIME</th>\n",
       "      <th>CRS_ELAPSED_TIME</th>\n",
       "      <th>OP_UNIQUE_CARRIER</th>\n",
       "      <th>ORIGIN</th>\n",
       "      <th>DEST</th>\n",
       "      <th>DISTANCE</th>\n",
       "      <th>HourlyDewPointTemperature</th>\n",
       "      <th>HourlyDryBulbTemperature</th>\n",
       "      <th>HourlyRelativeHumidity</th>\n",
       "      <th>HourlyVisibility</th>\n",
       "      <th>HourlyWindSpeed</th>\n",
       "      <th>DEP_DEL15</th>\n",
       "    </tr>\n",
       "  </thead>\n",
       "  <tbody>\n",
       "    <tr>\n",
       "      <th>count</th>\n",
       "      <td>45155.000000</td>\n",
       "      <td>45155.000000</td>\n",
       "      <td>45155.000000</td>\n",
       "      <td>45155.000000</td>\n",
       "      <td>45155.000000</td>\n",
       "      <td>45155.000000</td>\n",
       "      <td>45155.000000</td>\n",
       "      <td>45155.000000</td>\n",
       "      <td>45155.000000</td>\n",
       "      <td>45155.000000</td>\n",
       "      <td>45155.000000</td>\n",
       "      <td>45155.000000</td>\n",
       "      <td>45155.000000</td>\n",
       "      <td>45155.000000</td>\n",
       "      <td>45155.000000</td>\n",
       "    </tr>\n",
       "    <tr>\n",
       "      <th>mean</th>\n",
       "      <td>5.046728</td>\n",
       "      <td>15.877489</td>\n",
       "      <td>3.971321</td>\n",
       "      <td>13.585353</td>\n",
       "      <td>183.310597</td>\n",
       "      <td>4.342642</td>\n",
       "      <td>3.611007</td>\n",
       "      <td>45.445288</td>\n",
       "      <td>1175.492703</td>\n",
       "      <td>42.800066</td>\n",
       "      <td>59.471664</td>\n",
       "      <td>57.692747</td>\n",
       "      <td>9.810818</td>\n",
       "      <td>8.246529</td>\n",
       "      <td>0.117418</td>\n",
       "    </tr>\n",
       "    <tr>\n",
       "      <th>std</th>\n",
       "      <td>0.808438</td>\n",
       "      <td>8.780866</td>\n",
       "      <td>2.005020</td>\n",
       "      <td>5.287004</td>\n",
       "      <td>84.569100</td>\n",
       "      <td>3.858876</td>\n",
       "      <td>0.992802</td>\n",
       "      <td>25.759279</td>\n",
       "      <td>732.185970</td>\n",
       "      <td>6.723190</td>\n",
       "      <td>9.337098</td>\n",
       "      <td>18.536586</td>\n",
       "      <td>0.983229</td>\n",
       "      <td>3.873726</td>\n",
       "      <td>0.321921</td>\n",
       "    </tr>\n",
       "    <tr>\n",
       "      <th>min</th>\n",
       "      <td>4.000000</td>\n",
       "      <td>1.000000</td>\n",
       "      <td>1.000000</td>\n",
       "      <td>0.080000</td>\n",
       "      <td>49.000000</td>\n",
       "      <td>0.000000</td>\n",
       "      <td>0.000000</td>\n",
       "      <td>0.000000</td>\n",
       "      <td>93.000000</td>\n",
       "      <td>5.000000</td>\n",
       "      <td>30.000000</td>\n",
       "      <td>11.000000</td>\n",
       "      <td>0.000000</td>\n",
       "      <td>0.000000</td>\n",
       "      <td>0.000000</td>\n",
       "    </tr>\n",
       "    <tr>\n",
       "      <th>25%</th>\n",
       "      <td>4.000000</td>\n",
       "      <td>8.000000</td>\n",
       "      <td>2.000000</td>\n",
       "      <td>9.080000</td>\n",
       "      <td>125.000000</td>\n",
       "      <td>1.000000</td>\n",
       "      <td>4.000000</td>\n",
       "      <td>22.000000</td>\n",
       "      <td>679.000000</td>\n",
       "      <td>39.000000</td>\n",
       "      <td>53.000000</td>\n",
       "      <td>44.000000</td>\n",
       "      <td>10.000000</td>\n",
       "      <td>6.000000</td>\n",
       "      <td>0.000000</td>\n",
       "    </tr>\n",
       "    <tr>\n",
       "      <th>50%</th>\n",
       "      <td>5.000000</td>\n",
       "      <td>16.000000</td>\n",
       "      <td>4.000000</td>\n",
       "      <td>12.970000</td>\n",
       "      <td>166.000000</td>\n",
       "      <td>3.000000</td>\n",
       "      <td>4.000000</td>\n",
       "      <td>45.000000</td>\n",
       "      <td>978.000000</td>\n",
       "      <td>43.000000</td>\n",
       "      <td>58.000000</td>\n",
       "      <td>59.000000</td>\n",
       "      <td>10.000000</td>\n",
       "      <td>8.000000</td>\n",
       "      <td>0.000000</td>\n",
       "    </tr>\n",
       "    <tr>\n",
       "      <th>75%</th>\n",
       "      <td>6.000000</td>\n",
       "      <td>23.000000</td>\n",
       "      <td>6.000000</td>\n",
       "      <td>17.900000</td>\n",
       "      <td>244.000000</td>\n",
       "      <td>9.000000</td>\n",
       "      <td>4.000000</td>\n",
       "      <td>71.000000</td>\n",
       "      <td>1721.000000</td>\n",
       "      <td>48.000000</td>\n",
       "      <td>65.000000</td>\n",
       "      <td>71.000000</td>\n",
       "      <td>10.000000</td>\n",
       "      <td>10.000000</td>\n",
       "      <td>0.000000</td>\n",
       "    </tr>\n",
       "    <tr>\n",
       "      <th>max</th>\n",
       "      <td>6.000000</td>\n",
       "      <td>31.000000</td>\n",
       "      <td>7.000000</td>\n",
       "      <td>23.980000</td>\n",
       "      <td>411.000000</td>\n",
       "      <td>11.000000</td>\n",
       "      <td>4.000000</td>\n",
       "      <td>85.000000</td>\n",
       "      <td>2724.000000</td>\n",
       "      <td>60.000000</td>\n",
       "      <td>102.000000</td>\n",
       "      <td>100.000000</td>\n",
       "      <td>10.000000</td>\n",
       "      <td>30.000000</td>\n",
       "      <td>1.000000</td>\n",
       "    </tr>\n",
       "  </tbody>\n",
       "</table>\n",
       "</div>"
      ],
      "text/plain": [
       "              MONTH  DAY_OF_MONTH   DAY_OF_WEEK  CRS_DEP_TIME  \\\n",
       "count  45155.000000  45155.000000  45155.000000  45155.000000   \n",
       "mean       5.046728     15.877489      3.971321     13.585353   \n",
       "std        0.808438      8.780866      2.005020      5.287004   \n",
       "min        4.000000      1.000000      1.000000      0.080000   \n",
       "25%        4.000000      8.000000      2.000000      9.080000   \n",
       "50%        5.000000     16.000000      4.000000     12.970000   \n",
       "75%        6.000000     23.000000      6.000000     17.900000   \n",
       "max        6.000000     31.000000      7.000000     23.980000   \n",
       "\n",
       "       CRS_ELAPSED_TIME  OP_UNIQUE_CARRIER        ORIGIN          DEST  \\\n",
       "count      45155.000000       45155.000000  45155.000000  45155.000000   \n",
       "mean         183.310597           4.342642      3.611007     45.445288   \n",
       "std           84.569100           3.858876      0.992802     25.759279   \n",
       "min           49.000000           0.000000      0.000000      0.000000   \n",
       "25%          125.000000           1.000000      4.000000     22.000000   \n",
       "50%          166.000000           3.000000      4.000000     45.000000   \n",
       "75%          244.000000           9.000000      4.000000     71.000000   \n",
       "max          411.000000          11.000000      4.000000     85.000000   \n",
       "\n",
       "           DISTANCE  HourlyDewPointTemperature  HourlyDryBulbTemperature  \\\n",
       "count  45155.000000               45155.000000              45155.000000   \n",
       "mean    1175.492703                  42.800066                 59.471664   \n",
       "std      732.185970                   6.723190                  9.337098   \n",
       "min       93.000000                   5.000000                 30.000000   \n",
       "25%      679.000000                  39.000000                 53.000000   \n",
       "50%      978.000000                  43.000000                 58.000000   \n",
       "75%     1721.000000                  48.000000                 65.000000   \n",
       "max     2724.000000                  60.000000                102.000000   \n",
       "\n",
       "       HourlyRelativeHumidity  HourlyVisibility  HourlyWindSpeed     DEP_DEL15  \n",
       "count            45155.000000      45155.000000     45155.000000  45155.000000  \n",
       "mean                57.692747          9.810818         8.246529      0.117418  \n",
       "std                 18.536586          0.983229         3.873726      0.321921  \n",
       "min                 11.000000          0.000000         0.000000      0.000000  \n",
       "25%                 44.000000         10.000000         6.000000      0.000000  \n",
       "50%                 59.000000         10.000000         8.000000      0.000000  \n",
       "75%                 71.000000         10.000000        10.000000      0.000000  \n",
       "max                100.000000         10.000000        30.000000      1.000000  "
      ]
     },
     "execution_count": 2,
     "metadata": {},
     "output_type": "execute_result"
    }
   ],
   "source": [
    "df = pd.read_csv(\"../Data/flight_dep_classi_tree.csv\")\n",
    "df.info()\n",
    "df.describe()"
   ]
  },
  {
   "cell_type": "code",
   "execution_count": 3,
   "id": "714d61e7",
   "metadata": {},
   "outputs": [],
   "source": [
    "X = df.drop(columns=[\"DEP_DEL15\"])\n",
    "y = df[\"DEP_DEL15\"]"
   ]
  },
  {
   "cell_type": "code",
   "execution_count": 4,
   "id": "baaedca7",
   "metadata": {},
   "outputs": [
    {
     "name": "stdout",
     "output_type": "stream",
     "text": [
      "Training set: (36124, 14), Test set: (9031, 14)\n",
      "DEP_DEL15\n",
      "0.0    0.882571\n",
      "1.0    0.117429\n",
      "Name: proportion, dtype: float64\n"
     ]
    }
   ],
   "source": [
    "X_train, X_test, y_train, y_test = train_test_split(\n",
    "    X, y, test_size=0.2, random_state=42, stratify=y\n",
    ")\n",
    "print(f\"Training set: {X_train.shape}, Test set: {X_test.shape}\")\n",
    "print(y_train.value_counts(normalize=True))"
   ]
  },
  {
   "cell_type": "code",
   "execution_count": 5,
   "id": "160fe1da",
   "metadata": {},
   "outputs": [],
   "source": [
    "rf = RandomForestClassifier(\n",
    "    random_state=42,\n",
    "    n_jobs=-1,\n",
    "    class_weight='balanced'  \n",
    ")"
   ]
  },
  {
   "cell_type": "code",
   "execution_count": 6,
   "id": "6142cadf",
   "metadata": {},
   "outputs": [],
   "source": [
    "param_grid = {\n",
    "    \"n_estimators\": [200, 400],\n",
    "    \"max_depth\": [10, 20, None],\n",
    "    \"min_samples_split\": [2, 5, 10],\n",
    "    \"min_samples_leaf\": [1, 2, 4],\n",
    "    \"max_features\": [\"sqrt\", \"log2\"]\n",
    "}"
   ]
  },
  {
   "cell_type": "code",
   "execution_count": 7,
   "id": "05ed90fd",
   "metadata": {},
   "outputs": [
    {
     "name": "stdout",
     "output_type": "stream",
     "text": [
      "Fitting 3 folds for each of 108 candidates, totalling 324 fits\n",
      " Time: 263.58 s\n",
      " Best Parameters: {'max_depth': 10, 'max_features': 'sqrt', 'min_samples_leaf': 4, 'min_samples_split': 10, 'n_estimators': 400}\n",
      " Best CV ROC-AUC: 0.7017\n"
     ]
    }
   ],
   "source": [
    "grid = GridSearchCV(\n",
    "    estimator=rf,\n",
    "    param_grid=param_grid,\n",
    "    cv=3,\n",
    "    scoring=\"roc_auc\",\n",
    "    n_jobs=-1,\n",
    "    verbose=2\n",
    ")\n",
    "\n",
    "start = time.time()\n",
    "grid.fit(X_train, y_train)\n",
    "end = time.time()\n",
    "\n",
    "print(f\" Time: {end - start:.2f} s\")\n",
    "print(\" Best Parameters:\", grid.best_params_)\n",
    "print(f\" Best CV ROC-AUC: {grid.best_score_:.4f}\")"
   ]
  },
  {
   "cell_type": "code",
   "execution_count": 22,
   "id": "09678d1d",
   "metadata": {},
   "outputs": [
    {
     "name": "stdout",
     "output_type": "stream",
     "text": [
      "\n",
      " Random Forest Classifier\n",
      "Accuracy : 0.6840\n",
      "Precision (delay=1) : 0.2145\n",
      "Recall (delay=1)    : 0.6358\n",
      "F1-score (delay=1)  : 0.3208\n",
      "ROC-AUC             : 0.7198\n",
      "\n",
      " Classification Report:\n",
      "              precision    recall  f1-score   support\n",
      "\n",
      "         0.0     0.9345    0.6904    0.7941      7971\n",
      "         1.0     0.2145    0.6358    0.3208      1060\n",
      "\n",
      "    accuracy                         0.6840      9031\n",
      "   macro avg     0.5745    0.6631    0.5574      9031\n",
      "weighted avg     0.8500    0.6840    0.7385      9031\n",
      "\n"
     ]
    }
   ],
   "source": [
    "best_rf = grid.best_estimator_\n",
    "\n",
    "y_pred = best_rf.predict(X_test)\n",
    "y_prob = best_rf.predict_proba(X_test)[:, 1]\n",
    "\n",
    "acc = accuracy_score(y_test, y_pred)\n",
    "f1 = f1_score(y_test, y_pred)\n",
    "roc = roc_auc_score(y_test, y_prob)\n",
    "prec = precision_score(y_test, y_pred)\n",
    "rec = recall_score(y_test, y_pred)\n",
    "\n",
    "print(\"\\n Random Forest Classifier\")\n",
    "print(f\"Accuracy : {acc:.4f}\")\n",
    "print(f\"Precision (delay=1) : {prec:.4f}\")\n",
    "print(f\"Recall (delay=1)    : {rec:.4f}\")\n",
    "print(f\"F1-score (delay=1)  : {f1:.4f}\")\n",
    "print(f\"ROC-AUC             : {roc:.4f}\")\n",
    "\n",
    "print(\"\\n Classification Report:\")\n",
    "print(classification_report(y_test, y_pred, digits=4))"
   ]
  },
  {
   "cell_type": "code",
   "execution_count": 23,
   "id": "3b26b686",
   "metadata": {},
   "outputs": [
    {
     "name": "stdout",
     "output_type": "stream",
     "text": [
      "\n",
      " Threshold Optimization\n",
      "Best Threshold: 0.522\n",
      "Precision: 0.226\n",
      "Recall:    0.579\n",
      "F1-score:  0.325\n"
     ]
    },
    {
     "data": {
      "image/png": "[encoded data removed]",
      "text/plain": [
       "<Figure size 800x500 with 1 Axes>"
      ]
     },
     "metadata": {},
     "output_type": "display_data"
    }
   ],
   "source": [
    "precisions, recalls, thresholds = precision_recall_curve(y_test, y_prob)\n",
    "f1_scores = 2 * (precisions * recalls) / (precisions + recalls + 1e-8)\n",
    "best_idx = np.argmax(f1_scores)\n",
    "best_thresh = thresholds[best_idx]\n",
    "\n",
    "print(\"\\n Threshold Optimization\")\n",
    "print(f\"Best Threshold: {best_thresh:.3f}\")\n",
    "print(f\"Precision: {precisions[best_idx]:.3f}\")\n",
    "print(f\"Recall:    {recalls[best_idx]:.3f}\")\n",
    "print(f\"F1-score:  {f1_scores[best_idx]:.3f}\")\n",
    "\n",
    "# Precision–Recall vs Threshold\n",
    "plt.figure(figsize=(8,5))\n",
    "plt.plot(thresholds, precisions[:-1], 'b--', label='Precision')\n",
    "plt.plot(thresholds, recalls[:-1], 'g-', label='Recall')\n",
    "plt.plot(thresholds, f1_scores[:-1], 'r-', label='F1-score')\n",
    "plt.axvline(x=best_thresh, color='orange', linestyle='--', label=f'Best={best_thresh:.2f}')\n",
    "plt.xlabel(\"Threshold\")\n",
    "plt.ylabel(\"Score\")\n",
    "plt.legend()\n",
    "plt.grid(True)\n",
    "plt.show()"
   ]
  },
  {
   "cell_type": "code",
   "execution_count": 24,
   "id": "842161fe",
   "metadata": {},
   "outputs": [
    {
     "name": "stdout",
     "output_type": "stream",
     "text": [
      "\n",
      " Re-evaluate with Optimized Threshold\n",
      "Accuracy : 0.7172\n",
      "Precision (delay=1) : 0.2256\n",
      "Recall (delay=1)    : 0.5792\n",
      "F1-score (delay=1)  : 0.3247\n",
      "ROC-AUC             : 0.7198\n",
      "\n",
      " Updated Classification Report:\n",
      "              precision    recall  f1-score   support\n",
      "\n",
      "         0.0     0.9293    0.7355    0.8211      7971\n",
      "         1.0     0.2256    0.5792    0.3247      1060\n",
      "\n",
      "    accuracy                         0.7172      9031\n",
      "   macro avg     0.5774    0.6574    0.5729      9031\n",
      "weighted avg     0.8467    0.7172    0.7629      9031\n",
      "\n"
     ]
    }
   ],
   "source": [
    "y_pred_best = (y_prob >= best_thresh).astype(int)\n",
    "\n",
    "acc2 = accuracy_score(y_test, y_pred_best)\n",
    "prec2 = precision_score(y_test, y_pred_best)\n",
    "rec2 = recall_score(y_test, y_pred_best)\n",
    "f12 = f1_score(y_test, y_pred_best)\n",
    "roc2 = roc_auc_score(y_test, y_prob)\n",
    "\n",
    "print(\"\\n Re-evaluate with Optimized Threshold\")\n",
    "print(f\"Accuracy : {acc2:.4f}\")\n",
    "print(f\"Precision (delay=1) : {prec2:.4f}\")\n",
    "print(f\"Recall (delay=1)    : {rec2:.4f}\")\n",
    "print(f\"F1-score (delay=1)  : {f12:.4f}\")\n",
    "print(f\"ROC-AUC             : {roc2:.4f}\")\n",
    "\n",
    "print(\"\\n Updated Classification Report:\")\n",
    "print(classification_report(y_test, y_pred_best, digits=4))"
   ]
  },
  {
   "cell_type": "code",
   "execution_count": 21,
   "id": "5b474345",
   "metadata": {},
   "outputs": [
    {
     "data": {
      "image/png": "[encoded data removed]",
      "text/plain": [
       "<Figure size 500x400 with 1 Axes>"
      ]
     },
     "metadata": {},
     "output_type": "display_data"
    }
   ],
   "source": [
    "# Confusion Matrix – Random Forest\n",
    "plt.figure(figsize=(5,4))\n",
    "cm = confusion_matrix(y_test, y_pred)\n",
    "sns.heatmap(cm, annot=True, fmt='d', cmap='Blues', cbar=False)\n",
    "plt.xlabel('Predicted Label')\n",
    "plt.ylabel('Actual Label')\n",
    "plt.show()"
   ]
  },
  {
   "cell_type": "code",
   "execution_count": 14,
   "id": "12a95f75",
   "metadata": {},
   "outputs": [
    {
     "data": {
      "image/png": "[encoded data removed]",
      "text/plain": [
       "<Figure size 800x500 with 1 Axes>"
      ]
     },
     "metadata": {},
     "output_type": "display_data"
    }
   ],
   "source": [
    "# Top 15 Important Features (Random Forest)\n",
    "importances = best_rf.feature_importances_\n",
    "feat_imp = pd.Series(importances, index=X_train.columns).sort_values(ascending=False)\n",
    "\n",
    "plt.figure(figsize=(8,5))\n",
    "sns.barplot(x=feat_imp[:15], y=feat_imp.index[:15], color='lightblue')\n",
    "plt.xlabel(\"Feature Importance\")\n",
    "plt.ylabel(\"Feature\")\n",
    "plt.tight_layout()\n",
    "plt.show()"
   ]
  }
 ],
 "metadata": {
  "kernelspec": {
   "display_name": "Python 3",
   "language": "python",
   "name": "python3"
  },
  "language_info": {
   "codemirror_mode": {
    "name": "ipython",
    "version": 3
   },
   "file_extension": ".py",
   "mimetype": "text/x-python",
   "name": "python",
   "nbconvert_exporter": "python",
   "pygments_lexer": "ipython3",
   "version": "3.12.0"
  }
 },
 "nbformat": 4,
 "nbformat_minor": 5
}
