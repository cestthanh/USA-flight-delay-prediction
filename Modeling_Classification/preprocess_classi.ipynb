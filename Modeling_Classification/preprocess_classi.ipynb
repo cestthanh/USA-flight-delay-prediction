{
 "cells": [
  {
   "cell_type": "code",
   "execution_count": 22,
   "id": "07a940a0",
   "metadata": {},
   "outputs": [],
   "source": [
    "import pandas as pd\n",
    "import numpy as np\n",
    "import seaborn as sns\n",
    "import matplotlib.pyplot as plt\n",
    "from sklearn.preprocessing import LabelEncoder, StandardScaler\n",
    "from imblearn.over_sampling import SMOTE"
   ]
  },
  {
   "cell_type": "code",
   "execution_count": 23,
   "id": "5e787d71",
   "metadata": {},
   "outputs": [
    {
     "name": "stdout",
     "output_type": "stream",
     "text": [
      "✅ Dataset loaded. Shape: (50029, 16)\n"
     ]
    }
   ],
   "source": [
    "# --- Load original dataset ---\n",
    "df = pd.read_csv(r\"D:\\Project DS Final\\2025\\check\\final_clean_data.csv\")\n",
    "\n",
    "# --- Select features for classification ---\n",
    "selected_columns = [\n",
    "    \"MONTH\",\"DAY_OF_MONTH\",\"DAY_OF_WEEK\",\n",
    "    \"OP_UNIQUE_CARRIER\",\"ORIGIN\",\"DEST\",\n",
    "    \"CRS_DEP_TIME\",\"CRS_ARR_TIME\",\n",
    "    \"CRS_ELAPSED_TIME\",\"DISTANCE\",\n",
    "    \"HourlyDewPointTemperature\",\"HourlyDryBulbTemperature\",\n",
    "    \"HourlyRelativeHumidity\",\"HourlyVisibility\",\"HourlyWindSpeed\",\n",
    "    \"DEP_DEL15\"\n",
    "]\n",
    "df_classifi = df[selected_columns].copy()\n",
    "print(\"✅ Dataset loaded. Shape:\", df_classifi.shape)"
   ]
  },
  {
   "cell_type": "code",
   "execution_count": 24,
   "id": "26819519",
   "metadata": {},
   "outputs": [
    {
     "name": "stdout",
     "output_type": "stream",
     "text": [
      "🔤 Label encoding completed for: ['OP_UNIQUE_CARRIER', 'ORIGIN', 'DEST']\n",
      "Preview:\n"
     ]
    },
    {
     "data": {
      "text/html": [
       "<div>\n",
       "<style scoped>\n",
       "    .dataframe tbody tr th:only-of-type {\n",
       "        vertical-align: middle;\n",
       "    }\n",
       "\n",
       "    .dataframe tbody tr th {\n",
       "        vertical-align: top;\n",
       "    }\n",
       "\n",
       "    .dataframe thead th {\n",
       "        text-align: right;\n",
       "    }\n",
       "</style>\n",
       "<table border=\"1\" class=\"dataframe\">\n",
       "  <thead>\n",
       "    <tr style=\"text-align: right;\">\n",
       "      <th></th>\n",
       "      <th>MONTH</th>\n",
       "      <th>DAY_OF_MONTH</th>\n",
       "      <th>DAY_OF_WEEK</th>\n",
       "      <th>OP_UNIQUE_CARRIER</th>\n",
       "      <th>ORIGIN</th>\n",
       "      <th>DEST</th>\n",
       "      <th>CRS_DEP_TIME</th>\n",
       "      <th>CRS_ARR_TIME</th>\n",
       "      <th>CRS_ELAPSED_TIME</th>\n",
       "      <th>DISTANCE</th>\n",
       "      <th>HourlyDewPointTemperature</th>\n",
       "      <th>HourlyDryBulbTemperature</th>\n",
       "      <th>HourlyRelativeHumidity</th>\n",
       "      <th>HourlyVisibility</th>\n",
       "      <th>HourlyWindSpeed</th>\n",
       "      <th>DEP_DEL15</th>\n",
       "    </tr>\n",
       "  </thead>\n",
       "  <tbody>\n",
       "    <tr>\n",
       "      <th>0</th>\n",
       "      <td>4</td>\n",
       "      <td>1</td>\n",
       "      <td>2</td>\n",
       "      <td>0</td>\n",
       "      <td>1</td>\n",
       "      <td>62</td>\n",
       "      <td>6.53</td>\n",
       "      <td>9.33</td>\n",
       "      <td>168.0</td>\n",
       "      <td>1020.0</td>\n",
       "      <td>33.0</td>\n",
       "      <td>36.0</td>\n",
       "      <td>89.0</td>\n",
       "      <td>5.0</td>\n",
       "      <td>10.0</td>\n",
       "      <td>0.0</td>\n",
       "    </tr>\n",
       "    <tr>\n",
       "      <th>1</th>\n",
       "      <td>4</td>\n",
       "      <td>1</td>\n",
       "      <td>2</td>\n",
       "      <td>0</td>\n",
       "      <td>1</td>\n",
       "      <td>62</td>\n",
       "      <td>15.45</td>\n",
       "      <td>18.12</td>\n",
       "      <td>160.0</td>\n",
       "      <td>1020.0</td>\n",
       "      <td>33.0</td>\n",
       "      <td>45.0</td>\n",
       "      <td>63.0</td>\n",
       "      <td>10.0</td>\n",
       "      <td>10.0</td>\n",
       "      <td>1.0</td>\n",
       "    </tr>\n",
       "    <tr>\n",
       "      <th>2</th>\n",
       "      <td>4</td>\n",
       "      <td>1</td>\n",
       "      <td>2</td>\n",
       "      <td>0</td>\n",
       "      <td>4</td>\n",
       "      <td>14</td>\n",
       "      <td>7.33</td>\n",
       "      <td>15.32</td>\n",
       "      <td>299.0</td>\n",
       "      <td>2279.0</td>\n",
       "      <td>37.0</td>\n",
       "      <td>43.0</td>\n",
       "      <td>80.0</td>\n",
       "      <td>10.0</td>\n",
       "      <td>6.0</td>\n",
       "      <td>0.0</td>\n",
       "    </tr>\n",
       "    <tr>\n",
       "      <th>3</th>\n",
       "      <td>4</td>\n",
       "      <td>1</td>\n",
       "      <td>2</td>\n",
       "      <td>0</td>\n",
       "      <td>4</td>\n",
       "      <td>14</td>\n",
       "      <td>13.83</td>\n",
       "      <td>21.83</td>\n",
       "      <td>300.0</td>\n",
       "      <td>2279.0</td>\n",
       "      <td>41.0</td>\n",
       "      <td>49.0</td>\n",
       "      <td>74.0</td>\n",
       "      <td>10.0</td>\n",
       "      <td>6.0</td>\n",
       "      <td>0.0</td>\n",
       "    </tr>\n",
       "    <tr>\n",
       "      <th>4</th>\n",
       "      <td>4</td>\n",
       "      <td>1</td>\n",
       "      <td>2</td>\n",
       "      <td>0</td>\n",
       "      <td>4</td>\n",
       "      <td>14</td>\n",
       "      <td>22.00</td>\n",
       "      <td>6.00</td>\n",
       "      <td>300.0</td>\n",
       "      <td>2279.0</td>\n",
       "      <td>41.0</td>\n",
       "      <td>45.0</td>\n",
       "      <td>86.0</td>\n",
       "      <td>10.0</td>\n",
       "      <td>7.0</td>\n",
       "      <td>0.0</td>\n",
       "    </tr>\n",
       "  </tbody>\n",
       "</table>\n",
       "</div>"
      ],
      "text/plain": [
       "   MONTH  DAY_OF_MONTH  DAY_OF_WEEK  OP_UNIQUE_CARRIER  ORIGIN  DEST  \\\n",
       "0      4             1            2                  0       1    62   \n",
       "1      4             1            2                  0       1    62   \n",
       "2      4             1            2                  0       4    14   \n",
       "3      4             1            2                  0       4    14   \n",
       "4      4             1            2                  0       4    14   \n",
       "\n",
       "   CRS_DEP_TIME  CRS_ARR_TIME  CRS_ELAPSED_TIME  DISTANCE  \\\n",
       "0          6.53          9.33             168.0    1020.0   \n",
       "1         15.45         18.12             160.0    1020.0   \n",
       "2          7.33         15.32             299.0    2279.0   \n",
       "3         13.83         21.83             300.0    2279.0   \n",
       "4         22.00          6.00             300.0    2279.0   \n",
       "\n",
       "   HourlyDewPointTemperature  HourlyDryBulbTemperature  \\\n",
       "0                       33.0                      36.0   \n",
       "1                       33.0                      45.0   \n",
       "2                       37.0                      43.0   \n",
       "3                       41.0                      49.0   \n",
       "4                       41.0                      45.0   \n",
       "\n",
       "   HourlyRelativeHumidity  HourlyVisibility  HourlyWindSpeed  DEP_DEL15  \n",
       "0                    89.0               5.0             10.0        0.0  \n",
       "1                    63.0              10.0             10.0        1.0  \n",
       "2                    80.0              10.0              6.0        0.0  \n",
       "3                    74.0              10.0              6.0        0.0  \n",
       "4                    86.0              10.0              7.0        0.0  "
      ]
     },
     "metadata": {},
     "output_type": "display_data"
    }
   ],
   "source": [
    "# ===============================\n",
    "# 2️⃣ Encode categorical columns\n",
    "# ===============================\n",
    "from sklearn.preprocessing import LabelEncoder\n",
    "\n",
    "label_cols = [\"OP_UNIQUE_CARRIER\", \"ORIGIN\", \"DEST\"]\n",
    "le = LabelEncoder()\n",
    "\n",
    "for col in label_cols:\n",
    "    df_classifi[col] = le.fit_transform(df_classifi[col])\n",
    "\n",
    "print(\"🔤 Label encoding completed for:\", label_cols)\n",
    "print(\"Preview:\")\n",
    "display(df_classifi.head())"
   ]
  },
  {
   "cell_type": "code",
   "execution_count": 25,
   "id": "75cfca7b",
   "metadata": {},
   "outputs": [
    {
     "name": "stdout",
     "output_type": "stream",
     "text": [
      "📏 Scaled entire dataset (not just train/test).\n"
     ]
    }
   ],
   "source": [
    "# ===============================\n",
    "# 3️⃣ Scale toàn bộ dataset (data leakage intentionally)\n",
    "# ===============================\n",
    "scale_cols = [\n",
    "    \"CRS_DEP_TIME\",\"CRS_ARR_TIME\",\"CRS_ELAPSED_TIME\",\"DISTANCE\",\n",
    "    \"HourlyDewPointTemperature\",\"HourlyDryBulbTemperature\",\n",
    "    \"HourlyRelativeHumidity\",\"HourlyVisibility\",\"HourlyWindSpeed\"\n",
    "]\n",
    "\n",
    "scaler = StandardScaler()\n",
    "scaled = scaler.fit_transform(df_classifi[scale_cols])\n",
    "df_classifi[scale_cols] = scaled\n",
    "\n",
    "print(\"📏 Scaled entire dataset (not just train/test).\")\n"
   ]
  },
  {
   "cell_type": "code",
   "execution_count": 26,
   "id": "2322983f",
   "metadata": {},
   "outputs": [
    {
     "name": "stdout",
     "output_type": "stream",
     "text": [
      "⚙️ SMOTE applied on full dataset (data leakage).\n",
      "New shape after resampling: (79706, 16)\n",
      "Class distribution:\n",
      " DEP_DEL15\n",
      "0.0    0.5\n",
      "1.0    0.5\n",
      "Name: proportion, dtype: float64\n"
     ]
    }
   ],
   "source": [
    "# ===============================\n",
    "# 4️⃣ Apply SMOTE on the entire dataset (data leakage style)\n",
    "# ===============================\n",
    "X = df_classifi.drop(\"DEP_DEL15\", axis=1)\n",
    "y = df_classifi[\"DEP_DEL15\"]\n",
    "\n",
    "sm = SMOTE(random_state=42)\n",
    "X_res, y_res = sm.fit_resample(X, y)\n",
    "\n",
    "df_classifi = pd.concat(\n",
    "    [pd.DataFrame(X_res, columns=X.columns), y_res.reset_index(drop=True)],\n",
    "    axis=1\n",
    ")\n",
    "\n",
    "print(\"⚙️ SMOTE applied on full dataset (data leakage).\")\n",
    "print(\"New shape after resampling:\", df_classifi.shape)\n",
    "print(\"Class distribution:\\n\", y_res.value_counts(normalize=True))\n"
   ]
  },
  {
   "cell_type": "code",
   "execution_count": 27,
   "id": "d17d77ca",
   "metadata": {},
   "outputs": [
    {
     "name": "stdout",
     "output_type": "stream",
     "text": [
      "✂️ Outlier clipping done (applied to full dataset).\n"
     ]
    }
   ],
   "source": [
    "# ===============================\n",
    "# 5️⃣ Handle Outliers (Clipping) on entire dataset\n",
    "# ===============================\n",
    "num_cols = [\n",
    "    \"CRS_DEP_TIME\",\"CRS_ARR_TIME\",\"CRS_ELAPSED_TIME\",\"DISTANCE\",\n",
    "    \"HourlyDewPointTemperature\",\"HourlyDryBulbTemperature\",\n",
    "    \"HourlyRelativeHumidity\",\"HourlyVisibility\",\"HourlyWindSpeed\"\n",
    "]\n",
    "\n",
    "for col in num_cols:\n",
    "    Q1 = df_classifi[col].quantile(0.25)\n",
    "    Q3 = df_classifi[col].quantile(0.75)\n",
    "    IQR = Q3 - Q1\n",
    "    lower = Q1 - 1.75 * IQR   # dùng 1.75 thay vì 1.5 để clip nhẹ hơn\n",
    "    upper = Q3 + 1.75 * IQR\n",
    "    df_classifi[col] = df_classifi[col].clip(lower, upper)\n",
    "\n",
    "print(\"✂️ Outlier clipping done (applied to full dataset).\")\n"
   ]
  },
  {
   "cell_type": "code",
   "execution_count": 28,
   "id": "f5afe62d",
   "metadata": {},
   "outputs": [
    {
     "data": {
      "image/png": "[encoded data removed]",
      "text/plain": [
       "<Figure size 1200x500 with 1 Axes>"
      ]
     },
     "metadata": {},
     "output_type": "display_data"
    }
   ],
   "source": [
    "# ===============================\n",
    "# 6️⃣ Visualize Boxplot After Clipping\n",
    "# ===============================\n",
    "plt.figure(figsize=(12,5))\n",
    "sns.boxplot(data=df_classifi[num_cols])\n",
    "plt.title(\"Numeric Features After Clipping (Full Dataset)\")\n",
    "plt.xticks(rotation=45)\n",
    "plt.show()\n"
   ]
  },
  {
   "cell_type": "code",
   "execution_count": 29,
   "id": "f31c6e70",
   "metadata": {},
   "outputs": [],
   "source": [
    "df_classifi.to_csv(r\"D:\\Project DS Final\\Data\\classi_mod_data.csv\", index=False)"
   ]
  },
  {
   "cell_type": "code",
   "execution_count": null,
   "id": "6e5ac804",
   "metadata": {},
   "outputs": [],
   "source": []
  },
  {
   "cell_type": "code",
   "execution_count": null,
   "id": "cbe5875b",
   "metadata": {},
   "outputs": [],
   "source": []
  },
  {
   "cell_type": "code",
   "execution_count": null,
   "id": "9e66bad3",
   "metadata": {},
   "outputs": [],
   "source": []
  }
 ],
 "metadata": {
  "kernelspec": {
   "display_name": "Python 3",
   "language": "python",
   "name": "python3"
  },
  "language_info": {
   "codemirror_mode": {
    "name": "ipython",
    "version": 3
   },
   "file_extension": ".py",
   "mimetype": "text/x-python",
   "name": "python",
   "nbconvert_exporter": "python",
   "pygments_lexer": "ipython3",
   "version": "3.11.9"
  }
 },
 "nbformat": 4,
 "nbformat_minor": 5
}
