{
 "cells": [
  {
   "cell_type": "code",
   "execution_count": 15,
   "id": "b778b942",
   "metadata": {},
   "outputs": [],
   "source": [
    "import pandas as pd\n",
    "import numpy as np\n",
    "import matplotlib.pyplot as plt\n",
    "import seaborn as sns\n",
    "from sklearn.model_selection import train_test_split\n",
    "from sklearn.linear_model import LogisticRegression\n",
    "from sklearn.metrics import (\n",
    "    accuracy_score, precision_score, recall_score, f1_score,\n",
    "    confusion_matrix, ConfusionMatrixDisplay, roc_curve, auc, classification_report\n",
    ")"
   ]
  },
  {
   "cell_type": "code",
   "execution_count": 16,
   "id": "3dd5bf44",
   "metadata": {},
   "outputs": [
    {
     "name": "stdout",
     "output_type": "stream",
     "text": [
      "Shape: (79706, 16)\n"
     ]
    },
    {
     "data": {
      "text/html": [
       "<div>\n",
       "<style scoped>\n",
       "    .dataframe tbody tr th:only-of-type {\n",
       "        vertical-align: middle;\n",
       "    }\n",
       "\n",
       "    .dataframe tbody tr th {\n",
       "        vertical-align: top;\n",
       "    }\n",
       "\n",
       "    .dataframe thead th {\n",
       "        text-align: right;\n",
       "    }\n",
       "</style>\n",
       "<table border=\"1\" class=\"dataframe\">\n",
       "  <thead>\n",
       "    <tr style=\"text-align: right;\">\n",
       "      <th></th>\n",
       "      <th>MONTH</th>\n",
       "      <th>DAY_OF_MONTH</th>\n",
       "      <th>DAY_OF_WEEK</th>\n",
       "      <th>OP_UNIQUE_CARRIER</th>\n",
       "      <th>ORIGIN</th>\n",
       "      <th>DEST</th>\n",
       "      <th>CRS_DEP_TIME</th>\n",
       "      <th>CRS_ARR_TIME</th>\n",
       "      <th>CRS_ELAPSED_TIME</th>\n",
       "      <th>DISTANCE</th>\n",
       "      <th>HourlyDewPointTemperature</th>\n",
       "      <th>HourlyDryBulbTemperature</th>\n",
       "      <th>HourlyRelativeHumidity</th>\n",
       "      <th>HourlyVisibility</th>\n",
       "      <th>HourlyWindSpeed</th>\n",
       "      <th>DEP_DEL15</th>\n",
       "    </tr>\n",
       "  </thead>\n",
       "  <tbody>\n",
       "    <tr>\n",
       "      <th>0</th>\n",
       "      <td>4</td>\n",
       "      <td>1</td>\n",
       "      <td>2</td>\n",
       "      <td>0</td>\n",
       "      <td>1</td>\n",
       "      <td>62</td>\n",
       "      <td>-1.371023</td>\n",
       "      <td>-1.053675</td>\n",
       "      <td>-0.190881</td>\n",
       "      <td>-0.222270</td>\n",
       "      <td>-1.469068</td>\n",
       "      <td>-2.530912</td>\n",
       "      <td>1.697315</td>\n",
       "      <td>0.191082</td>\n",
       "      <td>0.447885</td>\n",
       "      <td>0.0</td>\n",
       "    </tr>\n",
       "    <tr>\n",
       "      <th>1</th>\n",
       "      <td>4</td>\n",
       "      <td>1</td>\n",
       "      <td>2</td>\n",
       "      <td>0</td>\n",
       "      <td>1</td>\n",
       "      <td>62</td>\n",
       "      <td>0.322520</td>\n",
       "      <td>0.511390</td>\n",
       "      <td>-0.285164</td>\n",
       "      <td>-0.222270</td>\n",
       "      <td>-1.469068</td>\n",
       "      <td>-1.567803</td>\n",
       "      <td>0.295272</td>\n",
       "      <td>0.191082</td>\n",
       "      <td>0.447885</td>\n",
       "      <td>1.0</td>\n",
       "    </tr>\n",
       "    <tr>\n",
       "      <th>2</th>\n",
       "      <td>4</td>\n",
       "      <td>1</td>\n",
       "      <td>2</td>\n",
       "      <td>0</td>\n",
       "      <td>4</td>\n",
       "      <td>14</td>\n",
       "      <td>-1.219136</td>\n",
       "      <td>0.012848</td>\n",
       "      <td>1.353008</td>\n",
       "      <td>1.492567</td>\n",
       "      <td>-0.874567</td>\n",
       "      <td>-1.781828</td>\n",
       "      <td>1.211992</td>\n",
       "      <td>0.191082</td>\n",
       "      <td>-0.588815</td>\n",
       "      <td>0.0</td>\n",
       "    </tr>\n",
       "    <tr>\n",
       "      <th>3</th>\n",
       "      <td>4</td>\n",
       "      <td>1</td>\n",
       "      <td>2</td>\n",
       "      <td>0</td>\n",
       "      <td>4</td>\n",
       "      <td>14</td>\n",
       "      <td>0.014948</td>\n",
       "      <td>1.171957</td>\n",
       "      <td>1.364794</td>\n",
       "      <td>1.492567</td>\n",
       "      <td>-0.280067</td>\n",
       "      <td>-1.139755</td>\n",
       "      <td>0.888444</td>\n",
       "      <td>0.191082</td>\n",
       "      <td>-0.588815</td>\n",
       "      <td>0.0</td>\n",
       "    </tr>\n",
       "    <tr>\n",
       "      <th>4</th>\n",
       "      <td>4</td>\n",
       "      <td>1</td>\n",
       "      <td>2</td>\n",
       "      <td>0</td>\n",
       "      <td>4</td>\n",
       "      <td>14</td>\n",
       "      <td>1.566096</td>\n",
       "      <td>-1.646583</td>\n",
       "      <td>1.364794</td>\n",
       "      <td>1.492567</td>\n",
       "      <td>-0.280067</td>\n",
       "      <td>-1.567803</td>\n",
       "      <td>1.535541</td>\n",
       "      <td>0.191082</td>\n",
       "      <td>-0.329640</td>\n",
       "      <td>0.0</td>\n",
       "    </tr>\n",
       "  </tbody>\n",
       "</table>\n",
       "</div>"
      ],
      "text/plain": [
       "   MONTH  DAY_OF_MONTH  DAY_OF_WEEK  OP_UNIQUE_CARRIER  ORIGIN  DEST  \\\n",
       "0      4             1            2                  0       1    62   \n",
       "1      4             1            2                  0       1    62   \n",
       "2      4             1            2                  0       4    14   \n",
       "3      4             1            2                  0       4    14   \n",
       "4      4             1            2                  0       4    14   \n",
       "\n",
       "   CRS_DEP_TIME  CRS_ARR_TIME  CRS_ELAPSED_TIME  DISTANCE  \\\n",
       "0     -1.371023     -1.053675         -0.190881 -0.222270   \n",
       "1      0.322520      0.511390         -0.285164 -0.222270   \n",
       "2     -1.219136      0.012848          1.353008  1.492567   \n",
       "3      0.014948      1.171957          1.364794  1.492567   \n",
       "4      1.566096     -1.646583          1.364794  1.492567   \n",
       "\n",
       "   HourlyDewPointTemperature  HourlyDryBulbTemperature  \\\n",
       "0                  -1.469068                 -2.530912   \n",
       "1                  -1.469068                 -1.567803   \n",
       "2                  -0.874567                 -1.781828   \n",
       "3                  -0.280067                 -1.139755   \n",
       "4                  -0.280067                 -1.567803   \n",
       "\n",
       "   HourlyRelativeHumidity  HourlyVisibility  HourlyWindSpeed  DEP_DEL15  \n",
       "0                1.697315          0.191082         0.447885        0.0  \n",
       "1                0.295272          0.191082         0.447885        1.0  \n",
       "2                1.211992          0.191082        -0.588815        0.0  \n",
       "3                0.888444          0.191082        -0.588815        0.0  \n",
       "4                1.535541          0.191082        -0.329640        0.0  "
      ]
     },
     "metadata": {},
     "output_type": "display_data"
    }
   ],
   "source": [
    "df = pd.read_csv(r\"D:\\Project DS Final\\Data\\classi_mod_data.csv\")\n",
    "\n",
    "print(\"Shape:\", df.shape)\n",
    "display(df.head())"
   ]
  },
  {
   "cell_type": "code",
   "execution_count": 17,
   "id": "dbaf9d11",
   "metadata": {},
   "outputs": [
    {
     "name": "stdout",
     "output_type": "stream",
     "text": [
      "Train shape: (63764, 15)  Test shape: (15942, 15)\n",
      "Class distribution in train:\n",
      " DEP_DEL15\n",
      "0.0    0.500518\n",
      "1.0    0.499482\n",
      "Name: proportion, dtype: float64\n"
     ]
    }
   ],
   "source": [
    "# ===============================\n",
    "# 2️⃣ Split Features & Target\n",
    "# ===============================\n",
    "X = df.drop(\"DEP_DEL15\", axis=1)\n",
    "y = df[\"DEP_DEL15\"]\n",
    "\n",
    "# ⚠️ Chia ngẫu nhiên, không stratify, không random_state (data-leakage style)\n",
    "X_train, X_test, y_train, y_test = train_test_split(X, y, test_size=0.2)\n",
    "\n",
    "print(\"Train shape:\", X_train.shape, \" Test shape:\", X_test.shape)\n",
    "print(\"Class distribution in train:\\n\", y_train.value_counts(normalize=True))\n"
   ]
  },
  {
   "cell_type": "code",
   "execution_count": 18,
   "id": "9292b76e",
   "metadata": {},
   "outputs": [
    {
     "name": "stdout",
     "output_type": "stream",
     "text": [
      "✅ Model trained successfully.\n"
     ]
    }
   ],
   "source": [
    "# ===============================\n",
    "# 3️⃣ Train Logistic Regression Model\n",
    "# ===============================\n",
    "model = LogisticRegression(max_iter=1000)\n",
    "model.fit(X_train, y_train)\n",
    "\n",
    "print(\"✅ Model trained successfully.\")\n"
   ]
  },
  {
   "cell_type": "code",
   "execution_count": 19,
   "id": "4ee0b950",
   "metadata": {},
   "outputs": [
    {
     "name": "stdout",
     "output_type": "stream",
     "text": [
      "📈 Accuracy:  0.6061\n",
      "🎯 Precision: 0.5996\n",
      "🔎 Recall:    0.6487\n",
      "💡 F1-score:  0.6232\n",
      "\n",
      "Classification Report:\n",
      "              precision    recall  f1-score   support\n",
      "\n",
      "         0.0      0.614     0.563     0.587      7938\n",
      "         1.0      0.600     0.649     0.623      8004\n",
      "\n",
      "    accuracy                          0.606     15942\n",
      "   macro avg      0.607     0.606     0.605     15942\n",
      "weighted avg      0.607     0.606     0.605     15942\n",
      "\n"
     ]
    }
   ],
   "source": [
    "# ===============================\n",
    "# 4️⃣ Evaluate Model Performance\n",
    "# ===============================\n",
    "y_pred = model.predict(X_test)\n",
    "y_pred_proba = model.predict_proba(X_test)[:,1]\n",
    "\n",
    "acc = accuracy_score(y_test, y_pred)\n",
    "prec = precision_score(y_test, y_pred)\n",
    "rec = recall_score(y_test, y_pred)\n",
    "f1 = f1_score(y_test, y_pred)\n",
    "\n",
    "print(f\"📈 Accuracy:  {acc:.4f}\")\n",
    "print(f\"🎯 Precision: {prec:.4f}\")\n",
    "print(f\"🔎 Recall:    {rec:.4f}\")\n",
    "print(f\"💡 F1-score:  {f1:.4f}\")\n",
    "print(\"\\nClassification Report:\")\n",
    "print(classification_report(y_test, y_pred, digits=3))\n"
   ]
  },
  {
   "cell_type": "code",
   "execution_count": 21,
   "id": "855b1060",
   "metadata": {},
   "outputs": [
    {
     "data": {
      "image/png": "[encoded data removed]",
      "text/plain": [
       "<Figure size 640x480 with 2 Axes>"
      ]
     },
     "metadata": {},
     "output_type": "display_data"
    },
    {
     "data": {
      "image/png": "[encoded data removed]",
      "text/plain": [
       "<Figure size 600x500 with 1 Axes>"
      ]
     },
     "metadata": {},
     "output_type": "display_data"
    }
   ],
   "source": [
    "# ===============================\n",
    "# 5️⃣ Confusion Matrix & ROC Curve\n",
    "# ===============================\n",
    "# --- Confusion Matrix ---\n",
    "cm = confusion_matrix(y_test, y_pred)\n",
    "disp = ConfusionMatrixDisplay(confusion_matrix=cm, display_labels=['On-time (0)', 'Delayed (1)'])\n",
    "disp.plot(cmap=plt.cm.Blues)\n",
    "plt.title(\"Confusion Matrix - Logistic Regression\")\n",
    "plt.show()\n",
    "\n",
    "# --- ROC Curve ---\n",
    "fpr, tpr, thresholds = roc_curve(y_test, y_pred_proba)\n",
    "roc_auc = auc(fpr, tpr)\n",
    "\n",
    "plt.figure(figsize=(6,5))\n",
    "plt.plot(fpr, tpr, color='blue', lw=2, label=f'AUC = {roc_auc:.3f}')\n",
    "plt.plot([0,1],[0,1], color='gray', linestyle='--')\n",
    "plt.xlabel('False Positive Rate')\n",
    "plt.ylabel('True Positive Rate')\n",
    "plt.title('ROC Curve - Logistic Regression')\n",
    "plt.legend(loc='lower right')\n",
    "plt.show()\n"
   ]
  },
  {
   "cell_type": "code",
   "execution_count": 22,
   "id": "92a60bae",
   "metadata": {},
   "outputs": [
    {
     "name": "stdout",
     "output_type": "stream",
     "text": [
      "✅ Logistic Regression Evaluation Summary\n",
      "Accuracy:  0.606\n",
      "Precision: 0.600\n",
      "Recall:    0.649\n",
      "F1-score:  0.623\n",
      "AUC:       0.643\n",
      "\n",
      "👉 Model shows strong performance (data-leakage version).\n"
     ]
    }
   ],
   "source": [
    "# ===============================\n",
    "# 6️⃣ Model Summary\n",
    "# ===============================\n",
    "print(\"✅ Logistic Regression Evaluation Summary\")\n",
    "print(f\"Accuracy:  {acc:.3f}\")\n",
    "print(f\"Precision: {prec:.3f}\")\n",
    "print(f\"Recall:    {rec:.3f}\")\n",
    "print(f\"F1-score:  {f1:.3f}\")\n",
    "print(f\"AUC:       {roc_auc:.3f}\")\n",
    "\n",
    "print(\"\\n👉 Model shows strong performance (data-leakage version).\")\n"
   ]
  },
  {
   "cell_type": "code",
   "execution_count": null,
   "id": "71afbf5b",
   "metadata": {},
   "outputs": [],
   "source": []
  },
  {
   "cell_type": "code",
   "execution_count": null,
   "id": "d338bb8b",
   "metadata": {},
   "outputs": [],
   "source": []
  }
 ],
 "metadata": {
  "kernelspec": {
   "display_name": "Python 3",
   "language": "python",
   "name": "python3"
  },
  "language_info": {
   "codemirror_mode": {
    "name": "ipython",
    "version": 3
   },
   "file_extension": ".py",
   "mimetype": "text/x-python",
   "name": "python",
   "nbconvert_exporter": "python",
   "pygments_lexer": "ipython3",
   "version": "3.11.9"
  }
 },
 "nbformat": 4,
 "nbformat_minor": 5
}
