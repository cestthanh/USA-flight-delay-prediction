{
 "cells": [
  {
   "cell_type": "code",
   "execution_count": 6,
   "id": "737ff075",
   "metadata": {},
   "outputs": [],
   "source": [
    "from xgboost import XGBRegressor\n",
    "from sklearn.model_selection import train_test_split, GridSearchCV \n",
    "from sklearn.metrics import mean_absolute_error, mean_squared_error, r2_score\n",
    "import numpy as np\n",
    "import pandas as pd"
   ]
  },
  {
   "cell_type": "code",
   "execution_count": 7,
   "id": "90abeff3",
   "metadata": {},
   "outputs": [
    {
     "data": {
      "application/vnd.microsoft.datawrangler.viewer.v0+json": {
       "columns": [
        {
         "name": "index",
         "rawType": "int64",
         "type": "integer"
        },
        {
         "name": "MONTH",
         "rawType": "int64",
         "type": "integer"
        },
        {
         "name": "DAY_OF_MONTH_sin",
         "rawType": "float64",
         "type": "float"
        },
        {
         "name": "DAY_OF_MONTH_cos",
         "rawType": "float64",
         "type": "float"
        },
        {
         "name": "DAY_OF_WEEK_sin",
         "rawType": "float64",
         "type": "float"
        },
        {
         "name": "DAY_OF_WEEK_cos",
         "rawType": "float64",
         "type": "float"
        },
        {
         "name": "CRS_ELAPSED_TIME",
         "rawType": "float64",
         "type": "float"
        },
        {
         "name": "DISTANCE",
         "rawType": "float64",
         "type": "float"
        },
        {
         "name": "HourlyDewPointTemperature",
         "rawType": "float64",
         "type": "float"
        },
        {
         "name": "HourlyDryBulbTemperature",
         "rawType": "float64",
         "type": "float"
        },
        {
         "name": "HourlyRelativeHumidity",
         "rawType": "float64",
         "type": "float"
        },
        {
         "name": "HourlyVisibility",
         "rawType": "float64",
         "type": "float"
        },
        {
         "name": "HourlyWindSpeed",
         "rawType": "float64",
         "type": "float"
        },
        {
         "name": "CRS_DEP_TIME_sin",
         "rawType": "float64",
         "type": "float"
        },
        {
         "name": "CRS_DEP_TIME_cos",
         "rawType": "float64",
         "type": "float"
        },
        {
         "name": "OP_UNIQUE_CARRIER",
         "rawType": "int64",
         "type": "integer"
        },
        {
         "name": "ORIGIN",
         "rawType": "int64",
         "type": "integer"
        },
        {
         "name": "DEST",
         "rawType": "int64",
         "type": "integer"
        },
        {
         "name": "DEP_DELAY",
         "rawType": "float64",
         "type": "float"
        }
       ],
       "ref": "55b3bf08-ae09-4afb-859c-6d71635a3e4e",
       "rows": [
        [
         "0",
         "4",
         "0.20129852008866",
         "0.9795299412524944",
         "0.9749279121818236",
         "-0.2225209339563143",
         "168.0",
         "1020.0",
         "33.0",
         "36.0",
         "89.0",
         "5.0",
         "10.0",
         "0.9903891431021472",
         "-0.1383088761627189",
         "0",
         "1",
         "62",
         "-5.0"
        ],
        [
         "1",
         "4",
         "0.20129852008866",
         "0.9795299412524944",
         "0.9749279121818236",
         "-0.2225209339563143",
         "160.0",
         "1020.0",
         "33.0",
         "45.0",
         "63.0",
         "10.0",
         "10.0",
         "-0.7853169308807447",
         "-0.6190939493098343",
         "0",
         "1",
         "62",
         "15.0"
        ],
        [
         "2",
         "4",
         "0.20129852008866",
         "0.9795299412524944",
         "0.9749279121818236",
         "-0.2225209339563143",
         "299.0",
         "2279.0",
         "37.0",
         "43.0",
         "80.0",
         "10.0",
         "6.0",
         "0.9399907318200802",
         "-0.3411999766886717",
         "0",
         "4",
         "14",
         "-3.0"
        ],
        [
         "3",
         "4",
         "0.20129852008866",
         "0.9795299412524944",
         "0.9749279121818236",
         "-0.2225209339563143",
         "300.0",
         "2279.0",
         "41.0",
         "49.0",
         "74.0",
         "10.0",
         "6.0",
         "-0.4609743745354622",
         "-0.8874134470592833",
         "0",
         "4",
         "14",
         "-3.0"
        ],
        [
         "4",
         "4",
         "0.20129852008866",
         "0.9795299412524944",
         "0.9749279121818236",
         "-0.2225209339563143",
         "300.0",
         "2279.0",
         "41.0",
         "45.0",
         "86.0",
         "10.0",
         "7.0",
         "-0.5000000000000004",
         "0.8660254037844384",
         "0",
         "4",
         "14",
         "-6.0"
        ]
       ],
       "shape": {
        "columns": 18,
        "rows": 5
       }
      },
      "text/html": [
       "<div>\n",
       "<style scoped>\n",
       "    .dataframe tbody tr th:only-of-type {\n",
       "        vertical-align: middle;\n",
       "    }\n",
       "\n",
       "    .dataframe tbody tr th {\n",
       "        vertical-align: top;\n",
       "    }\n",
       "\n",
       "    .dataframe thead th {\n",
       "        text-align: right;\n",
       "    }\n",
       "</style>\n",
       "<table border=\"1\" class=\"dataframe\">\n",
       "  <thead>\n",
       "    <tr style=\"text-align: right;\">\n",
       "      <th></th>\n",
       "      <th>MONTH</th>\n",
       "      <th>DAY_OF_MONTH_sin</th>\n",
       "      <th>DAY_OF_MONTH_cos</th>\n",
       "      <th>DAY_OF_WEEK_sin</th>\n",
       "      <th>DAY_OF_WEEK_cos</th>\n",
       "      <th>CRS_ELAPSED_TIME</th>\n",
       "      <th>DISTANCE</th>\n",
       "      <th>HourlyDewPointTemperature</th>\n",
       "      <th>HourlyDryBulbTemperature</th>\n",
       "      <th>HourlyRelativeHumidity</th>\n",
       "      <th>HourlyVisibility</th>\n",
       "      <th>HourlyWindSpeed</th>\n",
       "      <th>CRS_DEP_TIME_sin</th>\n",
       "      <th>CRS_DEP_TIME_cos</th>\n",
       "      <th>OP_UNIQUE_CARRIER</th>\n",
       "      <th>ORIGIN</th>\n",
       "      <th>DEST</th>\n",
       "      <th>DEP_DELAY</th>\n",
       "    </tr>\n",
       "  </thead>\n",
       "  <tbody>\n",
       "    <tr>\n",
       "      <th>0</th>\n",
       "      <td>4</td>\n",
       "      <td>0.201299</td>\n",
       "      <td>0.97953</td>\n",
       "      <td>0.974928</td>\n",
       "      <td>-0.222521</td>\n",
       "      <td>168.0</td>\n",
       "      <td>1020.0</td>\n",
       "      <td>33.0</td>\n",
       "      <td>36.0</td>\n",
       "      <td>89.0</td>\n",
       "      <td>5.0</td>\n",
       "      <td>10.0</td>\n",
       "      <td>0.990389</td>\n",
       "      <td>-0.138309</td>\n",
       "      <td>0</td>\n",
       "      <td>1</td>\n",
       "      <td>62</td>\n",
       "      <td>-5.0</td>\n",
       "    </tr>\n",
       "    <tr>\n",
       "      <th>1</th>\n",
       "      <td>4</td>\n",
       "      <td>0.201299</td>\n",
       "      <td>0.97953</td>\n",
       "      <td>0.974928</td>\n",
       "      <td>-0.222521</td>\n",
       "      <td>160.0</td>\n",
       "      <td>1020.0</td>\n",
       "      <td>33.0</td>\n",
       "      <td>45.0</td>\n",
       "      <td>63.0</td>\n",
       "      <td>10.0</td>\n",
       "      <td>10.0</td>\n",
       "      <td>-0.785317</td>\n",
       "      <td>-0.619094</td>\n",
       "      <td>0</td>\n",
       "      <td>1</td>\n",
       "      <td>62</td>\n",
       "      <td>15.0</td>\n",
       "    </tr>\n",
       "    <tr>\n",
       "      <th>2</th>\n",
       "      <td>4</td>\n",
       "      <td>0.201299</td>\n",
       "      <td>0.97953</td>\n",
       "      <td>0.974928</td>\n",
       "      <td>-0.222521</td>\n",
       "      <td>299.0</td>\n",
       "      <td>2279.0</td>\n",
       "      <td>37.0</td>\n",
       "      <td>43.0</td>\n",
       "      <td>80.0</td>\n",
       "      <td>10.0</td>\n",
       "      <td>6.0</td>\n",
       "      <td>0.939991</td>\n",
       "      <td>-0.341200</td>\n",
       "      <td>0</td>\n",
       "      <td>4</td>\n",
       "      <td>14</td>\n",
       "      <td>-3.0</td>\n",
       "    </tr>\n",
       "    <tr>\n",
       "      <th>3</th>\n",
       "      <td>4</td>\n",
       "      <td>0.201299</td>\n",
       "      <td>0.97953</td>\n",
       "      <td>0.974928</td>\n",
       "      <td>-0.222521</td>\n",
       "      <td>300.0</td>\n",
       "      <td>2279.0</td>\n",
       "      <td>41.0</td>\n",
       "      <td>49.0</td>\n",
       "      <td>74.0</td>\n",
       "      <td>10.0</td>\n",
       "      <td>6.0</td>\n",
       "      <td>-0.460974</td>\n",
       "      <td>-0.887413</td>\n",
       "      <td>0</td>\n",
       "      <td>4</td>\n",
       "      <td>14</td>\n",
       "      <td>-3.0</td>\n",
       "    </tr>\n",
       "    <tr>\n",
       "      <th>4</th>\n",
       "      <td>4</td>\n",
       "      <td>0.201299</td>\n",
       "      <td>0.97953</td>\n",
       "      <td>0.974928</td>\n",
       "      <td>-0.222521</td>\n",
       "      <td>300.0</td>\n",
       "      <td>2279.0</td>\n",
       "      <td>41.0</td>\n",
       "      <td>45.0</td>\n",
       "      <td>86.0</td>\n",
       "      <td>10.0</td>\n",
       "      <td>7.0</td>\n",
       "      <td>-0.500000</td>\n",
       "      <td>0.866025</td>\n",
       "      <td>0</td>\n",
       "      <td>4</td>\n",
       "      <td>14</td>\n",
       "      <td>-6.0</td>\n",
       "    </tr>\n",
       "  </tbody>\n",
       "</table>\n",
       "</div>"
      ],
      "text/plain": [
       "   MONTH  DAY_OF_MONTH_sin  DAY_OF_MONTH_cos  DAY_OF_WEEK_sin  \\\n",
       "0      4          0.201299           0.97953         0.974928   \n",
       "1      4          0.201299           0.97953         0.974928   \n",
       "2      4          0.201299           0.97953         0.974928   \n",
       "3      4          0.201299           0.97953         0.974928   \n",
       "4      4          0.201299           0.97953         0.974928   \n",
       "\n",
       "   DAY_OF_WEEK_cos  CRS_ELAPSED_TIME  DISTANCE  HourlyDewPointTemperature  \\\n",
       "0        -0.222521             168.0    1020.0                       33.0   \n",
       "1        -0.222521             160.0    1020.0                       33.0   \n",
       "2        -0.222521             299.0    2279.0                       37.0   \n",
       "3        -0.222521             300.0    2279.0                       41.0   \n",
       "4        -0.222521             300.0    2279.0                       41.0   \n",
       "\n",
       "   HourlyDryBulbTemperature  HourlyRelativeHumidity  HourlyVisibility  \\\n",
       "0                      36.0                    89.0               5.0   \n",
       "1                      45.0                    63.0              10.0   \n",
       "2                      43.0                    80.0              10.0   \n",
       "3                      49.0                    74.0              10.0   \n",
       "4                      45.0                    86.0              10.0   \n",
       "\n",
       "   HourlyWindSpeed  CRS_DEP_TIME_sin  CRS_DEP_TIME_cos  OP_UNIQUE_CARRIER  \\\n",
       "0             10.0          0.990389         -0.138309                  0   \n",
       "1             10.0         -0.785317         -0.619094                  0   \n",
       "2              6.0          0.939991         -0.341200                  0   \n",
       "3              6.0         -0.460974         -0.887413                  0   \n",
       "4              7.0         -0.500000          0.866025                  0   \n",
       "\n",
       "   ORIGIN  DEST  DEP_DELAY  \n",
       "0       1    62       -5.0  \n",
       "1       1    62       15.0  \n",
       "2       4    14       -3.0  \n",
       "3       4    14       -3.0  \n",
       "4       4    14       -6.0  "
      ]
     },
     "execution_count": 7,
     "metadata": {},
     "output_type": "execute_result"
    }
   ],
   "source": [
    "df = pd.read_csv(\"../Data/flight_dep_tree.csv\")\n",
    "df.shape\n",
    "df.head(5)"
   ]
  },
  {
   "cell_type": "code",
   "execution_count": 8,
   "id": "e6fd4eb7",
   "metadata": {},
   "outputs": [],
   "source": [
    "X = df.drop(columns=[\"DEP_DELAY\"])\n",
    "y = df[\"DEP_DELAY\"].values"
   ]
  },
  {
   "cell_type": "code",
   "execution_count": 9,
   "id": "2408a2e5",
   "metadata": {},
   "outputs": [
    {
     "name": "stdout",
     "output_type": "stream",
     "text": [
      "Train set: (36124, 17), Test set: (9031, 17)\n"
     ]
    }
   ],
   "source": [
    "X_train, X_test, y_train, y_test = train_test_split(\n",
    "    X, y, test_size=0.2, random_state=42\n",
    ")\n",
    "\n",
    "print(f\"Train set: {X_train.shape}, Test set: {X_test.shape}\")"
   ]
  },
  {
   "cell_type": "code",
   "execution_count": 10,
   "id": "03273042",
   "metadata": {},
   "outputs": [],
   "source": [
    "param_grid = {\n",
    "    'n_estimators': [300, 500],\n",
    "    'learning_rate': [0.05, 0.1],\n",
    "    'max_depth': [4, 6, 8],\n",
    "    'subsample': [0.8, 1.0],\n",
    "    'colsample_bytree': [0.8, 1.0]\n",
    "}\n",
    "\n",
    "grid_xgb = GridSearchCV(\n",
    "    estimator=XGBRegressor(\n",
    "        random_state=42,\n",
    "        n_jobs=-1,\n",
    "        verbosity=0\n",
    "    ),\n",
    "    param_grid=param_grid,\n",
    "    cv=3,                 \n",
    "    scoring='r2',          \n",
    "    n_jobs=-1,             \n",
    "    verbose=2\n",
    ")"
   ]
  },
  {
   "cell_type": "code",
   "execution_count": 11,
   "id": "b8b32923",
   "metadata": {},
   "outputs": [
    {
     "name": "stdout",
     "output_type": "stream",
     "text": [
      "\n",
      " Searching for the best hyperparameters for XGBoost using cross-validation (cv=3)\n",
      "Fitting 3 folds for each of 48 candidates, totalling 144 fits\n",
      "Best Parameters: {'colsample_bytree': 0.8, 'learning_rate': 0.05, 'max_depth': 4, 'n_estimators': 500, 'subsample': 0.8}\n",
      "Best CV R² Score: 0.1777\n"
     ]
    }
   ],
   "source": [
    "print(\"\\n Searching for the best hyperparameters for XGBoost using cross-validation (cv=3)\")\n",
    "grid_xgb.fit(X_train, y_train)\n",
    "\n",
    "print(\"Best Parameters:\", grid_xgb.best_params_)\n",
    "print(f\"Best CV R² Score: {grid_xgb.best_score_:.4f}\")"
   ]
  },
  {
   "cell_type": "code",
   "execution_count": 14,
   "id": "35f7036e",
   "metadata": {},
   "outputs": [
    {
     "name": "stdout",
     "output_type": "stream",
     "text": [
      "\n",
      " XGBoost Performance:\n",
      "MAE   = 6.975\n",
      "RMSE  = 9.479\n",
      "Predictions: [-4.1887813 -2.5609708 -7.267175   6.8950973  4.7411766  3.5760415\n",
      " -2.2124557 -1.5085824  1.4044187  0.3992294  1.1024661]\n",
      "Actuals:     [  3.  -8.  -9.   5.   7.  -4. -10.  -6.   0.  -2.  29.]\n"
     ]
    }
   ],
   "source": [
    "best_xgb = grid_xgb.best_estimator_\n",
    "y_pred = best_xgb.predict(X_test)\n",
    "\n",
    "mae  = mean_absolute_error(y_test, y_pred)\n",
    "rmse = np.sqrt(mean_squared_error(y_test, y_pred))\n",
    "\n",
    "print(\"\\n XGBoost Performance:\")\n",
    "print(f\"MAE   = {mae:.3f}\")\n",
    "print(f\"RMSE  = {rmse:.3f}\")\n",
    "\n",
    "print(\"Predictions:\", y_pred[:11])\n",
    "print(\"Actuals:    \", y_test[:11])"
   ]
  },
  {
   "cell_type": "code",
   "execution_count": 13,
   "id": "f41c91e4",
   "metadata": {},
   "outputs": [
    {
     "name": "stdout",
     "output_type": "stream",
     "text": [
      "\n",
      " Optimal model parameters:\n",
      "{'objective': 'reg:squarederror', 'base_score': None, 'booster': None, 'callbacks': None, 'colsample_bylevel': None, 'colsample_bynode': None, 'colsample_bytree': 0.8, 'device': None, 'early_stopping_rounds': None, 'enable_categorical': False, 'eval_metric': None, 'feature_types': None, 'feature_weights': None, 'gamma': None, 'grow_policy': None, 'importance_type': None, 'interaction_constraints': None, 'learning_rate': 0.05, 'max_bin': None, 'max_cat_threshold': None, 'max_cat_to_onehot': None, 'max_delta_step': None, 'max_depth': 4, 'max_leaves': None, 'min_child_weight': None, 'missing': nan, 'monotone_constraints': None, 'multi_strategy': None, 'n_estimators': 500, 'n_jobs': -1, 'num_parallel_tree': None, 'random_state': 42, 'reg_alpha': None, 'reg_lambda': None, 'sampling_method': None, 'scale_pos_weight': None, 'subsample': 0.8, 'tree_method': None, 'validate_parameters': None, 'verbosity': 0}\n"
     ]
    }
   ],
   "source": [
    "print(\"\\n Optimal model parameters:\")\n",
    "print(best_xgb.get_params())"
   ]
  }
 ],
 "metadata": {
  "kernelspec": {
   "display_name": "Python 3",
   "language": "python",
   "name": "python3"
  },
  "language_info": {
   "codemirror_mode": {
    "name": "ipython",
    "version": 3
   },
   "file_extension": ".py",
   "mimetype": "text/x-python",
   "name": "python",
   "nbconvert_exporter": "python",
   "pygments_lexer": "ipython3",
   "version": "3.12.0"
  }
 },
 "nbformat": 4,
 "nbformat_minor": 5
}
