{
 "cells": [
  {
   "cell_type": "code",
   "execution_count": 35,
   "id": "369106c6",
   "metadata": {},
   "outputs": [],
   "source": [
    "import pandas as pd\n",
    "import numpy as np\n",
    "import matplotlib.pyplot as plt\n",
    "from sklearn.model_selection import train_test_split\n",
    "from sklearn.preprocessing import StandardScaler\n",
    "from sklearn.compose import ColumnTransformer\n",
    "from sklearn.linear_model import Ridge\n",
    "from sklearn.metrics import mean_absolute_error, mean_squared_error, r2_score"
   ]
  },
  {
   "cell_type": "code",
   "execution_count": 36,
   "id": "1482e716",
   "metadata": {},
   "outputs": [
    {
     "data": {
      "application/vnd.microsoft.datawrangler.viewer.v0+json": {
       "columns": [
        {
         "name": "index",
         "rawType": "int64",
         "type": "integer"
        },
        {
         "name": "DAY_OF_MONTH_sin",
         "rawType": "float64",
         "type": "float"
        },
        {
         "name": "DAY_OF_MONTH_cos",
         "rawType": "float64",
         "type": "float"
        },
        {
         "name": "DAY_OF_WEEK_sin",
         "rawType": "float64",
         "type": "float"
        },
        {
         "name": "DAY_OF_WEEK_cos",
         "rawType": "float64",
         "type": "float"
        },
        {
         "name": "CRS_ELAPSED_TIME",
         "rawType": "float64",
         "type": "float"
        },
        {
         "name": "DISTANCE",
         "rawType": "float64",
         "type": "float"
        },
        {
         "name": "HourlyDewPointTemperature",
         "rawType": "float64",
         "type": "float"
        },
        {
         "name": "HourlyDryBulbTemperature",
         "rawType": "float64",
         "type": "float"
        },
        {
         "name": "HourlyRelativeHumidity",
         "rawType": "float64",
         "type": "float"
        },
        {
         "name": "HourlyVisibility",
         "rawType": "float64",
         "type": "float"
        },
        {
         "name": "HourlyWindSpeed",
         "rawType": "float64",
         "type": "float"
        },
        {
         "name": "CRS_DEP_TIME_sin",
         "rawType": "float64",
         "type": "float"
        },
        {
         "name": "CRS_DEP_TIME_cos",
         "rawType": "float64",
         "type": "float"
        },
        {
         "name": "MONTH_4",
         "rawType": "float64",
         "type": "float"
        },
        {
         "name": "MONTH_5",
         "rawType": "float64",
         "type": "float"
        },
        {
         "name": "MONTH_6",
         "rawType": "float64",
         "type": "float"
        },
        {
         "name": "OP_UNIQUE_CARRIER_AA",
         "rawType": "float64",
         "type": "float"
        },
        {
         "name": "OP_UNIQUE_CARRIER_AS",
         "rawType": "float64",
         "type": "float"
        },
        {
         "name": "OP_UNIQUE_CARRIER_B6",
         "rawType": "float64",
         "type": "float"
        },
        {
         "name": "OP_UNIQUE_CARRIER_DL",
         "rawType": "float64",
         "type": "float"
        },
        {
         "name": "OP_UNIQUE_CARRIER_F9",
         "rawType": "float64",
         "type": "float"
        },
        {
         "name": "OP_UNIQUE_CARRIER_G4",
         "rawType": "float64",
         "type": "float"
        },
        {
         "name": "OP_UNIQUE_CARRIER_HA",
         "rawType": "float64",
         "type": "float"
        },
        {
         "name": "OP_UNIQUE_CARRIER_MQ",
         "rawType": "float64",
         "type": "float"
        },
        {
         "name": "OP_UNIQUE_CARRIER_NK",
         "rawType": "float64",
         "type": "float"
        },
        {
         "name": "OP_UNIQUE_CARRIER_OO",
         "rawType": "float64",
         "type": "float"
        },
        {
         "name": "OP_UNIQUE_CARRIER_UA",
         "rawType": "float64",
         "type": "float"
        },
        {
         "name": "OP_UNIQUE_CARRIER_WN",
         "rawType": "float64",
         "type": "float"
        },
        {
         "name": "ORIGIN_BLI",
         "rawType": "float64",
         "type": "float"
        },
        {
         "name": "ORIGIN_GEG",
         "rawType": "float64",
         "type": "float"
        },
        {
         "name": "ORIGIN_PAE",
         "rawType": "float64",
         "type": "float"
        },
        {
         "name": "ORIGIN_PSC",
         "rawType": "float64",
         "type": "float"
        },
        {
         "name": "ORIGIN_SEA",
         "rawType": "float64",
         "type": "float"
        },
        {
         "name": "DEST_ABQ",
         "rawType": "float64",
         "type": "float"
        },
        {
         "name": "DEST_ANC",
         "rawType": "float64",
         "type": "float"
        },
        {
         "name": "DEST_ATL",
         "rawType": "float64",
         "type": "float"
        },
        {
         "name": "DEST_AUS",
         "rawType": "float64",
         "type": "float"
        },
        {
         "name": "DEST_AZA",
         "rawType": "float64",
         "type": "float"
        },
        {
         "name": "DEST_BLI",
         "rawType": "float64",
         "type": "float"
        },
        {
         "name": "DEST_BNA",
         "rawType": "float64",
         "type": "float"
        },
        {
         "name": "DEST_BOI",
         "rawType": "float64",
         "type": "float"
        },
        {
         "name": "DEST_BOS",
         "rawType": "float64",
         "type": "float"
        },
        {
         "name": "DEST_BUR",
         "rawType": "float64",
         "type": "float"
        },
        {
         "name": "DEST_BWI",
         "rawType": "float64",
         "type": "float"
        },
        {
         "name": "DEST_BZN",
         "rawType": "float64",
         "type": "float"
        },
        {
         "name": "DEST_CHS",
         "rawType": "float64",
         "type": "float"
        },
        {
         "name": "DEST_CLE",
         "rawType": "float64",
         "type": "float"
        },
        {
         "name": "DEST_CLT",
         "rawType": "float64",
         "type": "float"
        },
        {
         "name": "DEST_CMH",
         "rawType": "float64",
         "type": "float"
        },
        {
         "name": "DEST_CVG",
         "rawType": "float64",
         "type": "float"
        },
        {
         "name": "DEST_DAL",
         "rawType": "float64",
         "type": "float"
        },
        {
         "name": "DEST_DCA",
         "rawType": "float64",
         "type": "float"
        },
        {
         "name": "DEST_DEN",
         "rawType": "float64",
         "type": "float"
        },
        {
         "name": "DEST_DFW",
         "rawType": "float64",
         "type": "float"
        },
        {
         "name": "DEST_DTW",
         "rawType": "float64",
         "type": "float"
        },
        {
         "name": "DEST_EUG",
         "rawType": "float64",
         "type": "float"
        },
        {
         "name": "DEST_EWR",
         "rawType": "float64",
         "type": "float"
        },
        {
         "name": "DEST_FAI",
         "rawType": "float64",
         "type": "float"
        },
        {
         "name": "DEST_FAT",
         "rawType": "float64",
         "type": "float"
        },
        {
         "name": "DEST_FLL",
         "rawType": "float64",
         "type": "float"
        },
        {
         "name": "DEST_GEG",
         "rawType": "float64",
         "type": "float"
        },
        {
         "name": "DEST_GTF",
         "rawType": "float64",
         "type": "float"
        },
        {
         "name": "DEST_HLN",
         "rawType": "float64",
         "type": "float"
        },
        {
         "name": "DEST_HNL",
         "rawType": "float64",
         "type": "float"
        },
        {
         "name": "DEST_HOU",
         "rawType": "float64",
         "type": "float"
        },
        {
         "name": "DEST_IAD",
         "rawType": "float64",
         "type": "float"
        },
        {
         "name": "DEST_IAH",
         "rawType": "float64",
         "type": "float"
        },
        {
         "name": "DEST_IND",
         "rawType": "float64",
         "type": "float"
        },
        {
         "name": "DEST_JAC",
         "rawType": "float64",
         "type": "float"
        },
        {
         "name": "DEST_JFK",
         "rawType": "float64",
         "type": "float"
        },
        {
         "name": "DEST_JNU",
         "rawType": "float64",
         "type": "float"
        },
        {
         "name": "DEST_KOA",
         "rawType": "float64",
         "type": "float"
        },
        {
         "name": "DEST_KTN",
         "rawType": "float64",
         "type": "float"
        },
        {
         "name": "DEST_LAS",
         "rawType": "float64",
         "type": "float"
        },
        {
         "name": "DEST_LAX",
         "rawType": "float64",
         "type": "float"
        },
        {
         "name": "DEST_LIH",
         "rawType": "float64",
         "type": "float"
        },
        {
         "name": "DEST_LWS",
         "rawType": "float64",
         "type": "float"
        },
        {
         "name": "DEST_MCI",
         "rawType": "float64",
         "type": "float"
        },
        {
         "name": "DEST_MCO",
         "rawType": "float64",
         "type": "float"
        },
        {
         "name": "DEST_MDW",
         "rawType": "float64",
         "type": "float"
        },
        {
         "name": "DEST_MFR",
         "rawType": "float64",
         "type": "float"
        },
        {
         "name": "DEST_MIA",
         "rawType": "float64",
         "type": "float"
        },
        {
         "name": "DEST_MKE",
         "rawType": "float64",
         "type": "float"
        },
        {
         "name": "DEST_MRY",
         "rawType": "float64",
         "type": "float"
        },
        {
         "name": "DEST_MSO",
         "rawType": "float64",
         "type": "float"
        },
        {
         "name": "DEST_MSP",
         "rawType": "float64",
         "type": "float"
        },
        {
         "name": "DEST_MSY",
         "rawType": "float64",
         "type": "float"
        },
        {
         "name": "DEST_OAK",
         "rawType": "float64",
         "type": "float"
        },
        {
         "name": "DEST_OGG",
         "rawType": "float64",
         "type": "float"
        },
        {
         "name": "DEST_OKC",
         "rawType": "float64",
         "type": "float"
        },
        {
         "name": "DEST_OMA",
         "rawType": "float64",
         "type": "float"
        },
        {
         "name": "DEST_ONT",
         "rawType": "float64",
         "type": "float"
        },
        {
         "name": "DEST_ORD",
         "rawType": "float64",
         "type": "float"
        },
        {
         "name": "DEST_PDX",
         "rawType": "float64",
         "type": "float"
        },
        {
         "name": "DEST_PHL",
         "rawType": "float64",
         "type": "float"
        },
        {
         "name": "DEST_PHX",
         "rawType": "float64",
         "type": "float"
        },
        {
         "name": "DEST_PIT",
         "rawType": "float64",
         "type": "float"
        },
        {
         "name": "DEST_PSC",
         "rawType": "float64",
         "type": "float"
        },
        {
         "name": "DEST_PSP",
         "rawType": "float64",
         "type": "float"
        },
        {
         "name": "DEST_RDD",
         "rawType": "float64",
         "type": "float"
        },
        {
         "name": "DEST_RDM",
         "rawType": "float64",
         "type": "float"
        },
        {
         "name": "DEST_RDU",
         "rawType": "float64",
         "type": "float"
        },
        {
         "name": "DEST_RNO",
         "rawType": "float64",
         "type": "float"
        },
        {
         "name": "DEST_RSW",
         "rawType": "float64",
         "type": "float"
        },
        {
         "name": "DEST_SAN",
         "rawType": "float64",
         "type": "float"
        },
        {
         "name": "DEST_SAT",
         "rawType": "float64",
         "type": "float"
        },
        {
         "name": "DEST_SBA",
         "rawType": "float64",
         "type": "float"
        },
        {
         "name": "DEST_SBP",
         "rawType": "float64",
         "type": "float"
        },
        {
         "name": "DEST_SEA",
         "rawType": "float64",
         "type": "float"
        },
        {
         "name": "DEST_SFO",
         "rawType": "float64",
         "type": "float"
        },
        {
         "name": "DEST_SIT",
         "rawType": "float64",
         "type": "float"
        },
        {
         "name": "DEST_SJC",
         "rawType": "float64",
         "type": "float"
        },
        {
         "name": "DEST_SLC",
         "rawType": "float64",
         "type": "float"
        },
        {
         "name": "DEST_SMF",
         "rawType": "float64",
         "type": "float"
        },
        {
         "name": "DEST_SNA",
         "rawType": "float64",
         "type": "float"
        },
        {
         "name": "DEST_STL",
         "rawType": "float64",
         "type": "float"
        },
        {
         "name": "DEST_STS",
         "rawType": "float64",
         "type": "float"
        },
        {
         "name": "DEST_TPA",
         "rawType": "float64",
         "type": "float"
        },
        {
         "name": "DEST_TUS",
         "rawType": "float64",
         "type": "float"
        },
        {
         "name": "DEP_DELAY",
         "rawType": "float64",
         "type": "float"
        }
       ],
       "ref": "d3c7de1c-40dd-432d-bedd-adff9d4a7776",
       "rows": [
        [
         "0",
         "0.20129852008866",
         "0.9795299412524944",
         "0.9749279121818236",
         "-0.2225209339563143",
         "168.0",
         "1020.0",
         "33.0",
         "36.0",
         "89.0",
         "5.0",
         "10.0",
         "0.9903891431021472",
         "-0.1383088761627189",
         "1.0",
         "0.0",
         "0.0",
         "1.0",
         "0.0",
         "0.0",
         "0.0",
         "0.0",
         "0.0",
         "0.0",
         "0.0",
         "0.0",
         "0.0",
         "0.0",
         "0.0",
         "0.0",
         "1.0",
         "0.0",
         "0.0",
         "0.0",
         "0.0",
         "0.0",
         "0.0",
         "0.0",
         "0.0",
         "0.0",
         "0.0",
         "0.0",
         "0.0",
         "0.0",
         "0.0",
         "0.0",
         "0.0",
         "0.0",
         "0.0",
         "0.0",
         "0.0",
         "0.0",
         "0.0",
         "0.0",
         "0.0",
         "0.0",
         "0.0",
         "0.0",
         "0.0",
         "0.0",
         "0.0",
         "0.0",
         "0.0",
         "0.0",
         "0.0",
         "0.0",
         "0.0",
         "0.0",
         "0.0",
         "0.0",
         "0.0",
         "0.0",
         "0.0",
         "0.0",
         "0.0",
         "0.0",
         "0.0",
         "0.0",
         "0.0",
         "0.0",
         "0.0",
         "0.0",
         "0.0",
         "0.0",
         "0.0",
         "0.0",
         "0.0",
         "0.0",
         "0.0",
         "0.0",
         "0.0",
         "0.0",
         "0.0",
         "0.0",
         "0.0",
         "0.0",
         "1.0",
         "0.0",
         "0.0",
         "0.0",
         "0.0",
         "0.0",
         "0.0",
         "0.0",
         "0.0",
         "0.0",
         "0.0",
         "0.0",
         "0.0",
         "0.0",
         "0.0",
         "0.0",
         "0.0",
         "0.0",
         "0.0",
         "0.0",
         "0.0",
         "0.0",
         "0.0",
         "0.0",
         "-5.0"
        ],
        [
         "1",
         "0.20129852008866",
         "0.9795299412524944",
         "0.9749279121818236",
         "-0.2225209339563143",
         "160.0",
         "1020.0",
         "33.0",
         "45.0",
         "63.0",
         "10.0",
         "10.0",
         "-0.7853169308807447",
         "-0.6190939493098343",
         "1.0",
         "0.0",
         "0.0",
         "1.0",
         "0.0",
         "0.0",
         "0.0",
         "0.0",
         "0.0",
         "0.0",
         "0.0",
         "0.0",
         "0.0",
         "0.0",
         "0.0",
         "0.0",
         "1.0",
         "0.0",
         "0.0",
         "0.0",
         "0.0",
         "0.0",
         "0.0",
         "0.0",
         "0.0",
         "0.0",
         "0.0",
         "0.0",
         "0.0",
         "0.0",
         "0.0",
         "0.0",
         "0.0",
         "0.0",
         "0.0",
         "0.0",
         "0.0",
         "0.0",
         "0.0",
         "0.0",
         "0.0",
         "0.0",
         "0.0",
         "0.0",
         "0.0",
         "0.0",
         "0.0",
         "0.0",
         "0.0",
         "0.0",
         "0.0",
         "0.0",
         "0.0",
         "0.0",
         "0.0",
         "0.0",
         "0.0",
         "0.0",
         "0.0",
         "0.0",
         "0.0",
         "0.0",
         "0.0",
         "0.0",
         "0.0",
         "0.0",
         "0.0",
         "0.0",
         "0.0",
         "0.0",
         "0.0",
         "0.0",
         "0.0",
         "0.0",
         "0.0",
         "0.0",
         "0.0",
         "0.0",
         "0.0",
         "0.0",
         "0.0",
         "0.0",
         "1.0",
         "0.0",
         "0.0",
         "0.0",
         "0.0",
         "0.0",
         "0.0",
         "0.0",
         "0.0",
         "0.0",
         "0.0",
         "0.0",
         "0.0",
         "0.0",
         "0.0",
         "0.0",
         "0.0",
         "0.0",
         "0.0",
         "0.0",
         "0.0",
         "0.0",
         "0.0",
         "0.0",
         "15.0"
        ],
        [
         "2",
         "0.20129852008866",
         "0.9795299412524944",
         "0.9749279121818236",
         "-0.2225209339563143",
         "299.0",
         "2279.0",
         "37.0",
         "43.0",
         "80.0",
         "10.0",
         "6.0",
         "0.9399907318200802",
         "-0.3411999766886717",
         "1.0",
         "0.0",
         "0.0",
         "1.0",
         "0.0",
         "0.0",
         "0.0",
         "0.0",
         "0.0",
         "0.0",
         "0.0",
         "0.0",
         "0.0",
         "0.0",
         "0.0",
         "0.0",
         "0.0",
         "0.0",
         "0.0",
         "1.0",
         "0.0",
         "0.0",
         "0.0",
         "0.0",
         "0.0",
         "0.0",
         "0.0",
         "0.0",
         "0.0",
         "0.0",
         "0.0",
         "0.0",
         "0.0",
         "0.0",
         "1.0",
         "0.0",
         "0.0",
         "0.0",
         "0.0",
         "0.0",
         "0.0",
         "0.0",
         "0.0",
         "0.0",
         "0.0",
         "0.0",
         "0.0",
         "0.0",
         "0.0",
         "0.0",
         "0.0",
         "0.0",
         "0.0",
         "0.0",
         "0.0",
         "0.0",
         "0.0",
         "0.0",
         "0.0",
         "0.0",
         "0.0",
         "0.0",
         "0.0",
         "0.0",
         "0.0",
         "0.0",
         "0.0",
         "0.0",
         "0.0",
         "0.0",
         "0.0",
         "0.0",
         "0.0",
         "0.0",
         "0.0",
         "0.0",
         "0.0",
         "0.0",
         "0.0",
         "0.0",
         "0.0",
         "0.0",
         "0.0",
         "0.0",
         "0.0",
         "0.0",
         "0.0",
         "0.0",
         "0.0",
         "0.0",
         "0.0",
         "0.0",
         "0.0",
         "0.0",
         "0.0",
         "0.0",
         "0.0",
         "0.0",
         "0.0",
         "0.0",
         "0.0",
         "0.0",
         "0.0",
         "0.0",
         "0.0",
         "0.0",
         "-3.0"
        ],
        [
         "3",
         "0.20129852008866",
         "0.9795299412524944",
         "0.9749279121818236",
         "-0.2225209339563143",
         "300.0",
         "2279.0",
         "41.0",
         "49.0",
         "74.0",
         "10.0",
         "6.0",
         "-0.4609743745354622",
         "-0.8874134470592833",
         "1.0",
         "0.0",
         "0.0",
         "1.0",
         "0.0",
         "0.0",
         "0.0",
         "0.0",
         "0.0",
         "0.0",
         "0.0",
         "0.0",
         "0.0",
         "0.0",
         "0.0",
         "0.0",
         "0.0",
         "0.0",
         "0.0",
         "1.0",
         "0.0",
         "0.0",
         "0.0",
         "0.0",
         "0.0",
         "0.0",
         "0.0",
         "0.0",
         "0.0",
         "0.0",
         "0.0",
         "0.0",
         "0.0",
         "0.0",
         "1.0",
         "0.0",
         "0.0",
         "0.0",
         "0.0",
         "0.0",
         "0.0",
         "0.0",
         "0.0",
         "0.0",
         "0.0",
         "0.0",
         "0.0",
         "0.0",
         "0.0",
         "0.0",
         "0.0",
         "0.0",
         "0.0",
         "0.0",
         "0.0",
         "0.0",
         "0.0",
         "0.0",
         "0.0",
         "0.0",
         "0.0",
         "0.0",
         "0.0",
         "0.0",
         "0.0",
         "0.0",
         "0.0",
         "0.0",
         "0.0",
         "0.0",
         "0.0",
         "0.0",
         "0.0",
         "0.0",
         "0.0",
         "0.0",
         "0.0",
         "0.0",
         "0.0",
         "0.0",
         "0.0",
         "0.0",
         "0.0",
         "0.0",
         "0.0",
         "0.0",
         "0.0",
         "0.0",
         "0.0",
         "0.0",
         "0.0",
         "0.0",
         "0.0",
         "0.0",
         "0.0",
         "0.0",
         "0.0",
         "0.0",
         "0.0",
         "0.0",
         "0.0",
         "0.0",
         "0.0",
         "0.0",
         "0.0",
         "0.0",
         "-3.0"
        ],
        [
         "4",
         "0.20129852008866",
         "0.9795299412524944",
         "0.9749279121818236",
         "-0.2225209339563143",
         "300.0",
         "2279.0",
         "41.0",
         "45.0",
         "86.0",
         "10.0",
         "7.0",
         "-0.5000000000000004",
         "0.8660254037844384",
         "1.0",
         "0.0",
         "0.0",
         "1.0",
         "0.0",
         "0.0",
         "0.0",
         "0.0",
         "0.0",
         "0.0",
         "0.0",
         "0.0",
         "0.0",
         "0.0",
         "0.0",
         "0.0",
         "0.0",
         "0.0",
         "0.0",
         "1.0",
         "0.0",
         "0.0",
         "0.0",
         "0.0",
         "0.0",
         "0.0",
         "0.0",
         "0.0",
         "0.0",
         "0.0",
         "0.0",
         "0.0",
         "0.0",
         "0.0",
         "1.0",
         "0.0",
         "0.0",
         "0.0",
         "0.0",
         "0.0",
         "0.0",
         "0.0",
         "0.0",
         "0.0",
         "0.0",
         "0.0",
         "0.0",
         "0.0",
         "0.0",
         "0.0",
         "0.0",
         "0.0",
         "0.0",
         "0.0",
         "0.0",
         "0.0",
         "0.0",
         "0.0",
         "0.0",
         "0.0",
         "0.0",
         "0.0",
         "0.0",
         "0.0",
         "0.0",
         "0.0",
         "0.0",
         "0.0",
         "0.0",
         "0.0",
         "0.0",
         "0.0",
         "0.0",
         "0.0",
         "0.0",
         "0.0",
         "0.0",
         "0.0",
         "0.0",
         "0.0",
         "0.0",
         "0.0",
         "0.0",
         "0.0",
         "0.0",
         "0.0",
         "0.0",
         "0.0",
         "0.0",
         "0.0",
         "0.0",
         "0.0",
         "0.0",
         "0.0",
         "0.0",
         "0.0",
         "0.0",
         "0.0",
         "0.0",
         "0.0",
         "0.0",
         "0.0",
         "0.0",
         "0.0",
         "0.0",
         "0.0",
         "-6.0"
        ]
       ],
       "shape": {
        "columns": 120,
        "rows": 5
       }
      },
      "text/html": [
       "<div>\n",
       "<style scoped>\n",
       "    .dataframe tbody tr th:only-of-type {\n",
       "        vertical-align: middle;\n",
       "    }\n",
       "\n",
       "    .dataframe tbody tr th {\n",
       "        vertical-align: top;\n",
       "    }\n",
       "\n",
       "    .dataframe thead th {\n",
       "        text-align: right;\n",
       "    }\n",
       "</style>\n",
       "<table border=\"1\" class=\"dataframe\">\n",
       "  <thead>\n",
       "    <tr style=\"text-align: right;\">\n",
       "      <th></th>\n",
       "      <th>DAY_OF_MONTH_sin</th>\n",
       "      <th>DAY_OF_MONTH_cos</th>\n",
       "      <th>DAY_OF_WEEK_sin</th>\n",
       "      <th>DAY_OF_WEEK_cos</th>\n",
       "      <th>CRS_ELAPSED_TIME</th>\n",
       "      <th>DISTANCE</th>\n",
       "      <th>HourlyDewPointTemperature</th>\n",
       "      <th>HourlyDryBulbTemperature</th>\n",
       "      <th>HourlyRelativeHumidity</th>\n",
       "      <th>HourlyVisibility</th>\n",
       "      <th>...</th>\n",
       "      <th>DEST_SIT</th>\n",
       "      <th>DEST_SJC</th>\n",
       "      <th>DEST_SLC</th>\n",
       "      <th>DEST_SMF</th>\n",
       "      <th>DEST_SNA</th>\n",
       "      <th>DEST_STL</th>\n",
       "      <th>DEST_STS</th>\n",
       "      <th>DEST_TPA</th>\n",
       "      <th>DEST_TUS</th>\n",
       "      <th>DEP_DELAY</th>\n",
       "    </tr>\n",
       "  </thead>\n",
       "  <tbody>\n",
       "    <tr>\n",
       "      <th>0</th>\n",
       "      <td>0.201299</td>\n",
       "      <td>0.97953</td>\n",
       "      <td>0.974928</td>\n",
       "      <td>-0.222521</td>\n",
       "      <td>168.0</td>\n",
       "      <td>1020.0</td>\n",
       "      <td>33.0</td>\n",
       "      <td>36.0</td>\n",
       "      <td>89.0</td>\n",
       "      <td>5.0</td>\n",
       "      <td>...</td>\n",
       "      <td>0.0</td>\n",
       "      <td>0.0</td>\n",
       "      <td>0.0</td>\n",
       "      <td>0.0</td>\n",
       "      <td>0.0</td>\n",
       "      <td>0.0</td>\n",
       "      <td>0.0</td>\n",
       "      <td>0.0</td>\n",
       "      <td>0.0</td>\n",
       "      <td>-5.0</td>\n",
       "    </tr>\n",
       "    <tr>\n",
       "      <th>1</th>\n",
       "      <td>0.201299</td>\n",
       "      <td>0.97953</td>\n",
       "      <td>0.974928</td>\n",
       "      <td>-0.222521</td>\n",
       "      <td>160.0</td>\n",
       "      <td>1020.0</td>\n",
       "      <td>33.0</td>\n",
       "      <td>45.0</td>\n",
       "      <td>63.0</td>\n",
       "      <td>10.0</td>\n",
       "      <td>...</td>\n",
       "      <td>0.0</td>\n",
       "      <td>0.0</td>\n",
       "      <td>0.0</td>\n",
       "      <td>0.0</td>\n",
       "      <td>0.0</td>\n",
       "      <td>0.0</td>\n",
       "      <td>0.0</td>\n",
       "      <td>0.0</td>\n",
       "      <td>0.0</td>\n",
       "      <td>15.0</td>\n",
       "    </tr>\n",
       "    <tr>\n",
       "      <th>2</th>\n",
       "      <td>0.201299</td>\n",
       "      <td>0.97953</td>\n",
       "      <td>0.974928</td>\n",
       "      <td>-0.222521</td>\n",
       "      <td>299.0</td>\n",
       "      <td>2279.0</td>\n",
       "      <td>37.0</td>\n",
       "      <td>43.0</td>\n",
       "      <td>80.0</td>\n",
       "      <td>10.0</td>\n",
       "      <td>...</td>\n",
       "      <td>0.0</td>\n",
       "      <td>0.0</td>\n",
       "      <td>0.0</td>\n",
       "      <td>0.0</td>\n",
       "      <td>0.0</td>\n",
       "      <td>0.0</td>\n",
       "      <td>0.0</td>\n",
       "      <td>0.0</td>\n",
       "      <td>0.0</td>\n",
       "      <td>-3.0</td>\n",
       "    </tr>\n",
       "    <tr>\n",
       "      <th>3</th>\n",
       "      <td>0.201299</td>\n",
       "      <td>0.97953</td>\n",
       "      <td>0.974928</td>\n",
       "      <td>-0.222521</td>\n",
       "      <td>300.0</td>\n",
       "      <td>2279.0</td>\n",
       "      <td>41.0</td>\n",
       "      <td>49.0</td>\n",
       "      <td>74.0</td>\n",
       "      <td>10.0</td>\n",
       "      <td>...</td>\n",
       "      <td>0.0</td>\n",
       "      <td>0.0</td>\n",
       "      <td>0.0</td>\n",
       "      <td>0.0</td>\n",
       "      <td>0.0</td>\n",
       "      <td>0.0</td>\n",
       "      <td>0.0</td>\n",
       "      <td>0.0</td>\n",
       "      <td>0.0</td>\n",
       "      <td>-3.0</td>\n",
       "    </tr>\n",
       "    <tr>\n",
       "      <th>4</th>\n",
       "      <td>0.201299</td>\n",
       "      <td>0.97953</td>\n",
       "      <td>0.974928</td>\n",
       "      <td>-0.222521</td>\n",
       "      <td>300.0</td>\n",
       "      <td>2279.0</td>\n",
       "      <td>41.0</td>\n",
       "      <td>45.0</td>\n",
       "      <td>86.0</td>\n",
       "      <td>10.0</td>\n",
       "      <td>...</td>\n",
       "      <td>0.0</td>\n",
       "      <td>0.0</td>\n",
       "      <td>0.0</td>\n",
       "      <td>0.0</td>\n",
       "      <td>0.0</td>\n",
       "      <td>0.0</td>\n",
       "      <td>0.0</td>\n",
       "      <td>0.0</td>\n",
       "      <td>0.0</td>\n",
       "      <td>-6.0</td>\n",
       "    </tr>\n",
       "  </tbody>\n",
       "</table>\n",
       "<p>5 rows × 120 columns</p>\n",
       "</div>"
      ],
      "text/plain": [
       "   DAY_OF_MONTH_sin  DAY_OF_MONTH_cos  DAY_OF_WEEK_sin  DAY_OF_WEEK_cos  \\\n",
       "0          0.201299           0.97953         0.974928        -0.222521   \n",
       "1          0.201299           0.97953         0.974928        -0.222521   \n",
       "2          0.201299           0.97953         0.974928        -0.222521   \n",
       "3          0.201299           0.97953         0.974928        -0.222521   \n",
       "4          0.201299           0.97953         0.974928        -0.222521   \n",
       "\n",
       "   CRS_ELAPSED_TIME  DISTANCE  HourlyDewPointTemperature  \\\n",
       "0             168.0    1020.0                       33.0   \n",
       "1             160.0    1020.0                       33.0   \n",
       "2             299.0    2279.0                       37.0   \n",
       "3             300.0    2279.0                       41.0   \n",
       "4             300.0    2279.0                       41.0   \n",
       "\n",
       "   HourlyDryBulbTemperature  HourlyRelativeHumidity  HourlyVisibility  ...  \\\n",
       "0                      36.0                    89.0               5.0  ...   \n",
       "1                      45.0                    63.0              10.0  ...   \n",
       "2                      43.0                    80.0              10.0  ...   \n",
       "3                      49.0                    74.0              10.0  ...   \n",
       "4                      45.0                    86.0              10.0  ...   \n",
       "\n",
       "   DEST_SIT  DEST_SJC  DEST_SLC  DEST_SMF  DEST_SNA  DEST_STL  DEST_STS  \\\n",
       "0       0.0       0.0       0.0       0.0       0.0       0.0       0.0   \n",
       "1       0.0       0.0       0.0       0.0       0.0       0.0       0.0   \n",
       "2       0.0       0.0       0.0       0.0       0.0       0.0       0.0   \n",
       "3       0.0       0.0       0.0       0.0       0.0       0.0       0.0   \n",
       "4       0.0       0.0       0.0       0.0       0.0       0.0       0.0   \n",
       "\n",
       "   DEST_TPA  DEST_TUS  DEP_DELAY  \n",
       "0       0.0       0.0       -5.0  \n",
       "1       0.0       0.0       15.0  \n",
       "2       0.0       0.0       -3.0  \n",
       "3       0.0       0.0       -3.0  \n",
       "4       0.0       0.0       -6.0  \n",
       "\n",
       "[5 rows x 120 columns]"
      ]
     },
     "execution_count": 36,
     "metadata": {},
     "output_type": "execute_result"
    }
   ],
   "source": [
    "df = pd.read_csv(\"../Data/flight_dep_linear.csv\")\n",
    "df.shape\n",
    "df.head(5)"
   ]
  },
  {
   "cell_type": "code",
   "execution_count": 37,
   "id": "532b7337",
   "metadata": {},
   "outputs": [],
   "source": [
    "X = df.drop(columns=[\"DEP_DELAY\"])\n",
    "y = df[\"DEP_DELAY\"].values"
   ]
  },
  {
   "cell_type": "code",
   "execution_count": 38,
   "id": "ac3c7fe6",
   "metadata": {},
   "outputs": [
    {
     "name": "stdout",
     "output_type": "stream",
     "text": [
      "Train size: (36124, 119), Test size: (9031, 119)\n"
     ]
    }
   ],
   "source": [
    "X_train, X_test, y_train, y_test = train_test_split(\n",
    "    X, y, test_size=0.2, random_state=42\n",
    ")\n",
    "\n",
    "print(f\"Train size: {X_train.shape}, Test size: {X_test.shape}\")"
   ]
  },
  {
   "cell_type": "code",
   "execution_count": 39,
   "id": "51869d92",
   "metadata": {},
   "outputs": [],
   "source": [
    "# Identify numeric columns to be scaled\n",
    "num_cols = [\n",
    "    \"DISTANCE\", \"CRS_ELAPSED_TIME\",\n",
    "    \"HourlyDewPointTemperature\", \"HourlyDryBulbTemperature\",\n",
    "    \"HourlyRelativeHumidity\", \"HourlyVisibility\", \"HourlyWindSpeed\"\n",
    "]\n",
    "\n",
    "preprocessor = ColumnTransformer(\n",
    "    transformers=[\n",
    "        ('num', StandardScaler(), num_cols)\n",
    "    ],\n",
    "    remainder='passthrough'  # keep all remaining columns\n",
    ")\n"
   ]
  },
  {
   "cell_type": "code",
   "execution_count": 40,
   "id": "9723f34d",
   "metadata": {},
   "outputs": [],
   "source": [
    "ridge = Ridge(alpha=1.0) \n",
    "ridge_pipeline = preprocessor\n",
    "X_train_scaled = ridge_pipeline.fit_transform(X_train)\n",
    "X_test_scaled = ridge_pipeline.transform(X_test)\n",
    "\n",
    "ridge.fit(X_train_scaled, y_train)\n",
    "y_pred = ridge.predict(X_test_scaled)\n",
    "\n"
   ]
  },
  {
   "cell_type": "code",
   "execution_count": 43,
   "id": "01488903",
   "metadata": {},
   "outputs": [
    {
     "name": "stdout",
     "output_type": "stream",
     "text": [
      "\n",
      " Ridge Regression Performance:\n",
      "MAE   = 7.263\n",
      "RMSE  = 9.776\n",
      "Predictions: [-2.17025631 -1.70089784 -3.88341639  3.69673548  2.4688049  -1.62793809\n",
      " -4.27754069 -1.77634636  3.38645804  0.67375454  1.80228956]\n",
      "Actuals:     [  3.  -8.  -9.   5.   7.  -4. -10.  -6.   0.  -2.  29.]\n"
     ]
    }
   ],
   "source": [
    "mae  = mean_absolute_error(y_test, y_pred)\n",
    "rmse = np.sqrt(mean_squared_error(y_test, y_pred))\n",
    "\n",
    "print(\"\\n Ridge Regression Performance:\")\n",
    "print(f\"MAE   = {mae:.3f}\")\n",
    "print(f\"RMSE  = {rmse:.3f}\")\n",
    "\n",
    "print(\"Predictions:\", y_pred[:11])\n",
    "print(\"Actuals:    \", y_test[:11])"
   ]
  }
 ],
 "metadata": {
  "kernelspec": {
   "display_name": "Python 3",
   "language": "python",
   "name": "python3"
  },
  "language_info": {
   "codemirror_mode": {
    "name": "ipython",
    "version": 3
   },
   "file_extension": ".py",
   "mimetype": "text/x-python",
   "name": "python",
   "nbconvert_exporter": "python",
   "pygments_lexer": "ipython3",
   "version": "3.12.0"
  }
 },
 "nbformat": 4,
 "nbformat_minor": 5
}
