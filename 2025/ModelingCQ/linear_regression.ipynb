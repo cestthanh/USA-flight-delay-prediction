{
 "cells": [
  {
   "cell_type": "code",
   "execution_count": 1,
   "id": "3b2427ee",
   "metadata": {},
   "outputs": [],
   "source": [
    "import pandas as pd\n",
    "import numpy as np\n",
    "import matplotlib.pyplot as plt\n",
    "from sklearn.model_selection import train_test_split\n",
    "from sklearn.linear_model import LinearRegression\n",
    "from sklearn.metrics import mean_absolute_error, mean_squared_error, r2_score"
   ]
  },
  {
   "cell_type": "code",
   "execution_count": 2,
   "id": "ad087390",
   "metadata": {},
   "outputs": [
    {
     "data": {
      "application/vnd.microsoft.datawrangler.viewer.v0+json": {
       "columns": [
        {
         "name": "index",
         "rawType": "int64",
         "type": "integer"
        },
        {
         "name": "DAY_OF_MONTH",
         "rawType": "int64",
         "type": "integer"
        },
        {
         "name": "CRS_ELAPSED_TIME",
         "rawType": "float64",
         "type": "float"
        },
        {
         "name": "DISTANCE",
         "rawType": "float64",
         "type": "float"
        },
        {
         "name": "HourlyDewPointTemperature",
         "rawType": "float64",
         "type": "float"
        },
        {
         "name": "HourlyDryBulbTemperature",
         "rawType": "float64",
         "type": "float"
        },
        {
         "name": "HourlyRelativeHumidity",
         "rawType": "float64",
         "type": "float"
        },
        {
         "name": "HourlyVisibility",
         "rawType": "float64",
         "type": "float"
        },
        {
         "name": "HourlyWindSpeed",
         "rawType": "float64",
         "type": "float"
        },
        {
         "name": "DEP_HOUR_sin",
         "rawType": "float64",
         "type": "float"
        },
        {
         "name": "DEP_HOUR_cos",
         "rawType": "float64",
         "type": "float"
        },
        {
         "name": "MONTH_4",
         "rawType": "float64",
         "type": "float"
        },
        {
         "name": "MONTH_5",
         "rawType": "float64",
         "type": "float"
        },
        {
         "name": "MONTH_6",
         "rawType": "float64",
         "type": "float"
        },
        {
         "name": "DAY_OF_WEEK_1",
         "rawType": "float64",
         "type": "float"
        },
        {
         "name": "DAY_OF_WEEK_2",
         "rawType": "float64",
         "type": "float"
        },
        {
         "name": "DAY_OF_WEEK_3",
         "rawType": "float64",
         "type": "float"
        },
        {
         "name": "DAY_OF_WEEK_4",
         "rawType": "float64",
         "type": "float"
        },
        {
         "name": "DAY_OF_WEEK_5",
         "rawType": "float64",
         "type": "float"
        },
        {
         "name": "DAY_OF_WEEK_6",
         "rawType": "float64",
         "type": "float"
        },
        {
         "name": "DAY_OF_WEEK_7",
         "rawType": "float64",
         "type": "float"
        },
        {
         "name": "OP_UNIQUE_CARRIER_AA",
         "rawType": "float64",
         "type": "float"
        },
        {
         "name": "OP_UNIQUE_CARRIER_AS",
         "rawType": "float64",
         "type": "float"
        },
        {
         "name": "OP_UNIQUE_CARRIER_B6",
         "rawType": "float64",
         "type": "float"
        },
        {
         "name": "OP_UNIQUE_CARRIER_DL",
         "rawType": "float64",
         "type": "float"
        },
        {
         "name": "OP_UNIQUE_CARRIER_F9",
         "rawType": "float64",
         "type": "float"
        },
        {
         "name": "OP_UNIQUE_CARRIER_G4",
         "rawType": "float64",
         "type": "float"
        },
        {
         "name": "OP_UNIQUE_CARRIER_HA",
         "rawType": "float64",
         "type": "float"
        },
        {
         "name": "OP_UNIQUE_CARRIER_MQ",
         "rawType": "float64",
         "type": "float"
        },
        {
         "name": "OP_UNIQUE_CARRIER_NK",
         "rawType": "float64",
         "type": "float"
        },
        {
         "name": "OP_UNIQUE_CARRIER_OO",
         "rawType": "float64",
         "type": "float"
        },
        {
         "name": "OP_UNIQUE_CARRIER_UA",
         "rawType": "float64",
         "type": "float"
        },
        {
         "name": "OP_UNIQUE_CARRIER_WN",
         "rawType": "float64",
         "type": "float"
        },
        {
         "name": "ORIGIN_BLI",
         "rawType": "float64",
         "type": "float"
        },
        {
         "name": "ORIGIN_GEG",
         "rawType": "float64",
         "type": "float"
        },
        {
         "name": "ORIGIN_PAE",
         "rawType": "float64",
         "type": "float"
        },
        {
         "name": "ORIGIN_PSC",
         "rawType": "float64",
         "type": "float"
        },
        {
         "name": "ORIGIN_SEA",
         "rawType": "float64",
         "type": "float"
        },
        {
         "name": "DEST_ABQ",
         "rawType": "float64",
         "type": "float"
        },
        {
         "name": "DEST_ANC",
         "rawType": "float64",
         "type": "float"
        },
        {
         "name": "DEST_ATL",
         "rawType": "float64",
         "type": "float"
        },
        {
         "name": "DEST_AUS",
         "rawType": "float64",
         "type": "float"
        },
        {
         "name": "DEST_AZA",
         "rawType": "float64",
         "type": "float"
        },
        {
         "name": "DEST_BLI",
         "rawType": "float64",
         "type": "float"
        },
        {
         "name": "DEST_BNA",
         "rawType": "float64",
         "type": "float"
        },
        {
         "name": "DEST_BOI",
         "rawType": "float64",
         "type": "float"
        },
        {
         "name": "DEST_BOS",
         "rawType": "float64",
         "type": "float"
        },
        {
         "name": "DEST_BUR",
         "rawType": "float64",
         "type": "float"
        },
        {
         "name": "DEST_BWI",
         "rawType": "float64",
         "type": "float"
        },
        {
         "name": "DEST_BZN",
         "rawType": "float64",
         "type": "float"
        },
        {
         "name": "DEST_CHS",
         "rawType": "float64",
         "type": "float"
        },
        {
         "name": "DEST_CLE",
         "rawType": "float64",
         "type": "float"
        },
        {
         "name": "DEST_CLT",
         "rawType": "float64",
         "type": "float"
        },
        {
         "name": "DEST_CMH",
         "rawType": "float64",
         "type": "float"
        },
        {
         "name": "DEST_CVG",
         "rawType": "float64",
         "type": "float"
        },
        {
         "name": "DEST_DAL",
         "rawType": "float64",
         "type": "float"
        },
        {
         "name": "DEST_DCA",
         "rawType": "float64",
         "type": "float"
        },
        {
         "name": "DEST_DEN",
         "rawType": "float64",
         "type": "float"
        },
        {
         "name": "DEST_DFW",
         "rawType": "float64",
         "type": "float"
        },
        {
         "name": "DEST_DTW",
         "rawType": "float64",
         "type": "float"
        },
        {
         "name": "DEST_EUG",
         "rawType": "float64",
         "type": "float"
        },
        {
         "name": "DEST_EWR",
         "rawType": "float64",
         "type": "float"
        },
        {
         "name": "DEST_FAI",
         "rawType": "float64",
         "type": "float"
        },
        {
         "name": "DEST_FAT",
         "rawType": "float64",
         "type": "float"
        },
        {
         "name": "DEST_FLL",
         "rawType": "float64",
         "type": "float"
        },
        {
         "name": "DEST_GEG",
         "rawType": "float64",
         "type": "float"
        },
        {
         "name": "DEST_GTF",
         "rawType": "float64",
         "type": "float"
        },
        {
         "name": "DEST_HLN",
         "rawType": "float64",
         "type": "float"
        },
        {
         "name": "DEST_HNL",
         "rawType": "float64",
         "type": "float"
        },
        {
         "name": "DEST_HOU",
         "rawType": "float64",
         "type": "float"
        },
        {
         "name": "DEST_IAD",
         "rawType": "float64",
         "type": "float"
        },
        {
         "name": "DEST_IAH",
         "rawType": "float64",
         "type": "float"
        },
        {
         "name": "DEST_IND",
         "rawType": "float64",
         "type": "float"
        },
        {
         "name": "DEST_JAC",
         "rawType": "float64",
         "type": "float"
        },
        {
         "name": "DEST_JFK",
         "rawType": "float64",
         "type": "float"
        },
        {
         "name": "DEST_JNU",
         "rawType": "float64",
         "type": "float"
        },
        {
         "name": "DEST_KOA",
         "rawType": "float64",
         "type": "float"
        },
        {
         "name": "DEST_KTN",
         "rawType": "float64",
         "type": "float"
        },
        {
         "name": "DEST_LAS",
         "rawType": "float64",
         "type": "float"
        },
        {
         "name": "DEST_LAX",
         "rawType": "float64",
         "type": "float"
        },
        {
         "name": "DEST_LIH",
         "rawType": "float64",
         "type": "float"
        },
        {
         "name": "DEST_LWS",
         "rawType": "float64",
         "type": "float"
        },
        {
         "name": "DEST_MCI",
         "rawType": "float64",
         "type": "float"
        },
        {
         "name": "DEST_MCO",
         "rawType": "float64",
         "type": "float"
        },
        {
         "name": "DEST_MDW",
         "rawType": "float64",
         "type": "float"
        },
        {
         "name": "DEST_MFR",
         "rawType": "float64",
         "type": "float"
        },
        {
         "name": "DEST_MIA",
         "rawType": "float64",
         "type": "float"
        },
        {
         "name": "DEST_MKE",
         "rawType": "float64",
         "type": "float"
        },
        {
         "name": "DEST_MRY",
         "rawType": "float64",
         "type": "float"
        },
        {
         "name": "DEST_MSO",
         "rawType": "float64",
         "type": "float"
        },
        {
         "name": "DEST_MSP",
         "rawType": "float64",
         "type": "float"
        },
        {
         "name": "DEST_MSY",
         "rawType": "float64",
         "type": "float"
        },
        {
         "name": "DEST_OAK",
         "rawType": "float64",
         "type": "float"
        },
        {
         "name": "DEST_OGG",
         "rawType": "float64",
         "type": "float"
        },
        {
         "name": "DEST_OKC",
         "rawType": "float64",
         "type": "float"
        },
        {
         "name": "DEST_OMA",
         "rawType": "float64",
         "type": "float"
        },
        {
         "name": "DEST_ONT",
         "rawType": "float64",
         "type": "float"
        },
        {
         "name": "DEST_ORD",
         "rawType": "float64",
         "type": "float"
        },
        {
         "name": "DEST_PDX",
         "rawType": "float64",
         "type": "float"
        },
        {
         "name": "DEST_PHL",
         "rawType": "float64",
         "type": "float"
        },
        {
         "name": "DEST_PHX",
         "rawType": "float64",
         "type": "float"
        },
        {
         "name": "DEST_PIT",
         "rawType": "float64",
         "type": "float"
        },
        {
         "name": "DEST_PSC",
         "rawType": "float64",
         "type": "float"
        },
        {
         "name": "DEST_PSP",
         "rawType": "float64",
         "type": "float"
        },
        {
         "name": "DEST_RDD",
         "rawType": "float64",
         "type": "float"
        },
        {
         "name": "DEST_RDM",
         "rawType": "float64",
         "type": "float"
        },
        {
         "name": "DEST_RDU",
         "rawType": "float64",
         "type": "float"
        },
        {
         "name": "DEST_RNO",
         "rawType": "float64",
         "type": "float"
        },
        {
         "name": "DEST_RSW",
         "rawType": "float64",
         "type": "float"
        },
        {
         "name": "DEST_SAN",
         "rawType": "float64",
         "type": "float"
        },
        {
         "name": "DEST_SAT",
         "rawType": "float64",
         "type": "float"
        },
        {
         "name": "DEST_SBA",
         "rawType": "float64",
         "type": "float"
        },
        {
         "name": "DEST_SBP",
         "rawType": "float64",
         "type": "float"
        },
        {
         "name": "DEST_SEA",
         "rawType": "float64",
         "type": "float"
        },
        {
         "name": "DEST_SFO",
         "rawType": "float64",
         "type": "float"
        },
        {
         "name": "DEST_SIT",
         "rawType": "float64",
         "type": "float"
        },
        {
         "name": "DEST_SJC",
         "rawType": "float64",
         "type": "float"
        },
        {
         "name": "DEST_SLC",
         "rawType": "float64",
         "type": "float"
        },
        {
         "name": "DEST_SMF",
         "rawType": "float64",
         "type": "float"
        },
        {
         "name": "DEST_SNA",
         "rawType": "float64",
         "type": "float"
        },
        {
         "name": "DEST_STL",
         "rawType": "float64",
         "type": "float"
        },
        {
         "name": "DEST_STS",
         "rawType": "float64",
         "type": "float"
        },
        {
         "name": "DEST_TPA",
         "rawType": "float64",
         "type": "float"
        },
        {
         "name": "DEST_TUS",
         "rawType": "float64",
         "type": "float"
        },
        {
         "name": "DEP_DELAY",
         "rawType": "float64",
         "type": "float"
        }
       ],
       "ref": "cc068705-83b5-4131-8308-8548b03aaf7f",
       "rows": [
        [
         "0",
         "1",
         "168.0",
         "1020.0",
         "33.0",
         "36.0",
         "89.0",
         "5.0",
         "10.0",
         "0.9903891431021472",
         "-0.1383088761627189",
         "1.0",
         "0.0",
         "0.0",
         "0.0",
         "1.0",
         "0.0",
         "0.0",
         "0.0",
         "0.0",
         "0.0",
         "1.0",
         "0.0",
         "0.0",
         "0.0",
         "0.0",
         "0.0",
         "0.0",
         "0.0",
         "0.0",
         "0.0",
         "0.0",
         "0.0",
         "0.0",
         "1.0",
         "0.0",
         "0.0",
         "0.0",
         "0.0",
         "0.0",
         "0.0",
         "0.0",
         "0.0",
         "0.0",
         "0.0",
         "0.0",
         "0.0",
         "0.0",
         "0.0",
         "0.0",
         "0.0",
         "0.0",
         "0.0",
         "0.0",
         "0.0",
         "0.0",
         "0.0",
         "0.0",
         "0.0",
         "0.0",
         "0.0",
         "0.0",
         "0.0",
         "0.0",
         "0.0",
         "0.0",
         "0.0",
         "0.0",
         "0.0",
         "0.0",
         "0.0",
         "0.0",
         "0.0",
         "0.0",
         "0.0",
         "0.0",
         "0.0",
         "0.0",
         "0.0",
         "0.0",
         "0.0",
         "0.0",
         "0.0",
         "0.0",
         "0.0",
         "0.0",
         "0.0",
         "0.0",
         "0.0",
         "0.0",
         "0.0",
         "0.0",
         "0.0",
         "0.0",
         "0.0",
         "0.0",
         "0.0",
         "0.0",
         "0.0",
         "0.0",
         "1.0",
         "0.0",
         "0.0",
         "0.0",
         "0.0",
         "0.0",
         "0.0",
         "0.0",
         "0.0",
         "0.0",
         "0.0",
         "0.0",
         "0.0",
         "0.0",
         "0.0",
         "0.0",
         "0.0",
         "0.0",
         "0.0",
         "0.0",
         "0.0",
         "0.0",
         "0.0",
         "0.0",
         "-5.0"
        ],
        [
         "1",
         "1",
         "160.0",
         "1020.0",
         "33.0",
         "45.0",
         "63.0",
         "10.0",
         "10.0",
         "-0.7853169308807447",
         "-0.6190939493098343",
         "1.0",
         "0.0",
         "0.0",
         "0.0",
         "1.0",
         "0.0",
         "0.0",
         "0.0",
         "0.0",
         "0.0",
         "1.0",
         "0.0",
         "0.0",
         "0.0",
         "0.0",
         "0.0",
         "0.0",
         "0.0",
         "0.0",
         "0.0",
         "0.0",
         "0.0",
         "0.0",
         "1.0",
         "0.0",
         "0.0",
         "0.0",
         "0.0",
         "0.0",
         "0.0",
         "0.0",
         "0.0",
         "0.0",
         "0.0",
         "0.0",
         "0.0",
         "0.0",
         "0.0",
         "0.0",
         "0.0",
         "0.0",
         "0.0",
         "0.0",
         "0.0",
         "0.0",
         "0.0",
         "0.0",
         "0.0",
         "0.0",
         "0.0",
         "0.0",
         "0.0",
         "0.0",
         "0.0",
         "0.0",
         "0.0",
         "0.0",
         "0.0",
         "0.0",
         "0.0",
         "0.0",
         "0.0",
         "0.0",
         "0.0",
         "0.0",
         "0.0",
         "0.0",
         "0.0",
         "0.0",
         "0.0",
         "0.0",
         "0.0",
         "0.0",
         "0.0",
         "0.0",
         "0.0",
         "0.0",
         "0.0",
         "0.0",
         "0.0",
         "0.0",
         "0.0",
         "0.0",
         "0.0",
         "0.0",
         "0.0",
         "0.0",
         "0.0",
         "0.0",
         "1.0",
         "0.0",
         "0.0",
         "0.0",
         "0.0",
         "0.0",
         "0.0",
         "0.0",
         "0.0",
         "0.0",
         "0.0",
         "0.0",
         "0.0",
         "0.0",
         "0.0",
         "0.0",
         "0.0",
         "0.0",
         "0.0",
         "0.0",
         "0.0",
         "0.0",
         "0.0",
         "0.0",
         "15.0"
        ],
        [
         "2",
         "1",
         "299.0",
         "2279.0",
         "37.0",
         "43.0",
         "80.0",
         "10.0",
         "6.0",
         "0.9399907318200802",
         "-0.3411999766886717",
         "1.0",
         "0.0",
         "0.0",
         "0.0",
         "1.0",
         "0.0",
         "0.0",
         "0.0",
         "0.0",
         "0.0",
         "1.0",
         "0.0",
         "0.0",
         "0.0",
         "0.0",
         "0.0",
         "0.0",
         "0.0",
         "0.0",
         "0.0",
         "0.0",
         "0.0",
         "0.0",
         "0.0",
         "0.0",
         "0.0",
         "1.0",
         "0.0",
         "0.0",
         "0.0",
         "0.0",
         "0.0",
         "0.0",
         "0.0",
         "0.0",
         "0.0",
         "0.0",
         "0.0",
         "0.0",
         "0.0",
         "0.0",
         "1.0",
         "0.0",
         "0.0",
         "0.0",
         "0.0",
         "0.0",
         "0.0",
         "0.0",
         "0.0",
         "0.0",
         "0.0",
         "0.0",
         "0.0",
         "0.0",
         "0.0",
         "0.0",
         "0.0",
         "0.0",
         "0.0",
         "0.0",
         "0.0",
         "0.0",
         "0.0",
         "0.0",
         "0.0",
         "0.0",
         "0.0",
         "0.0",
         "0.0",
         "0.0",
         "0.0",
         "0.0",
         "0.0",
         "0.0",
         "0.0",
         "0.0",
         "0.0",
         "0.0",
         "0.0",
         "0.0",
         "0.0",
         "0.0",
         "0.0",
         "0.0",
         "0.0",
         "0.0",
         "0.0",
         "0.0",
         "0.0",
         "0.0",
         "0.0",
         "0.0",
         "0.0",
         "0.0",
         "0.0",
         "0.0",
         "0.0",
         "0.0",
         "0.0",
         "0.0",
         "0.0",
         "0.0",
         "0.0",
         "0.0",
         "0.0",
         "0.0",
         "0.0",
         "0.0",
         "0.0",
         "0.0",
         "0.0",
         "0.0",
         "-3.0"
        ],
        [
         "3",
         "1",
         "300.0",
         "2279.0",
         "41.0",
         "49.0",
         "74.0",
         "10.0",
         "6.0",
         "-0.4609743745354622",
         "-0.8874134470592833",
         "1.0",
         "0.0",
         "0.0",
         "0.0",
         "1.0",
         "0.0",
         "0.0",
         "0.0",
         "0.0",
         "0.0",
         "1.0",
         "0.0",
         "0.0",
         "0.0",
         "0.0",
         "0.0",
         "0.0",
         "0.0",
         "0.0",
         "0.0",
         "0.0",
         "0.0",
         "0.0",
         "0.0",
         "0.0",
         "0.0",
         "1.0",
         "0.0",
         "0.0",
         "0.0",
         "0.0",
         "0.0",
         "0.0",
         "0.0",
         "0.0",
         "0.0",
         "0.0",
         "0.0",
         "0.0",
         "0.0",
         "0.0",
         "1.0",
         "0.0",
         "0.0",
         "0.0",
         "0.0",
         "0.0",
         "0.0",
         "0.0",
         "0.0",
         "0.0",
         "0.0",
         "0.0",
         "0.0",
         "0.0",
         "0.0",
         "0.0",
         "0.0",
         "0.0",
         "0.0",
         "0.0",
         "0.0",
         "0.0",
         "0.0",
         "0.0",
         "0.0",
         "0.0",
         "0.0",
         "0.0",
         "0.0",
         "0.0",
         "0.0",
         "0.0",
         "0.0",
         "0.0",
         "0.0",
         "0.0",
         "0.0",
         "0.0",
         "0.0",
         "0.0",
         "0.0",
         "0.0",
         "0.0",
         "0.0",
         "0.0",
         "0.0",
         "0.0",
         "0.0",
         "0.0",
         "0.0",
         "0.0",
         "0.0",
         "0.0",
         "0.0",
         "0.0",
         "0.0",
         "0.0",
         "0.0",
         "0.0",
         "0.0",
         "0.0",
         "0.0",
         "0.0",
         "0.0",
         "0.0",
         "0.0",
         "0.0",
         "0.0",
         "0.0",
         "0.0",
         "0.0",
         "0.0",
         "-3.0"
        ],
        [
         "4",
         "1",
         "300.0",
         "2279.0",
         "41.0",
         "45.0",
         "86.0",
         "10.0",
         "7.0",
         "-0.5000000000000004",
         "0.8660254037844384",
         "1.0",
         "0.0",
         "0.0",
         "0.0",
         "1.0",
         "0.0",
         "0.0",
         "0.0",
         "0.0",
         "0.0",
         "1.0",
         "0.0",
         "0.0",
         "0.0",
         "0.0",
         "0.0",
         "0.0",
         "0.0",
         "0.0",
         "0.0",
         "0.0",
         "0.0",
         "0.0",
         "0.0",
         "0.0",
         "0.0",
         "1.0",
         "0.0",
         "0.0",
         "0.0",
         "0.0",
         "0.0",
         "0.0",
         "0.0",
         "0.0",
         "0.0",
         "0.0",
         "0.0",
         "0.0",
         "0.0",
         "0.0",
         "1.0",
         "0.0",
         "0.0",
         "0.0",
         "0.0",
         "0.0",
         "0.0",
         "0.0",
         "0.0",
         "0.0",
         "0.0",
         "0.0",
         "0.0",
         "0.0",
         "0.0",
         "0.0",
         "0.0",
         "0.0",
         "0.0",
         "0.0",
         "0.0",
         "0.0",
         "0.0",
         "0.0",
         "0.0",
         "0.0",
         "0.0",
         "0.0",
         "0.0",
         "0.0",
         "0.0",
         "0.0",
         "0.0",
         "0.0",
         "0.0",
         "0.0",
         "0.0",
         "0.0",
         "0.0",
         "0.0",
         "0.0",
         "0.0",
         "0.0",
         "0.0",
         "0.0",
         "0.0",
         "0.0",
         "0.0",
         "0.0",
         "0.0",
         "0.0",
         "0.0",
         "0.0",
         "0.0",
         "0.0",
         "0.0",
         "0.0",
         "0.0",
         "0.0",
         "0.0",
         "0.0",
         "0.0",
         "0.0",
         "0.0",
         "0.0",
         "0.0",
         "0.0",
         "0.0",
         "0.0",
         "0.0",
         "0.0",
         "0.0",
         "-6.0"
        ]
       ],
       "shape": {
        "columns": 124,
        "rows": 5
       }
      },
      "text/html": [
       "<div>\n",
       "<style scoped>\n",
       "    .dataframe tbody tr th:only-of-type {\n",
       "        vertical-align: middle;\n",
       "    }\n",
       "\n",
       "    .dataframe tbody tr th {\n",
       "        vertical-align: top;\n",
       "    }\n",
       "\n",
       "    .dataframe thead th {\n",
       "        text-align: right;\n",
       "    }\n",
       "</style>\n",
       "<table border=\"1\" class=\"dataframe\">\n",
       "  <thead>\n",
       "    <tr style=\"text-align: right;\">\n",
       "      <th></th>\n",
       "      <th>DAY_OF_MONTH</th>\n",
       "      <th>CRS_ELAPSED_TIME</th>\n",
       "      <th>DISTANCE</th>\n",
       "      <th>HourlyDewPointTemperature</th>\n",
       "      <th>HourlyDryBulbTemperature</th>\n",
       "      <th>HourlyRelativeHumidity</th>\n",
       "      <th>HourlyVisibility</th>\n",
       "      <th>HourlyWindSpeed</th>\n",
       "      <th>DEP_HOUR_sin</th>\n",
       "      <th>DEP_HOUR_cos</th>\n",
       "      <th>...</th>\n",
       "      <th>DEST_SIT</th>\n",
       "      <th>DEST_SJC</th>\n",
       "      <th>DEST_SLC</th>\n",
       "      <th>DEST_SMF</th>\n",
       "      <th>DEST_SNA</th>\n",
       "      <th>DEST_STL</th>\n",
       "      <th>DEST_STS</th>\n",
       "      <th>DEST_TPA</th>\n",
       "      <th>DEST_TUS</th>\n",
       "      <th>DEP_DELAY</th>\n",
       "    </tr>\n",
       "  </thead>\n",
       "  <tbody>\n",
       "    <tr>\n",
       "      <th>0</th>\n",
       "      <td>1</td>\n",
       "      <td>168.0</td>\n",
       "      <td>1020.0</td>\n",
       "      <td>33.0</td>\n",
       "      <td>36.0</td>\n",
       "      <td>89.0</td>\n",
       "      <td>5.0</td>\n",
       "      <td>10.0</td>\n",
       "      <td>0.990389</td>\n",
       "      <td>-0.138309</td>\n",
       "      <td>...</td>\n",
       "      <td>0.0</td>\n",
       "      <td>0.0</td>\n",
       "      <td>0.0</td>\n",
       "      <td>0.0</td>\n",
       "      <td>0.0</td>\n",
       "      <td>0.0</td>\n",
       "      <td>0.0</td>\n",
       "      <td>0.0</td>\n",
       "      <td>0.0</td>\n",
       "      <td>-5.0</td>\n",
       "    </tr>\n",
       "    <tr>\n",
       "      <th>1</th>\n",
       "      <td>1</td>\n",
       "      <td>160.0</td>\n",
       "      <td>1020.0</td>\n",
       "      <td>33.0</td>\n",
       "      <td>45.0</td>\n",
       "      <td>63.0</td>\n",
       "      <td>10.0</td>\n",
       "      <td>10.0</td>\n",
       "      <td>-0.785317</td>\n",
       "      <td>-0.619094</td>\n",
       "      <td>...</td>\n",
       "      <td>0.0</td>\n",
       "      <td>0.0</td>\n",
       "      <td>0.0</td>\n",
       "      <td>0.0</td>\n",
       "      <td>0.0</td>\n",
       "      <td>0.0</td>\n",
       "      <td>0.0</td>\n",
       "      <td>0.0</td>\n",
       "      <td>0.0</td>\n",
       "      <td>15.0</td>\n",
       "    </tr>\n",
       "    <tr>\n",
       "      <th>2</th>\n",
       "      <td>1</td>\n",
       "      <td>299.0</td>\n",
       "      <td>2279.0</td>\n",
       "      <td>37.0</td>\n",
       "      <td>43.0</td>\n",
       "      <td>80.0</td>\n",
       "      <td>10.0</td>\n",
       "      <td>6.0</td>\n",
       "      <td>0.939991</td>\n",
       "      <td>-0.341200</td>\n",
       "      <td>...</td>\n",
       "      <td>0.0</td>\n",
       "      <td>0.0</td>\n",
       "      <td>0.0</td>\n",
       "      <td>0.0</td>\n",
       "      <td>0.0</td>\n",
       "      <td>0.0</td>\n",
       "      <td>0.0</td>\n",
       "      <td>0.0</td>\n",
       "      <td>0.0</td>\n",
       "      <td>-3.0</td>\n",
       "    </tr>\n",
       "    <tr>\n",
       "      <th>3</th>\n",
       "      <td>1</td>\n",
       "      <td>300.0</td>\n",
       "      <td>2279.0</td>\n",
       "      <td>41.0</td>\n",
       "      <td>49.0</td>\n",
       "      <td>74.0</td>\n",
       "      <td>10.0</td>\n",
       "      <td>6.0</td>\n",
       "      <td>-0.460974</td>\n",
       "      <td>-0.887413</td>\n",
       "      <td>...</td>\n",
       "      <td>0.0</td>\n",
       "      <td>0.0</td>\n",
       "      <td>0.0</td>\n",
       "      <td>0.0</td>\n",
       "      <td>0.0</td>\n",
       "      <td>0.0</td>\n",
       "      <td>0.0</td>\n",
       "      <td>0.0</td>\n",
       "      <td>0.0</td>\n",
       "      <td>-3.0</td>\n",
       "    </tr>\n",
       "    <tr>\n",
       "      <th>4</th>\n",
       "      <td>1</td>\n",
       "      <td>300.0</td>\n",
       "      <td>2279.0</td>\n",
       "      <td>41.0</td>\n",
       "      <td>45.0</td>\n",
       "      <td>86.0</td>\n",
       "      <td>10.0</td>\n",
       "      <td>7.0</td>\n",
       "      <td>-0.500000</td>\n",
       "      <td>0.866025</td>\n",
       "      <td>...</td>\n",
       "      <td>0.0</td>\n",
       "      <td>0.0</td>\n",
       "      <td>0.0</td>\n",
       "      <td>0.0</td>\n",
       "      <td>0.0</td>\n",
       "      <td>0.0</td>\n",
       "      <td>0.0</td>\n",
       "      <td>0.0</td>\n",
       "      <td>0.0</td>\n",
       "      <td>-6.0</td>\n",
       "    </tr>\n",
       "  </tbody>\n",
       "</table>\n",
       "<p>5 rows × 124 columns</p>\n",
       "</div>"
      ],
      "text/plain": [
       "   DAY_OF_MONTH  CRS_ELAPSED_TIME  DISTANCE  HourlyDewPointTemperature  \\\n",
       "0             1             168.0    1020.0                       33.0   \n",
       "1             1             160.0    1020.0                       33.0   \n",
       "2             1             299.0    2279.0                       37.0   \n",
       "3             1             300.0    2279.0                       41.0   \n",
       "4             1             300.0    2279.0                       41.0   \n",
       "\n",
       "   HourlyDryBulbTemperature  HourlyRelativeHumidity  HourlyVisibility  \\\n",
       "0                      36.0                    89.0               5.0   \n",
       "1                      45.0                    63.0              10.0   \n",
       "2                      43.0                    80.0              10.0   \n",
       "3                      49.0                    74.0              10.0   \n",
       "4                      45.0                    86.0              10.0   \n",
       "\n",
       "   HourlyWindSpeed  DEP_HOUR_sin  DEP_HOUR_cos  ...  DEST_SIT  DEST_SJC  \\\n",
       "0             10.0      0.990389     -0.138309  ...       0.0       0.0   \n",
       "1             10.0     -0.785317     -0.619094  ...       0.0       0.0   \n",
       "2              6.0      0.939991     -0.341200  ...       0.0       0.0   \n",
       "3              6.0     -0.460974     -0.887413  ...       0.0       0.0   \n",
       "4              7.0     -0.500000      0.866025  ...       0.0       0.0   \n",
       "\n",
       "   DEST_SLC  DEST_SMF  DEST_SNA  DEST_STL  DEST_STS  DEST_TPA  DEST_TUS  \\\n",
       "0       0.0       0.0       0.0       0.0       0.0       0.0       0.0   \n",
       "1       0.0       0.0       0.0       0.0       0.0       0.0       0.0   \n",
       "2       0.0       0.0       0.0       0.0       0.0       0.0       0.0   \n",
       "3       0.0       0.0       0.0       0.0       0.0       0.0       0.0   \n",
       "4       0.0       0.0       0.0       0.0       0.0       0.0       0.0   \n",
       "\n",
       "   DEP_DELAY  \n",
       "0       -5.0  \n",
       "1       15.0  \n",
       "2       -3.0  \n",
       "3       -3.0  \n",
       "4       -6.0  \n",
       "\n",
       "[5 rows x 124 columns]"
      ]
     },
     "execution_count": 2,
     "metadata": {},
     "output_type": "execute_result"
    }
   ],
   "source": [
    "df = pd.read_csv(\"flight_dep_linear.csv\")\n",
    "df.shape\n",
    "df.head(5)"
   ]
  },
  {
   "cell_type": "code",
   "execution_count": 3,
   "id": "75a2b45b",
   "metadata": {},
   "outputs": [],
   "source": [
    "X = df.drop(columns=[\"DEP_DELAY\"])\n",
    "y = df[\"DEP_DELAY\"]"
   ]
  },
  {
   "cell_type": "code",
   "execution_count": 4,
   "id": "e03ff0fb",
   "metadata": {},
   "outputs": [
    {
     "name": "stdout",
     "output_type": "stream",
     "text": [
      "Train size: (40023, 123), Test size: (10006, 123)\n"
     ]
    }
   ],
   "source": [
    "X_train, X_test, y_train, y_test = train_test_split(\n",
    "    X, y, test_size=0.2, random_state=42\n",
    ")\n",
    "\n",
    "print(f\"Train size: {X_train.shape}, Test size: {X_test.shape}\")"
   ]
  },
  {
   "cell_type": "code",
   "execution_count": 1,
   "id": "07c6ee4e",
   "metadata": {},
   "outputs": [
    {
     "ename": "NameError",
     "evalue": "name 'LinearRegression' is not defined",
     "output_type": "error",
     "traceback": [
      "\u001b[31m---------------------------------------------------------------------------\u001b[39m",
      "\u001b[31mNameError\u001b[39m                                 Traceback (most recent call last)",
      "\u001b[36mCell\u001b[39m\u001b[36m \u001b[39m\u001b[32mIn[1]\u001b[39m\u001b[32m, line 4\u001b[39m\n\u001b[32m      1\u001b[39m \u001b[38;5;66;03m#--------------------------------------------------------#\u001b[39;00m\n\u001b[32m      2\u001b[39m \u001b[38;5;66;03m# 3️⃣ Huấn luyện Linear Regression\u001b[39;00m\n\u001b[32m      3\u001b[39m \u001b[38;5;66;03m#--------------------------------------------------------#\u001b[39;00m\n\u001b[32m----> \u001b[39m\u001b[32m4\u001b[39m model = \u001b[43mLinearRegression\u001b[49m()\n\u001b[32m      5\u001b[39m model.fit(X_train, y_train)\n",
      "\u001b[31mNameError\u001b[39m: name 'LinearRegression' is not defined"
     ]
    }
   ],
   "source": [
    "#--------------------------------------------------------#\n",
    "# 3️⃣ Huấn luyện Linear Regression\n",
    "#--------------------------------------------------------#\n",
    "model = LinearRegression()\n",
    "model.fit(X_train, y_train)"
   ]
  },
  {
   "cell_type": "code",
   "execution_count": 6,
   "id": "8abe86be",
   "metadata": {},
   "outputs": [
    {
     "name": "stdout",
     "output_type": "stream",
     "text": [
      "\n",
      "📊 Hiệu năng Linear Regression (4 Metrics):\n",
      "MAE   = 17.240 phút\n",
      "RMSE  = 37.026 phút\n",
      "R²    = 0.0272\n",
      "MAPE  = 249.79%\n"
     ]
    }
   ],
   "source": [
    "#--------------------------------------------------------#\n",
    "# 4️⃣ Dự đoán và đánh giá bằng 4 metrics\n",
    "#--------------------------------------------------------#\n",
    "y_pred = model.predict(X_test)\n",
    "\n",
    "mae  = mean_absolute_error(y_test, y_pred)\n",
    "rmse = np.sqrt(mean_squared_error(y_test, y_pred))\n",
    "r2   = r2_score(y_test, y_pred)\n",
    "mape = np.mean(np.abs((y_test - y_pred) / y_test.replace(0, np.nan))) * 100\n",
    "\n",
    "print(\"\\n📊 Hiệu năng Linear Regression (4 Metrics):\")\n",
    "print(f\"MAE   = {mae:.3f} phút\")\n",
    "print(f\"RMSE  = {rmse:.3f} phút\")\n",
    "print(f\"R²    = {r2:.4f}\")\n",
    "print(f\"MAPE  = {mape:.2f}%\")"
   ]
  },
  {
   "cell_type": "code",
   "execution_count": 7,
   "id": "13b37c99",
   "metadata": {},
   "outputs": [
    {
     "data": {
      "image/png": "[encoded data removed]",
      "text/plain": [
       "<Figure size 800x500 with 1 Axes>"
      ]
     },
     "metadata": {},
     "output_type": "display_data"
    }
   ],
   "source": [
    "#--------------------------------------------------------#\n",
    "# 5️⃣ Biểu đồ residuals để kiểm tra độ tuyến tính\n",
    "#--------------------------------------------------------#\n",
    "residuals = y_test - y_pred\n",
    "\n",
    "plt.figure(figsize=(8,5))\n",
    "plt.scatter(y_pred, residuals, alpha=0.3, color=\"steelblue\")\n",
    "plt.axhline(0, color=\"red\", linestyle=\"--\")\n",
    "plt.title(\"Residuals vs Predicted Values (Linear Regression)\")\n",
    "plt.xlabel(\"Predicted DEP_DELAY\")\n",
    "plt.ylabel(\"Residuals (y_test - y_pred)\")\n",
    "plt.show()"
   ]
  }
 ],
 "metadata": {
  "kernelspec": {
   "display_name": "Python 3",
   "language": "python",
   "name": "python3"
  },
  "language_info": {
   "codemirror_mode": {
    "name": "ipython",
    "version": 3
   },
   "file_extension": ".py",
   "mimetype": "text/x-python",
   "name": "python",
   "nbconvert_exporter": "python",
   "pygments_lexer": "ipython3",
   "version": "3.11.9"
  }
 },
 "nbformat": 4,
 "nbformat_minor": 5
}
