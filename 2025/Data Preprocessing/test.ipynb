{
 "cells": [
  {
   "cell_type": "code",
   "execution_count": 36,
   "id": "46d13bbe",
   "metadata": {},
   "outputs": [
    {
     "name": "stdout",
     "output_type": "stream",
     "text": [
      "Status: 200\n",
      "Empty DataFrame\n",
      "Columns: [STATION, DATE, REPORT_TYPE, SOURCE, AWND, BackupDirection, BackupDistance, BackupDistanceUnit, BackupElements, BackupElevation, BackupElevationUnit, BackupEquipment, BackupLatitude, BackupLongitude, BackupName, CDSD, CLDD, DSNW, DYHF, DYTS, DailyAverageDewPointTemperature, DailyAverageDryBulbTemperature, DailyAverageRelativeHumidity, DailyAverageSeaLevelPressure, DailyAverageStationPressure, DailyAverageWetBulbTemperature, DailyAverageWindSpeed, DailyCoolingDegreeDays, DailyDepartureFromNormalAverageTemperature, DailyHeatingDegreeDays, DailyMaximumDryBulbTemperature, DailyMinimumDryBulbTemperature, DailyPeakWindDirection, DailyPeakWindSpeed, DailyPrecipitation, DailySnowDepth, DailySnowfall, DailySustainedWindDirection, DailySustainedWindSpeed, DailyWeather, HDSD, HTDD, HourlyAltimeterSetting, HourlyDewPointTemperature, HourlyDryBulbTemperature, HourlyPrecipitation, HourlyPresentWeatherType, HourlyPressureChange, HourlyPressureTendency, HourlyRelativeHumidity, HourlySeaLevelPressure, HourlySkyConditions, HourlyStationPressure, HourlyVisibility, HourlyWetBulbTemperature, HourlyWindDirection, HourlyWindGustSpeed, HourlyWindSpeed, MonthlyAverageRH, MonthlyDaysWithGT001Precip, MonthlyDaysWithGT010Precip, MonthlyDaysWithGT32Temp, MonthlyDaysWithGT90Temp, MonthlyDaysWithLT0Temp, MonthlyDaysWithLT32Temp, MonthlyDepartureFromNormalAverageTemperature, MonthlyDepartureFromNormalCoolingDegreeDays, MonthlyDepartureFromNormalHeatingDegreeDays, MonthlyDepartureFromNormalMaximumTemperature, MonthlyDepartureFromNormalMinimumTemperature, MonthlyDepartureFromNormalPrecipitation, MonthlyDewpointTemperature, MonthlyGreatestPrecip, MonthlyGreatestPrecipDate, MonthlyGreatestSnowDepth, MonthlyGreatestSnowDepthDate, MonthlyGreatestSnowfall, MonthlyGreatestSnowfallDate, MonthlyMaxSeaLevelPressureValue, MonthlyMaxSeaLevelPressureValueDate, MonthlyMaxSeaLevelPressureValueTime, MonthlyMaximumTemperature, MonthlyMeanTemperature, MonthlyMinSeaLevelPressureValue, MonthlyMinSeaLevelPressureValueDate, MonthlyMinSeaLevelPressureValueTime, MonthlyMinimumTemperature, MonthlySeaLevelPressure, MonthlyStationPressure, MonthlyTotalLiquidPrecipitation, MonthlyTotalSnowfall, MonthlyWetBulb, NormalsCoolingDegreeDay, NormalsHeatingDegreeDay, REM, REPORT_TYPE.1, SOURCE.1, ShortDurationEndDate005, ShortDurationEndDate010, ShortDurationEndDate015, ...]\n",
      "Index: []\n",
      "\n",
      "[0 rows x 124 columns]\n"
     ]
    }
   ],
   "source": [
    "import requests\n",
    "import pandas as pd\n",
    "from io import StringIO\n",
    "\n",
    "# Endpoint mới\n",
    "url = \"https://www.ncei.noaa.gov/access/services/data/v1\"\n",
    "\n",
    "# Tham số\n",
    "params = {\n",
    "    \"dataset\": \"local-climatological-data\",\n",
    "    \"stations\": \"WBAN:94789\",   # JFK\n",
    "    \"startDate\": \"2018-01-01\",\n",
    "    \"endDate\": \"2018-01-31\",\n",
    "    \"format\": \"csv\"\n",
    "}\n",
    "\n",
    "# Gọi API\n",
    "response = requests.get(url, params=params)\n",
    "\n",
    "print(\"Status:\", response.status_code)\n",
    "\n",
    "# Đọc CSV vào DataFrame\n",
    "if response.status_code == 200:\n",
    "    df = pd.read_csv(StringIO(response.text))\n",
    "    print(df.head())\n",
    "else:\n",
    "    print(\"Error:\", response.text)\n"
   ]
  },
  {
   "cell_type": "code",
   "execution_count": 39,
   "id": "ae40c072",
   "metadata": {},
   "outputs": [
    {
     "name": "stdout",
     "output_type": "stream",
     "text": [
      "Status: 200\n",
      "Empty DataFrame\n",
      "Columns: [STATION, DATE, REPORT_TYPE, SOURCE, AWND, BackupDirection, BackupDistance, BackupDistanceUnit, BackupElements, BackupElevation, BackupElevationUnit, BackupEquipment, BackupLatitude, BackupLongitude, BackupName, CDSD, CLDD, DSNW, DYHF, DYTS, DailyAverageDewPointTemperature, DailyAverageDryBulbTemperature, DailyAverageRelativeHumidity, DailyAverageSeaLevelPressure, DailyAverageStationPressure, DailyAverageWetBulbTemperature, DailyAverageWindSpeed, DailyCoolingDegreeDays, DailyDepartureFromNormalAverageTemperature, DailyHeatingDegreeDays, DailyMaximumDryBulbTemperature, DailyMinimumDryBulbTemperature, DailyPeakWindDirection, DailyPeakWindSpeed, DailyPrecipitation, DailySnowDepth, DailySnowfall, DailySustainedWindDirection, DailySustainedWindSpeed, DailyWeather, HDSD, HTDD, HourlyAltimeterSetting, HourlyDewPointTemperature, HourlyDryBulbTemperature, HourlyPrecipitation, HourlyPresentWeatherType, HourlyPressureChange, HourlyPressureTendency, HourlyRelativeHumidity, HourlySeaLevelPressure, HourlySkyConditions, HourlyStationPressure, HourlyVisibility, HourlyWetBulbTemperature, HourlyWindDirection, HourlyWindGustSpeed, HourlyWindSpeed, MonthlyAverageRH, MonthlyDaysWithGT001Precip, MonthlyDaysWithGT010Precip, MonthlyDaysWithGT32Temp, MonthlyDaysWithGT90Temp, MonthlyDaysWithLT0Temp, MonthlyDaysWithLT32Temp, MonthlyDepartureFromNormalAverageTemperature, MonthlyDepartureFromNormalCoolingDegreeDays, MonthlyDepartureFromNormalHeatingDegreeDays, MonthlyDepartureFromNormalMaximumTemperature, MonthlyDepartureFromNormalMinimumTemperature, MonthlyDepartureFromNormalPrecipitation, MonthlyDewpointTemperature, MonthlyGreatestPrecip, MonthlyGreatestPrecipDate, MonthlyGreatestSnowDepth, MonthlyGreatestSnowDepthDate, MonthlyGreatestSnowfall, MonthlyGreatestSnowfallDate, MonthlyMaxSeaLevelPressureValue, MonthlyMaxSeaLevelPressureValueDate, MonthlyMaxSeaLevelPressureValueTime, MonthlyMaximumTemperature, MonthlyMeanTemperature, MonthlyMinSeaLevelPressureValue, MonthlyMinSeaLevelPressureValueDate, MonthlyMinSeaLevelPressureValueTime, MonthlyMinimumTemperature, MonthlySeaLevelPressure, MonthlyStationPressure, MonthlyTotalLiquidPrecipitation, MonthlyTotalSnowfall, MonthlyWetBulb, NormalsCoolingDegreeDay, NormalsHeatingDegreeDay, REM, REPORT_TYPE.1, SOURCE.1, ShortDurationEndDate005, ShortDurationEndDate010, ShortDurationEndDate015, ...]\n",
      "Index: []\n",
      "\n",
      "[0 rows x 124 columns]\n"
     ]
    }
   ],
   "source": [
    "import requests\n",
    "import pandas as pd\n",
    "from io import StringIO\n",
    "\n",
    "url = \"https://www.ncei.noaa.gov/access/services/data/v1\"\n",
    "\n",
    "params = {\n",
    "    \"dataset\": \"local-climatological-data\",   # dataset LCD\n",
    "    \"stations\": \"WBAN:24233\",                 # SEA Airport\n",
    "    \"startDate\": \"2018-06-01\",\n",
    "    \"endDate\": \"2025-06-03\",\n",
    "    \"format\": \"csv\"\n",
    "}\n",
    "\n",
    "response = requests.get(url, params=params)\n",
    "\n",
    "print(\"Status:\", response.status_code)\n",
    "\n",
    "if response.status_code == 200:\n",
    "    df = pd.read_csv(StringIO(response.text))\n",
    "    print(df.head())\n",
    "else:\n",
    "    print(\"Error:\", response.text)\n"
   ]
  },
  {
   "cell_type": "code",
   "execution_count": 47,
   "id": "5adeae8b",
   "metadata": {},
   "outputs": [
    {
     "name": "stdout",
     "output_type": "stream",
     "text": [
      "Các loại của ORIGIN: ['GEG' 'SEA' 'PAE' 'PSC' 'BLI']\n"
     ]
    }
   ],
   "source": [
    "import pandas as pd\n",
    "\n",
    "df = pd.read_csv('data_clean_final.csv')  # Đọc dữ liệu từ file CSV\n",
    "\n",
    "# Lọc các hàng có ORIGIN là 'WA'\n",
    "filtered_data = df[df['ORIGIN_STATE_ABR'] == 'WA']\n",
    "\n",
    "# Đếm số lượng loại khác nhau của OP_UNIQUE_CARRIER\n",
    "unique_carriers = filtered_data['ORIGIN'].unique()\n",
    "# In kết quả\n",
    "print(\"Các loại của ORIGIN:\", unique_carriers)"
   ]
  },
  {
   "cell_type": "code",
   "execution_count": 48,
   "id": "f9a28746",
   "metadata": {},
   "outputs": [
    {
     "name": "stdout",
     "output_type": "stream",
     "text": [
      "Các loại của DEST: ['GEG' 'SEA' 'PSC' 'PAE' 'BLI']\n"
     ]
    }
   ],
   "source": [
    "import pandas as pd\n",
    "\n",
    "df = pd.read_csv('data_clean_final.csv')  # Đọc dữ liệu từ file CSV\n",
    "\n",
    "# Lọc các hàng có ORIGIN là 'WA'\n",
    "filtered_data = df[df['DEST_STATE_ABR'] == 'WA']\n",
    "\n",
    "# Đếm số lượng loại khác nhau của OP_UNIQUE_CARRIER\n",
    "unique_carriers = filtered_data['DEST'].unique()\n",
    "# In kết quả\n",
    "print(\"Các loại của DEST:\", unique_carriers)"
   ]
  },
  {
   "cell_type": "code",
   "execution_count": 49,
   "id": "31453906",
   "metadata": {},
   "outputs": [
    {
     "name": "stdout",
     "output_type": "stream",
     "text": [
      "Số lượng loại của biến Dest: 85\n"
     ]
    }
   ],
   "source": [
    "import pandas as pd\n",
    "\n",
    "# Đọc tệp CSV\n",
    "data = pd.read_csv('data_clean_final.csv')\n",
    "\n",
    "# Đếm số lượng loại (giá trị duy nhất) của biến 'Dest'\n",
    "unique_dest_count = data['DEST'].nunique()\n",
    "\n",
    "print(f\"Số lượng loại của biến Dest: {unique_dest_count}\")"
   ]
  },
  {
   "cell_type": "code",
   "execution_count": null,
   "id": "54d17421",
   "metadata": {},
   "outputs": [],
   "source": []
  },
  {
   "cell_type": "code",
   "execution_count": null,
   "id": "a747e2c6",
   "metadata": {},
   "outputs": [],
   "source": []
  }
 ],
 "metadata": {
  "kernelspec": {
   "display_name": "Python 3",
   "language": "python",
   "name": "python3"
  },
  "language_info": {
   "codemirror_mode": {
    "name": "ipython",
    "version": 3
   },
   "file_extension": ".py",
   "mimetype": "text/x-python",
   "name": "python",
   "nbconvert_exporter": "python",
   "pygments_lexer": "ipython3",
   "version": "3.11.9"
  }
 },
 "nbformat": 4,
 "nbformat_minor": 5
}
