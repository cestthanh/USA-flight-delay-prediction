{
 "cells": [
  {
   "cell_type": "code",
   "execution_count": 2,
   "id": "ffee8c40",
   "metadata": {},
   "outputs": [
    {
     "name": "stdout",
     "output_type": "stream",
     "text": [
      "✅ New dataset shape: (50029, 16)\n",
      "Columns: ['MONTH', 'DAY_OF_MONTH', 'DAY_OF_WEEK', 'OP_UNIQUE_CARRIER', 'ORIGIN', 'DEST', 'CRS_DEP_TIME', 'CRS_ARR_TIME', 'CRS_ELAPSED_TIME', 'DISTANCE', 'HourlyDewPointTemperature', 'HourlyDryBulbTemperature', 'HourlyRelativeHumidity', 'HourlyVisibility', 'HourlyWindSpeed', 'DEP_DEL15']\n",
      "📁 Saved as classification_data.csv\n"
     ]
    }
   ],
   "source": [
    "# --- Import libraries ---\n",
    "import pandas as pd\n",
    "from sklearn.preprocessing import LabelEncoder, StandardScaler\n",
    "\n",
    "# --- Load original dataset ---\n",
    "df = pd.read_csv(r\"D:\\Project DS Final\\2025\\check\\final_clean_data.csv\")  \n",
    "\n",
    "# --- Select the features and target for classification ---\n",
    "selected_columns = [\n",
    "    \"MONTH\",\"DAY_OF_MONTH\",\"DAY_OF_WEEK\",\n",
    "    \"OP_UNIQUE_CARRIER\",\"ORIGIN\",\"DEST\",\n",
    "    \"CRS_DEP_TIME\",\"CRS_ARR_TIME\",\n",
    "    \"CRS_ELAPSED_TIME\",\"DISTANCE\",\n",
    "    \"HourlyDewPointTemperature\",\"HourlyDryBulbTemperature\",\n",
    "    \"HourlyRelativeHumidity\",\"HourlyVisibility\",\"HourlyWindSpeed\",\n",
    "    \"DEP_DEL15\"   # target column\n",
    "]\n",
    "\n",
    "# --- Create a new dataset with only selected columns ---\n",
    "df_classification = df[selected_columns].copy()\n",
    "\n",
    "# --- Check the result ---\n",
    "print(\"✅ New dataset shape:\", df_classification.shape)\n",
    "print(\"Columns:\", list(df_classification.columns))\n",
    "\n",
    "# --- Save to new CSV file ---\n",
    "df_classification.to_csv(\"classification_data.csv\", index=False)\n",
    "print(\"📁 Saved as classification_data.csv\")\n"
   ]
  },
  {
   "cell_type": "code",
   "execution_count": 3,
   "id": "cd2eb9af",
   "metadata": {},
   "outputs": [
    {
     "name": "stdout",
     "output_type": "stream",
     "text": [
      "✅ Encoded and scaled dataset saved as classification_encoded.csv\n",
      "   MONTH  DAY_OF_MONTH  DAY_OF_WEEK  OP_UNIQUE_CARRIER  ORIGIN  DEST  \\\n",
      "0      4             1            2                  0       1    62   \n",
      "1      4             1            2                  0       1    62   \n",
      "2      4             1            2                  0       4    14   \n",
      "3      4             1            2                  0       4    14   \n",
      "4      4             1            2                  0       4    14   \n",
      "\n",
      "   CRS_DEP_TIME  CRS_ARR_TIME  CRS_ELAPSED_TIME  DISTANCE  \\\n",
      "0     -1.371023     -1.053675         -0.190881 -0.222270   \n",
      "1      0.322520      0.511390         -0.285164 -0.222270   \n",
      "2     -1.219136      0.012848          1.353008  1.492567   \n",
      "3      0.014948      1.171957          1.364794  1.492567   \n",
      "4      1.566096     -1.646583          1.364794  1.492567   \n",
      "\n",
      "   HourlyDewPointTemperature  HourlyDryBulbTemperature  \\\n",
      "0                  -1.469068                 -2.530912   \n",
      "1                  -1.469068                 -1.567803   \n",
      "2                  -0.874567                 -1.781828   \n",
      "3                  -0.280067                 -1.139755   \n",
      "4                  -0.280067                 -1.567803   \n",
      "\n",
      "   HourlyRelativeHumidity  HourlyVisibility  HourlyWindSpeed  DEP_DEL15  \n",
      "0                1.697315         -4.942427         0.447885        0.0  \n",
      "1                0.295272          0.191082         0.447885        1.0  \n",
      "2                1.211992          0.191082        -0.588815        0.0  \n",
      "3                0.888444          0.191082        -0.588815        0.0  \n",
      "4                1.535541          0.191082        -0.329640        0.0  \n"
     ]
    }
   ],
   "source": [
    "# --- Load your dataset ---\n",
    "df = pd.read_csv(\"classification_data.csv\")\n",
    "\n",
    "# --- Encode MONTH & DAY_OF_WEEK as ordinal numbers (no change needed if numeric) ---\n",
    "# If they are numeric already (e.g., 4,5,6 for MONTH), we can keep them as-is.\n",
    "\n",
    "# --- Label encode categorical columns ---\n",
    "label_cols = [\"OP_UNIQUE_CARRIER\", \"ORIGIN\", \"DEST\"]\n",
    "le = LabelEncoder()\n",
    "\n",
    "for col in label_cols:\n",
    "    df[col] = le.fit_transform(df[col])\n",
    "\n",
    "# --- Scale numeric columns ---\n",
    "scale_cols = [\n",
    "    \"CRS_DEP_TIME\",\"CRS_ARR_TIME\",\"CRS_ELAPSED_TIME\",\"DISTANCE\",\n",
    "    \"HourlyDewPointTemperature\",\"HourlyDryBulbTemperature\",\n",
    "    \"HourlyRelativeHumidity\",\"HourlyVisibility\",\"HourlyWindSpeed\"\n",
    "]\n",
    "\n",
    "scaler = StandardScaler()\n",
    "df[scale_cols] = scaler.fit_transform(df[scale_cols])\n",
    "\n",
    "# --- Save encoded dataset ---\n",
    "df.to_csv(\"classification_encoded.csv\", index=False)\n",
    "print(\"✅ Encoded and scaled dataset saved as classification_encoded.csv\")\n",
    "print(df.head())\n"
   ]
  },
  {
   "cell_type": "code",
   "execution_count": null,
   "id": "c0cf5d3e",
   "metadata": {},
   "outputs": [],
   "source": []
  },
  {
   "cell_type": "code",
   "execution_count": null,
   "id": "81e65609",
   "metadata": {},
   "outputs": [],
   "source": []
  },
  {
   "cell_type": "code",
   "execution_count": null,
   "id": "42cf8e65",
   "metadata": {},
   "outputs": [],
   "source": []
  },
  {
   "cell_type": "code",
   "execution_count": null,
   "id": "e1140c63",
   "metadata": {},
   "outputs": [],
   "source": []
  },
  {
   "cell_type": "code",
   "execution_count": null,
   "id": "f40d0405",
   "metadata": {},
   "outputs": [],
   "source": []
  }
 ],
 "metadata": {
  "kernelspec": {
   "display_name": "Python 3",
   "language": "python",
   "name": "python3"
  },
  "language_info": {
   "codemirror_mode": {
    "name": "ipython",
    "version": 3
   },
   "file_extension": ".py",
   "mimetype": "text/x-python",
   "name": "python",
   "nbconvert_exporter": "python",
   "pygments_lexer": "ipython3",
   "version": "3.11.9"
  }
 },
 "nbformat": 4,
 "nbformat_minor": 5
}
