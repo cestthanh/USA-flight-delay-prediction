{
 "cells": [
  {
   "cell_type": "code",
   "execution_count": 9,
   "id": "1c227ef4",
   "metadata": {},
   "outputs": [],
   "source": [
    "# ===============================\n",
    "# FLIGHT DELAY BINARY CLASSIFICATION PIPELINE\n",
    "# ===============================\n",
    "\n",
    "# 📦 Import Libraries\n",
    "import pandas as pd\n",
    "import numpy as np\n",
    "from sklearn.model_selection import train_test_split\n",
    "from sklearn.preprocessing import StandardScaler\n",
    "from sklearn.metrics import accuracy_score, precision_score, recall_score, f1_score, classification_report\n",
    "from sklearn.linear_model import LogisticRegression, RidgeClassifier, LassoCV\n",
    "from sklearn.neighbors import KNeighborsClassifier\n",
    "from sklearn.ensemble import RandomForestClassifier\n",
    "from imblearn.over_sampling import SMOTE\n",
    "import matplotlib.pyplot as plt\n",
    "import seaborn as sns\n"
   ]
  },
  {
   "cell_type": "code",
   "execution_count": 10,
   "id": "f7041352",
   "metadata": {},
   "outputs": [
    {
     "name": "stdout",
     "output_type": "stream",
     "text": [
      "Data shape: (50029, 16)\n",
      "   MONTH  DAY_OF_MONTH  DAY_OF_WEEK  OP_UNIQUE_CARRIER  ORIGIN  DEST  \\\n",
      "0      4             1            2                  0       1    62   \n",
      "1      4             1            2                  0       1    62   \n",
      "2      4             1            2                  0       4    14   \n",
      "3      4             1            2                  0       4    14   \n",
      "4      4             1            2                  0       4    14   \n",
      "\n",
      "   CRS_DEP_TIME  CRS_ARR_TIME  CRS_ELAPSED_TIME  DISTANCE  \\\n",
      "0     -1.371023     -1.053675         -0.190881 -0.222270   \n",
      "1      0.322520      0.511390         -0.285164 -0.222270   \n",
      "2     -1.219136      0.012848          1.353008  1.492567   \n",
      "3      0.014948      1.171957          1.364794  1.492567   \n",
      "4      1.566096     -1.646583          1.364794  1.492567   \n",
      "\n",
      "   HourlyDewPointTemperature  HourlyDryBulbTemperature  \\\n",
      "0                  -1.469068                 -2.530912   \n",
      "1                  -1.469068                 -1.567803   \n",
      "2                  -0.874567                 -1.781828   \n",
      "3                  -0.280067                 -1.139755   \n",
      "4                  -0.280067                 -1.567803   \n",
      "\n",
      "   HourlyRelativeHumidity  HourlyVisibility  HourlyWindSpeed  DEP_DEL15  \n",
      "0                1.697315         -4.942427         0.447885        0.0  \n",
      "1                0.295272          0.191082         0.447885        1.0  \n",
      "2                1.211992          0.191082        -0.588815        0.0  \n",
      "3                0.888444          0.191082        -0.588815        0.0  \n",
      "4                1.535541          0.191082        -0.329640        0.0  \n"
     ]
    }
   ],
   "source": [
    "# 1️⃣ Load Dataset\n",
    "# ===============================\n",
    "df = pd.read_csv(r\"D:\\Project DS Final\\2025\\Data Preprocessing\\classification_encoded.csv\")   # 👈 đổi tên file nếu khác\n",
    "print(\"Data shape:\", df.shape)\n",
    "print(df.head())"
   ]
  },
  {
   "cell_type": "code",
   "execution_count": 11,
   "id": "04f69e97",
   "metadata": {},
   "outputs": [],
   "source": [
    "# 2️⃣ Check and Handle Outliers (clip numeric features)\n",
    "# ===============================\n",
    "num_cols = ['CRS_DEP_TIME','CRS_ARR_TIME','CRS_ELAPSED_TIME','DISTANCE',\n",
    "             'HourlyDewPointTemperature','HourlyDryBulbTemperature',\n",
    "             'HourlyRelativeHumidity','HourlyVisibility','HourlyWindSpeed']\n",
    "\n",
    "for col in num_cols:\n",
    "    Q1 = df[col].quantile(0.25)\n",
    "    Q3 = df[col].quantile(0.75)\n",
    "    IQR = Q3 - Q1\n",
    "    lower = Q1 - 1.5 * IQR\n",
    "    upper = Q3 + 1.5 * IQR\n",
    "    df[col] = df[col].clip(lower, upper)\n"
   ]
  },
  {
   "cell_type": "code",
   "execution_count": 12,
   "id": "c23dc399",
   "metadata": {},
   "outputs": [],
   "source": [
    "# 3️⃣ Split Feature / Target\n",
    "# ===============================\n",
    "X = df.drop('DEP_DEL15', axis=1)\n",
    "y = df['DEP_DEL15']"
   ]
  },
  {
   "cell_type": "code",
   "execution_count": 13,
   "id": "4eeedf3e",
   "metadata": {},
   "outputs": [
    {
     "name": "stdout",
     "output_type": "stream",
     "text": [
      "Class distribution after SMOTE:\n",
      " DEP_DEL15\n",
      "0.0    39853\n",
      "1.0    39853\n",
      "Name: count, dtype: int64\n"
     ]
    }
   ],
   "source": [
    "# 4️⃣ Handle Class Imbalance (SMOTE)\n",
    "# ===============================\n",
    "sm = SMOTE(random_state=42)\n",
    "X_res, y_res = sm.fit_resample(X, y)\n",
    "print(\"Class distribution after SMOTE:\\n\", y_res.value_counts())"
   ]
  },
  {
   "cell_type": "code",
   "execution_count": 14,
   "id": "ca49908a",
   "metadata": {},
   "outputs": [],
   "source": [
    "# 5️⃣ Train/Test Split\n",
    "# ===============================\n",
    "X_train, X_test, y_train, y_test = train_test_split(\n",
    "    X_res, y_res, test_size=0.2, random_state=42, stratify=y_res)"
   ]
  },
  {
   "cell_type": "code",
   "execution_count": 15,
   "id": "b2a4b8fb",
   "metadata": {},
   "outputs": [],
   "source": [
    "# 6️⃣ Scale Numeric Features\n",
    "# ===============================\n",
    "scaler = StandardScaler()\n",
    "X_train_scaled = scaler.fit_transform(X_train)\n",
    "X_test_scaled = scaler.transform(X_test)"
   ]
  },
  {
   "cell_type": "code",
   "execution_count": 18,
   "id": "f012a48e",
   "metadata": {},
   "outputs": [],
   "source": [
    "# 7️⃣ Define Models\n",
    "# ===============================\n",
    "models = {\n",
    "    \"Logistic Regression\": LogisticRegression(max_iter=1000),\n",
    "    \"Ridge Classifier\": RidgeClassifier(),\n",
    "    \"KNN\": KNeighborsClassifier(n_neighbors=5),\n",
    "    \"Random Forest\": RandomForestClassifier(n_estimators=100, random_state=42)\n",
    "}"
   ]
  },
  {
   "cell_type": "code",
   "execution_count": 19,
   "id": "d9d9e3a9",
   "metadata": {},
   "outputs": [
    {
     "name": "stdout",
     "output_type": "stream",
     "text": [
      "\n",
      "Model: Logistic Regression\n",
      "              precision    recall  f1-score   support\n",
      "\n",
      "         0.0      0.612     0.568     0.589      7971\n",
      "         1.0      0.597     0.640     0.618      7971\n",
      "\n",
      "    accuracy                          0.604     15942\n",
      "   macro avg      0.604     0.604     0.603     15942\n",
      "weighted avg      0.604     0.604     0.603     15942\n",
      "\n",
      "\n",
      "Model: Ridge Classifier\n",
      "              precision    recall  f1-score   support\n",
      "\n",
      "         0.0      0.614     0.563     0.588      7971\n",
      "         1.0      0.597     0.646     0.620      7971\n",
      "\n",
      "    accuracy                          0.605     15942\n",
      "   macro avg      0.605     0.605     0.604     15942\n",
      "weighted avg      0.605     0.605     0.604     15942\n",
      "\n",
      "\n",
      "Model: KNN\n",
      "              precision    recall  f1-score   support\n",
      "\n",
      "         0.0      0.797     0.675     0.731      7971\n",
      "         1.0      0.718     0.828     0.769      7971\n",
      "\n",
      "    accuracy                          0.751     15942\n",
      "   macro avg      0.757     0.751     0.750     15942\n",
      "weighted avg      0.757     0.751     0.750     15942\n",
      "\n",
      "\n",
      "Model: Random Forest\n",
      "              precision    recall  f1-score   support\n",
      "\n",
      "         0.0      0.847     0.883     0.865      7971\n",
      "         1.0      0.878     0.840     0.859      7971\n",
      "\n",
      "    accuracy                          0.862     15942\n",
      "   macro avg      0.862     0.862     0.862     15942\n",
      "weighted avg      0.862     0.862     0.862     15942\n",
      "\n"
     ]
    }
   ],
   "source": [
    "# 8️⃣ Train & Evaluate\n",
    "# ===============================\n",
    "results = []\n",
    "for name, model in models.items():\n",
    "    model.fit(X_train_scaled, y_train)\n",
    "    y_pred = model.predict(X_test_scaled)\n",
    "    acc = accuracy_score(y_test, y_pred)\n",
    "    prec = precision_score(y_test, y_pred)\n",
    "    rec = recall_score(y_test, y_pred)\n",
    "    f1 = f1_score(y_test, y_pred)\n",
    "    results.append([name, acc, prec, rec, f1])\n",
    "    print(f\"\\nModel: {name}\")\n",
    "    print(classification_report(y_test, y_pred, digits=3))"
   ]
  },
  {
   "cell_type": "code",
   "execution_count": 20,
   "id": "9380176e",
   "metadata": {},
   "outputs": [
    {
     "name": "stdout",
     "output_type": "stream",
     "text": [
      "\n",
      "🔹 Model Performance Comparison:\n",
      "                 Model  Accuracy  Precision    Recall        F1\n",
      "0  Logistic Regression  0.603751   0.596770  0.639819  0.617546\n",
      "1     Ridge Classifier  0.604755   0.596756  0.646092  0.620445\n",
      "2                  KNN  0.751411   0.718158  0.827625  0.769016\n",
      "3        Random Forest  0.861623   0.877736  0.840296  0.858608\n"
     ]
    }
   ],
   "source": [
    "# 9️⃣ Display Comparison Table\n",
    "# ===============================\n",
    "results_df = pd.DataFrame(results, columns=[\"Model\", \"Accuracy\", \"Precision\", \"Recall\", \"F1\"])\n",
    "print(\"\\n🔹 Model Performance Comparison:\")\n",
    "print(results_df)"
   ]
  },
  {
   "cell_type": "code",
   "execution_count": 21,
   "id": "5320d74e",
   "metadata": {},
   "outputs": [
    {
     "data": {
      "image/png": "[encoded data removed]",
      "text/plain": [
       "<Figure size 800x500 with 1 Axes>"
      ]
     },
     "metadata": {},
     "output_type": "display_data"
    }
   ],
   "source": [
    "# 🔟 Plot Performance\n",
    "# ===============================\n",
    "plt.figure(figsize=(8,5))\n",
    "sns.barplot(x=\"Model\", y=\"Accuracy\", data=results_df)\n",
    "plt.title(\"Model Accuracy Comparison\")\n",
    "plt.xticks(rotation=45)\n",
    "plt.show()\n"
   ]
  },
  {
   "cell_type": "code",
   "execution_count": null,
   "id": "749398f5",
   "metadata": {},
   "outputs": [],
   "source": []
  },
  {
   "cell_type": "code",
   "execution_count": null,
   "id": "26f3e7fb",
   "metadata": {},
   "outputs": [],
   "source": [
    "\n",
    "\n",
    "\n",
    "\n",
    "\n",
    "\n",
    "\n",
    "\n",
    "# ===============================\n",
    "\n",
    "\n",
    "# ===============================\n",
    "\n",
    "\n",
    "# ===============================\n",
    "\n",
    "\n",
    "# ===============================\n",
    "\n",
    "\n",
    "# ===============================\n",
    "\n",
    "\n",
    "# ===============================\n"
   ]
  },
  {
   "cell_type": "code",
   "execution_count": null,
   "id": "8ba3ff6c",
   "metadata": {},
   "outputs": [],
   "source": []
  },
  {
   "cell_type": "code",
   "execution_count": null,
   "id": "21688dfd",
   "metadata": {},
   "outputs": [],
   "source": []
  },
  {
   "cell_type": "code",
   "execution_count": null,
   "id": "01b2c07d",
   "metadata": {},
   "outputs": [],
   "source": []
  },
  {
   "cell_type": "code",
   "execution_count": null,
   "id": "a32ac1ab",
   "metadata": {},
   "outputs": [],
   "source": []
  },
  {
   "cell_type": "code",
   "execution_count": null,
   "id": "c95438da",
   "metadata": {},
   "outputs": [],
   "source": []
  },
  {
   "cell_type": "code",
   "execution_count": null,
   "id": "b94b8411",
   "metadata": {},
   "outputs": [],
   "source": []
  },
  {
   "cell_type": "code",
   "execution_count": null,
   "id": "8d3661f3",
   "metadata": {},
   "outputs": [],
   "source": []
  },
  {
   "cell_type": "code",
   "execution_count": null,
   "id": "f714bac9",
   "metadata": {},
   "outputs": [],
   "source": []
  }
 ],
 "metadata": {
  "kernelspec": {
   "display_name": "Python 3",
   "language": "python",
   "name": "python3"
  },
  "language_info": {
   "codemirror_mode": {
    "name": "ipython",
    "version": 3
   },
   "file_extension": ".py",
   "mimetype": "text/x-python",
   "name": "python",
   "nbconvert_exporter": "python",
   "pygments_lexer": "ipython3",
   "version": "3.11.9"
  }
 },
 "nbformat": 4,
 "nbformat_minor": 5
}
