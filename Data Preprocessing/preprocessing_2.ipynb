{
 "cells": [
  {
   "cell_type": "code",
   "execution_count": 1,
   "id": "136adb02",
   "metadata": {},
   "outputs": [
    {
     "name": "stdout",
     "output_type": "stream",
     "text": [
      "✅ Done! New column 'DATE' added and file saved as 'clean_data_with_date.csv'\n",
      "    DATE  MONTH  DAY_OF_MONTH  DAY_OF_WEEK OP_UNIQUE_CARRIER ORIGIN  \\\n",
      "0  04-01      4             1            2                AA    GEG   \n",
      "1  04-01      4             1            2                AA    GEG   \n",
      "2  04-01      4             1            2                AA    GEG   \n",
      "3  04-01      4             1            2                AA    SEA   \n",
      "4  04-01      4             1            2                AA    SEA   \n",
      "\n",
      "  ORIGIN_STATE_ABR DEST DEST_STATE_ABR  CRS_DEP_TIME  DEP_DELAY  \\\n",
      "0               WA  DFW             TX          5.57       -1.0   \n",
      "1               WA  PHX             AZ          6.53       -5.0   \n",
      "2               WA  PHX             AZ         15.45       15.0   \n",
      "3               WA  CLT             NC          7.33       -3.0   \n",
      "4               WA  CLT             NC         13.83       -3.0   \n",
      "\n",
      "   DEP_DELAY_NEW  DEP_DEL15  DEP_DELAY_GROUP  CRS_ARR_TIME  CRS_ELAPSED_TIME  \\\n",
      "0            0.0        0.0             -1.0         11.20             218.0   \n",
      "1            0.0        0.0             -1.0          9.33             168.0   \n",
      "2           15.0        1.0              1.0         18.12             160.0   \n",
      "3            0.0        0.0             -1.0         15.32             299.0   \n",
      "4            0.0        0.0             -1.0         21.83             300.0   \n",
      "\n",
      "   DISTANCE  DISTANCE_GROUP  \n",
      "0    1477.0               6  \n",
      "1    1020.0               5  \n",
      "2    1020.0               5  \n",
      "3    2279.0              10  \n",
      "4    2279.0              10  \n"
     ]
    }
   ],
   "source": [
    "# --- Import libraries ---\n",
    "import pandas as pd\n",
    "\n",
    "# --- Load dataset ---\n",
    "df = pd.read_csv(\"clean_data_delay_Flights.csv\")   # ⬅️ đổi thành tên file thật của bạn\n",
    "\n",
    "# --- Create new column 'DATE' (format: m-d) ---\n",
    "df[\"DATE\"] = df[\"MONTH\"].astype(str).str.zfill(2) + \"-\" + df[\"DAY_OF_MONTH\"].astype(str).str.zfill(2)\n",
    "# --- (Optional) Move 'DATE' to the front ---\n",
    "cols = [\"DATE\"] + [col for col in df.columns if col != \"DATE\"]\n",
    "df = df[cols]\n",
    "\n",
    "# --- Save updated dataset ---\n",
    "df.to_csv(\"clean_data_with_date.csv\", index=False)\n",
    "\n",
    "print(\"✅ Done! New column 'DATE' added and file saved as 'clean_data_with_date.csv'\")\n",
    "print(df.head())\n"
   ]
  },
  {
   "cell_type": "code",
   "execution_count": null,
   "id": "a6a8e754",
   "metadata": {},
   "outputs": [],
   "source": []
  },
  {
   "cell_type": "code",
   "execution_count": null,
   "id": "5d24c626",
   "metadata": {},
   "outputs": [],
   "source": []
  },
  {
   "cell_type": "code",
   "execution_count": null,
   "id": "879a981b",
   "metadata": {},
   "outputs": [],
   "source": []
  },
  {
   "cell_type": "code",
   "execution_count": null,
   "id": "ebcedcb2",
   "metadata": {},
   "outputs": [],
   "source": []
  },
  {
   "cell_type": "code",
   "execution_count": null,
   "id": "325ce4b6",
   "metadata": {},
   "outputs": [],
   "source": []
  },
  {
   "cell_type": "code",
   "execution_count": null,
   "id": "f4fc5c2b",
   "metadata": {},
   "outputs": [],
   "source": []
  },
  {
   "cell_type": "code",
   "execution_count": null,
   "id": "b5c2e9a8",
   "metadata": {},
   "outputs": [],
   "source": []
  }
 ],
 "metadata": {
  "kernelspec": {
   "display_name": "Python 3",
   "language": "python",
   "name": "python3"
  },
  "language_info": {
   "codemirror_mode": {
    "name": "ipython",
    "version": 3
   },
   "file_extension": ".py",
   "mimetype": "text/x-python",
   "name": "python",
   "nbconvert_exporter": "python",
   "pygments_lexer": "ipython3",
   "version": "3.11.9"
  }
 },
 "nbformat": 4,
 "nbformat_minor": 5
}
