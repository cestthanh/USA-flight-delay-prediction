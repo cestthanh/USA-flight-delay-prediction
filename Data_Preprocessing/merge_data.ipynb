{
 "cells": [
  {
   "cell_type": "code",
   "execution_count": 59,
   "id": "dba6651b",
   "metadata": {},
   "outputs": [],
   "source": [
    "import pandas as pd\n",
    "import numpy as np"
   ]
  },
  {
   "cell_type": "code",
   "execution_count": 60,
   "id": "df5db171",
   "metadata": {},
   "outputs": [
    {
     "name": "stdout",
     "output_type": "stream",
     "text": [
      "Kích thước dữ liệu sau merge: (50186, 27)\n",
      "Số lượng giá trị thiếu theo cột:\n",
      "MONTH                         0\n",
      "DAY_OF_MONTH                  0\n",
      "DAY_OF_WEEK                   0\n",
      "OP_UNIQUE_CARRIER             0\n",
      "ORIGIN                        0\n",
      "ORIGIN_STATE_ABR              0\n",
      "DEST                          0\n",
      "DEST_STATE_ABR                0\n",
      "CRS_DEP_TIME                  0\n",
      "DEP_DELAY                     0\n",
      "DEP_DELAY_NEW                 0\n",
      "DEP_DEL15                     0\n",
      "DEP_DELAY_GROUP               0\n",
      "CRS_ARR_TIME                  0\n",
      "CRS_ELAPSED_TIME              0\n",
      "DISTANCE                      0\n",
      "DISTANCE_GROUP                0\n",
      "DEP_HOUR                      0\n",
      "FL_DATE                       0\n",
      "STATION                      94\n",
      "date                         94\n",
      "hour                         94\n",
      "HourlyDewPointTemperature    94\n",
      "HourlyDryBulbTemperature     94\n",
      "HourlyRelativeHumidity       94\n",
      "HourlyVisibility             94\n",
      "HourlyWindSpeed              94\n",
      "dtype: int64\n"
     ]
    }
   ],
   "source": [
    "# --- Load ---\n",
    "flights = pd.read_csv(r\"D:\\Project DS Final\\Data\\clean_data_delay_Flights.csv\")\n",
    "weather = pd.read_csv(r\"D:\\Project DS Final\\Data\\wea_da_clean.csv\")\n",
    "\n",
    "# --- Xử lý thời gian cho flights ---\n",
    "flights[\"DEP_HOUR\"] = np.floor(flights[\"CRS_DEP_TIME\"]).astype(int)\n",
    "\n",
    "# Nếu có YEAR, dùng trực tiếp; nếu không, tạm đặt 2025\n",
    "flights[\"FL_DATE\"] = pd.to_datetime(\n",
    "    dict(year=2025, month=flights[\"MONTH\"], day=flights[\"DAY_OF_MONTH\"])\n",
    ")\n",
    "\n",
    "# --- Chuẩn hóa cột thời tiết ---\n",
    "if weather[\"date\"].str.len().min() <= 5:  # ví dụ '04-01'\n",
    "    weather[\"date\"] = \"2025-\" + weather[\"date\"]  # thêm năm tạm\n",
    "weather[\"date\"] = pd.to_datetime(weather[\"date\"], errors=\"coerce\")\n",
    "\n",
    "# --- Merge ---\n",
    "merged = flights.merge(\n",
    "    weather,\n",
    "    left_on=[\"ORIGIN\", \"FL_DATE\", \"DEP_HOUR\"],\n",
    "    right_on=[\"STATION\", \"date\", \"hour\"],\n",
    "    how=\"left\"\n",
    ")\n",
    "\n",
    "# --- 4️⃣ Hiển thị thông tin kiểm tra ---\n",
    "print(\"Kích thước dữ liệu sau merge:\", merged.shape)\n",
    "print(\"Số lượng giá trị thiếu theo cột:\")\n",
    "print(merged.isna().sum())\n"
   ]
  },
  {
   "cell_type": "code",
   "execution_count": 61,
   "id": "a976df88",
   "metadata": {},
   "outputs": [
    {
     "name": "stdout",
     "output_type": "stream",
     "text": [
      "\n",
      "Các dòng đầu tiên sau merge:\n",
      "   MONTH  DAY_OF_MONTH  DAY_OF_WEEK OP_UNIQUE_CARRIER ORIGIN ORIGIN_STATE_ABR  \\\n",
      "0      4             1            2                AA    GEG               WA   \n",
      "1      4             1            2                AA    GEG               WA   \n",
      "2      4             1            2                AA    GEG               WA   \n",
      "3      4             1            2                AA    SEA               WA   \n",
      "4      4             1            2                AA    SEA               WA   \n",
      "5      4             1            2                AA    SEA               WA   \n",
      "6      4             1            2                AA    SEA               WA   \n",
      "7      4             1            2                AA    SEA               WA   \n",
      "8      4             1            2                AA    SEA               WA   \n",
      "9      4             1            2                AA    SEA               WA   \n",
      "\n",
      "  DEST DEST_STATE_ABR  CRS_DEP_TIME  DEP_DELAY  ...  DEP_HOUR    FL_DATE  \\\n",
      "0  DFW             TX          5.57       -1.0  ...         5 2025-04-01   \n",
      "1  PHX             AZ          6.53       -5.0  ...         6 2025-04-01   \n",
      "2  PHX             AZ         15.45       15.0  ...        15 2025-04-01   \n",
      "3  CLT             NC          7.33       -3.0  ...         7 2025-04-01   \n",
      "4  CLT             NC         13.83       -3.0  ...        13 2025-04-01   \n",
      "5  CLT             NC         22.00       -6.0  ...        22 2025-04-01   \n",
      "6  DFW             TX          0.98       47.0  ...         0 2025-04-01   \n",
      "7  DFW             TX          5.37      -12.0  ...         5 2025-04-01   \n",
      "8  DFW             TX          7.00       -3.0  ...         7 2025-04-01   \n",
      "9  DFW             TX         10.68       -3.0  ...        10 2025-04-01   \n",
      "\n",
      "   STATION       date  hour  HourlyDewPointTemperature  \\\n",
      "0      GEG 2025-04-01   5.0                         34   \n",
      "1      GEG 2025-04-01   6.0                         33   \n",
      "2      GEG 2025-04-01  15.0                         33   \n",
      "3      SEA 2025-04-01   7.0                         37   \n",
      "4      SEA 2025-04-01  13.0                         41   \n",
      "5      SEA 2025-04-01  22.0                         41   \n",
      "6      SEA 2025-04-01   0.0                         40   \n",
      "7      SEA 2025-04-01   5.0                         38   \n",
      "8      SEA 2025-04-01   7.0                         37   \n",
      "9      SEA 2025-04-01  10.0                         41   \n",
      "\n",
      "   HourlyDryBulbTemperature  HourlyRelativeHumidity HourlyVisibility  \\\n",
      "0                        36                      93            0.50s   \n",
      "1                        36                      89                5   \n",
      "2                        45                      63               10   \n",
      "3                        43                      80               10   \n",
      "4                        49                      74               10   \n",
      "5                        45                      86               10   \n",
      "6                        43                      89               10   \n",
      "7                        42                      85               10   \n",
      "8                        43                      80               10   \n",
      "9                        44                      89               10   \n",
      "\n",
      "  HourlyWindSpeed  \n",
      "0              13  \n",
      "1              10  \n",
      "2              10  \n",
      "3               6  \n",
      "4               6  \n",
      "5               7  \n",
      "6               8  \n",
      "7               3  \n",
      "8               6  \n",
      "9               6  \n",
      "\n",
      "[10 rows x 27 columns]\n"
     ]
    }
   ],
   "source": [
    "# --- 5️⃣ Xem 10 dòng đầu để kiểm tra kết quả merge ---\n",
    "print(\"\\nCác dòng đầu tiên sau merge:\")\n",
    "print(merged.head(10))"
   ]
  },
  {
   "cell_type": "code",
   "execution_count": 62,
   "id": "56bda356",
   "metadata": {},
   "outputs": [
    {
     "name": "stdout",
     "output_type": "stream",
     "text": [
      "Kích thước sau khi xóa: (50186, 22)\n",
      "Các cột hiện còn: ['MONTH', 'DAY_OF_MONTH', 'DAY_OF_WEEK', 'OP_UNIQUE_CARRIER', 'ORIGIN', 'ORIGIN_STATE_ABR', 'DEST', 'DEST_STATE_ABR', 'CRS_DEP_TIME', 'DEP_DELAY', 'DEP_DELAY_NEW', 'DEP_DEL15', 'DEP_DELAY_GROUP', 'CRS_ARR_TIME', 'CRS_ELAPSED_TIME', 'DISTANCE', 'DISTANCE_GROUP', 'HourlyDewPointTemperature', 'HourlyDryBulbTemperature', 'HourlyRelativeHumidity', 'HourlyVisibility', 'HourlyWindSpeed']\n"
     ]
    }
   ],
   "source": [
    "cols_to_drop = [\"DEP_HOUR\", \"FL_DATE\", \"STATION\", \"date\", \"hour\"]\n",
    "merged.drop(columns=cols_to_drop, inplace=True, errors=\"ignore\")\n",
    "\n",
    "print(\"Kích thước sau khi xóa:\", merged.shape)\n",
    "print(\"Các cột hiện còn:\", list(merged.columns))\n"
   ]
  },
  {
   "cell_type": "code",
   "execution_count": 63,
   "id": "0eebba4d",
   "metadata": {},
   "outputs": [
    {
     "name": "stdout",
     "output_type": "stream",
     "text": [
      "🧹 Đã xóa 157 dòng có dữ liệu thời tiết lỗi hoặc thiếu.\n",
      "📊 Dữ liệu còn lại: 50,029 dòng.\n"
     ]
    }
   ],
   "source": [
    "# Danh sách các cột thời tiết\n",
    "weather_cols = [\n",
    "    \"HourlyDewPointTemperature\",\n",
    "    \"HourlyDryBulbTemperature\",\n",
    "    \"HourlyRelativeHumidity\",\n",
    "    \"HourlyVisibility\",\n",
    "    \"HourlyWindSpeed\"\n",
    "]\n",
    "\n",
    "# Các ký hiệu lỗi cần loại bỏ\n",
    "invalid_values = [\"*\", \"\", \" \", \"M\", \"T\", \"0.50s\", \"10.00s\", \"9999\", \"-9999\"]\n",
    "\n",
    "# 1️⃣ Thay thế giá trị lỗi bằng NaN\n",
    "merged[weather_cols] = merged[weather_cols].replace(invalid_values, np.nan)\n",
    "\n",
    "# 2️⃣ Ép kiểu về float (có thể tạo thêm NaN nếu giá trị không hợp lệ)\n",
    "merged[weather_cols] = merged[weather_cols].apply(pd.to_numeric, errors=\"coerce\")\n",
    "\n",
    "# 3️⃣ Drop các hàng có NaN trong cột thời tiết\n",
    "before = merged.shape[0]\n",
    "merged.dropna(subset=weather_cols, inplace=True)\n",
    "after = merged.shape[0]\n",
    "\n",
    "print(f\"🧹 Đã xóa {before - after:,} dòng có dữ liệu thời tiết lỗi hoặc thiếu.\")\n",
    "print(f\"📊 Dữ liệu còn lại: {after:,} dòng.\")\n"
   ]
  },
  {
   "cell_type": "code",
   "execution_count": 64,
   "id": "a2726245",
   "metadata": {},
   "outputs": [],
   "source": [
    "# --- Lọc các dòng có DEP_DELAY < 35 ---\n",
    "before_filter = merged.shape[0]\n",
    "merged = merged[merged[\"DEP_DELAY\"] <= 35]\n",
    "after_filter = merged.shape[0]"
   ]
  },
  {
   "cell_type": "code",
   "execution_count": 65,
   "id": "0e7e57d7",
   "metadata": {},
   "outputs": [],
   "source": [
    "merged.to_csv(r\"D:\\Project DS Final\\Data\\final_clean_data.csv\", index=False)"
   ]
  }
 ],
 "metadata": {
  "kernelspec": {
   "display_name": "Python 3",
   "language": "python",
   "name": "python3"
  },
  "language_info": {
   "codemirror_mode": {
    "name": "ipython",
    "version": 3
   },
   "file_extension": ".py",
   "mimetype": "text/x-python",
   "name": "python",
   "nbconvert_exporter": "python",
   "pygments_lexer": "ipython3",
   "version": "3.11.9"
  }
 },
 "nbformat": 4,
 "nbformat_minor": 5
}
